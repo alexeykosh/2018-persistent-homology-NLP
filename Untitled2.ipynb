{
 "cells": [
  {
   "cell_type": "code",
   "execution_count": 1,
   "metadata": {},
   "outputs": [],
   "source": [
    "import pandas as pd\n",
    "import nltk\n",
    "import matplotlib.pyplot as plt\n",
    "from sklearn.feature_extraction.text import TfidfVectorizer, CountVectorizer, TfidfTransformer\n",
    "from sklearn.preprocessing import StandardScaler\n",
    "from textblob import TextBlob\n",
    "import operator\n",
    "from nltk.corpus import stopwords\n",
    "from gensim.models import word2vec, KeyedVectors\n",
    "from persistent.persistent import PersistentPreTrained, PersistentNonTrained\n",
    "import numpy as np\n",
    "from sklearn.model_selection import train_test_split\n",
    "from sklearn.linear_model import LogisticRegression\n",
    "from sklearn.metrics import roc_curve, auc"
   ]
  },
  {
   "cell_type": "markdown",
   "metadata": {},
   "source": [
    "# Spam"
   ]
  },
  {
   "cell_type": "markdown",
   "metadata": {},
   "source": [
    "## Persistent homology"
   ]
  },
  {
   "cell_type": "code",
   "execution_count": 2,
   "metadata": {},
   "outputs": [],
   "source": [
    "flatten = lambda l: [item for sublist in l for item in sublist]"
   ]
  },
  {
   "cell_type": "code",
   "execution_count": 3,
   "metadata": {},
   "outputs": [],
   "source": [
    "train = pd.read_csv('data/train.csv')\n",
    "test = pd.read_csv('data/test.csv')\n",
    "texts = pd.read_csv('data/texts.csv')"
   ]
  },
  {
   "cell_type": "code",
   "execution_count": 4,
   "metadata": {},
   "outputs": [],
   "source": [
    "texts.TEXT = texts.TEXT.str.replace('[^\\w\\s]','')\n",
    "\n",
    "w_tokenizer = nltk.tokenize.WhitespaceTokenizer()\n",
    "lemmatizer = nltk.stem.WordNetLemmatizer()\n",
    "\n",
    "def lemmatize_text(text):\n",
    "    return [lemmatizer.lemmatize(w) for w in w_tokenizer.tokenize(text)]\n",
    "\n",
    "texts['TEXT_L'] = texts.TEXT.apply(lemmatize_text)"
   ]
  },
  {
   "cell_type": "code",
   "execution_count": 5,
   "metadata": {},
   "outputs": [],
   "source": [
    "texts_l = texts.TEXT_L\n",
    "\n",
    "texts_ph = []\n",
    "\n",
    "for element in texts_l:\n",
    "    try:\n",
    "        a = PersistentNonTrained(split_sent=element, min_count=1, workers=-1)\n",
    "        dgms = a.persistent()\n",
    "        texts_ph.append(flatten([[p.birth for p in dgms[1]], [p.death for p in dgms[1]]]))\n",
    "    except:\n",
    "        texts_ph.append([])"
   ]
  },
  {
   "cell_type": "code",
   "execution_count": 6,
   "metadata": {},
   "outputs": [
    {
     "data": {
      "text/html": [
       "<div>\n",
       "<table border=\"1\" class=\"dataframe\">\n",
       "  <thead>\n",
       "    <tr style=\"text-align: right;\">\n",
       "      <th></th>\n",
       "      <th>0</th>\n",
       "      <th>1</th>\n",
       "      <th>2</th>\n",
       "      <th>3</th>\n",
       "      <th>4</th>\n",
       "      <th>5</th>\n",
       "      <th>6</th>\n",
       "      <th>7</th>\n",
       "      <th>8</th>\n",
       "      <th>9</th>\n",
       "      <th>...</th>\n",
       "      <th>1324</th>\n",
       "      <th>1325</th>\n",
       "      <th>1326</th>\n",
       "      <th>1327</th>\n",
       "      <th>1328</th>\n",
       "      <th>1329</th>\n",
       "      <th>1330</th>\n",
       "      <th>1331</th>\n",
       "      <th>1332</th>\n",
       "      <th>1333</th>\n",
       "    </tr>\n",
       "  </thead>\n",
       "  <tbody>\n",
       "    <tr>\n",
       "      <th>0</th>\n",
       "      <td>-0.003222</td>\n",
       "      <td>-0.003164</td>\n",
       "      <td>-0.002950</td>\n",
       "      <td>-0.002450</td>\n",
       "      <td>-0.002064</td>\n",
       "      <td>-0.001877</td>\n",
       "      <td>-0.001414</td>\n",
       "      <td>-0.001250</td>\n",
       "      <td>-0.001161</td>\n",
       "      <td>-0.001142</td>\n",
       "      <td>...</td>\n",
       "      <td>NaN</td>\n",
       "      <td>NaN</td>\n",
       "      <td>NaN</td>\n",
       "      <td>NaN</td>\n",
       "      <td>NaN</td>\n",
       "      <td>NaN</td>\n",
       "      <td>NaN</td>\n",
       "      <td>NaN</td>\n",
       "      <td>NaN</td>\n",
       "      <td>NaN</td>\n",
       "    </tr>\n",
       "    <tr>\n",
       "      <th>1</th>\n",
       "      <td>-0.002950</td>\n",
       "      <td>-0.002280</td>\n",
       "      <td>-0.001803</td>\n",
       "      <td>-0.001697</td>\n",
       "      <td>-0.001533</td>\n",
       "      <td>-0.001326</td>\n",
       "      <td>-0.001286</td>\n",
       "      <td>-0.001275</td>\n",
       "      <td>-0.001250</td>\n",
       "      <td>-0.001082</td>\n",
       "      <td>...</td>\n",
       "      <td>NaN</td>\n",
       "      <td>NaN</td>\n",
       "      <td>NaN</td>\n",
       "      <td>NaN</td>\n",
       "      <td>NaN</td>\n",
       "      <td>NaN</td>\n",
       "      <td>NaN</td>\n",
       "      <td>NaN</td>\n",
       "      <td>NaN</td>\n",
       "      <td>NaN</td>\n",
       "    </tr>\n",
       "    <tr>\n",
       "      <th>2</th>\n",
       "      <td>-0.002745</td>\n",
       "      <td>-0.001796</td>\n",
       "      <td>-0.001593</td>\n",
       "      <td>-0.001558</td>\n",
       "      <td>-0.001491</td>\n",
       "      <td>-0.001480</td>\n",
       "      <td>-0.001349</td>\n",
       "      <td>-0.001342</td>\n",
       "      <td>-0.001292</td>\n",
       "      <td>-0.000883</td>\n",
       "      <td>...</td>\n",
       "      <td>NaN</td>\n",
       "      <td>NaN</td>\n",
       "      <td>NaN</td>\n",
       "      <td>NaN</td>\n",
       "      <td>NaN</td>\n",
       "      <td>NaN</td>\n",
       "      <td>NaN</td>\n",
       "      <td>NaN</td>\n",
       "      <td>NaN</td>\n",
       "      <td>NaN</td>\n",
       "    </tr>\n",
       "    <tr>\n",
       "      <th>3</th>\n",
       "      <td>-0.002950</td>\n",
       "      <td>-0.001385</td>\n",
       "      <td>-0.001349</td>\n",
       "      <td>-0.001141</td>\n",
       "      <td>-0.001125</td>\n",
       "      <td>-0.000859</td>\n",
       "      <td>-0.000820</td>\n",
       "      <td>-0.000806</td>\n",
       "      <td>-0.000684</td>\n",
       "      <td>-0.000616</td>\n",
       "      <td>...</td>\n",
       "      <td>NaN</td>\n",
       "      <td>NaN</td>\n",
       "      <td>NaN</td>\n",
       "      <td>NaN</td>\n",
       "      <td>NaN</td>\n",
       "      <td>NaN</td>\n",
       "      <td>NaN</td>\n",
       "      <td>NaN</td>\n",
       "      <td>NaN</td>\n",
       "      <td>NaN</td>\n",
       "    </tr>\n",
       "    <tr>\n",
       "      <th>4</th>\n",
       "      <td>-0.001765</td>\n",
       "      <td>-0.001593</td>\n",
       "      <td>-0.001575</td>\n",
       "      <td>-0.001568</td>\n",
       "      <td>-0.001476</td>\n",
       "      <td>-0.001455</td>\n",
       "      <td>-0.001422</td>\n",
       "      <td>-0.001388</td>\n",
       "      <td>-0.001388</td>\n",
       "      <td>-0.001292</td>\n",
       "      <td>...</td>\n",
       "      <td>NaN</td>\n",
       "      <td>NaN</td>\n",
       "      <td>NaN</td>\n",
       "      <td>NaN</td>\n",
       "      <td>NaN</td>\n",
       "      <td>NaN</td>\n",
       "      <td>NaN</td>\n",
       "      <td>NaN</td>\n",
       "      <td>NaN</td>\n",
       "      <td>NaN</td>\n",
       "    </tr>\n",
       "    <tr>\n",
       "      <th>5</th>\n",
       "      <td>-0.002293</td>\n",
       "      <td>-0.001691</td>\n",
       "      <td>-0.001258</td>\n",
       "      <td>-0.000558</td>\n",
       "      <td>-0.000552</td>\n",
       "      <td>-0.000448</td>\n",
       "      <td>-0.000198</td>\n",
       "      <td>-0.000159</td>\n",
       "      <td>-0.000058</td>\n",
       "      <td>-0.000041</td>\n",
       "      <td>...</td>\n",
       "      <td>NaN</td>\n",
       "      <td>NaN</td>\n",
       "      <td>NaN</td>\n",
       "      <td>NaN</td>\n",
       "      <td>NaN</td>\n",
       "      <td>NaN</td>\n",
       "      <td>NaN</td>\n",
       "      <td>NaN</td>\n",
       "      <td>NaN</td>\n",
       "      <td>NaN</td>\n",
       "    </tr>\n",
       "    <tr>\n",
       "      <th>6</th>\n",
       "      <td>-0.002450</td>\n",
       "      <td>-0.001942</td>\n",
       "      <td>-0.001521</td>\n",
       "      <td>-0.001349</td>\n",
       "      <td>-0.001161</td>\n",
       "      <td>-0.001142</td>\n",
       "      <td>-0.000874</td>\n",
       "      <td>-0.000825</td>\n",
       "      <td>-0.000799</td>\n",
       "      <td>-0.000680</td>\n",
       "      <td>...</td>\n",
       "      <td>NaN</td>\n",
       "      <td>NaN</td>\n",
       "      <td>NaN</td>\n",
       "      <td>NaN</td>\n",
       "      <td>NaN</td>\n",
       "      <td>NaN</td>\n",
       "      <td>NaN</td>\n",
       "      <td>NaN</td>\n",
       "      <td>NaN</td>\n",
       "      <td>NaN</td>\n",
       "    </tr>\n",
       "    <tr>\n",
       "      <th>7</th>\n",
       "      <td>-0.002785</td>\n",
       "      <td>-0.002052</td>\n",
       "      <td>-0.001153</td>\n",
       "      <td>-0.001147</td>\n",
       "      <td>-0.001142</td>\n",
       "      <td>-0.001085</td>\n",
       "      <td>-0.001072</td>\n",
       "      <td>-0.001032</td>\n",
       "      <td>-0.000891</td>\n",
       "      <td>-0.000882</td>\n",
       "      <td>...</td>\n",
       "      <td>NaN</td>\n",
       "      <td>NaN</td>\n",
       "      <td>NaN</td>\n",
       "      <td>NaN</td>\n",
       "      <td>NaN</td>\n",
       "      <td>NaN</td>\n",
       "      <td>NaN</td>\n",
       "      <td>NaN</td>\n",
       "      <td>NaN</td>\n",
       "      <td>NaN</td>\n",
       "    </tr>\n",
       "    <tr>\n",
       "      <th>8</th>\n",
       "      <td>-0.002285</td>\n",
       "      <td>-0.001942</td>\n",
       "      <td>-0.001670</td>\n",
       "      <td>-0.001455</td>\n",
       "      <td>-0.001359</td>\n",
       "      <td>-0.001250</td>\n",
       "      <td>-0.000891</td>\n",
       "      <td>-0.000859</td>\n",
       "      <td>-0.000702</td>\n",
       "      <td>-0.000610</td>\n",
       "      <td>...</td>\n",
       "      <td>NaN</td>\n",
       "      <td>NaN</td>\n",
       "      <td>NaN</td>\n",
       "      <td>NaN</td>\n",
       "      <td>NaN</td>\n",
       "      <td>NaN</td>\n",
       "      <td>NaN</td>\n",
       "      <td>NaN</td>\n",
       "      <td>NaN</td>\n",
       "      <td>NaN</td>\n",
       "    </tr>\n",
       "    <tr>\n",
       "      <th>9</th>\n",
       "      <td>-0.002544</td>\n",
       "      <td>-0.002089</td>\n",
       "      <td>-0.001869</td>\n",
       "      <td>-0.001842</td>\n",
       "      <td>-0.001730</td>\n",
       "      <td>-0.001697</td>\n",
       "      <td>-0.001431</td>\n",
       "      <td>-0.001396</td>\n",
       "      <td>-0.001388</td>\n",
       "      <td>-0.001376</td>\n",
       "      <td>...</td>\n",
       "      <td>NaN</td>\n",
       "      <td>NaN</td>\n",
       "      <td>NaN</td>\n",
       "      <td>NaN</td>\n",
       "      <td>NaN</td>\n",
       "      <td>NaN</td>\n",
       "      <td>NaN</td>\n",
       "      <td>NaN</td>\n",
       "      <td>NaN</td>\n",
       "      <td>NaN</td>\n",
       "    </tr>\n",
       "  </tbody>\n",
       "</table>\n",
       "<p>10 rows × 1334 columns</p>\n",
       "</div>"
      ],
      "text/plain": [
       "       0         1         2         3         4         5         6     \\\n",
       "0 -0.003222 -0.003164 -0.002950 -0.002450 -0.002064 -0.001877 -0.001414   \n",
       "1 -0.002950 -0.002280 -0.001803 -0.001697 -0.001533 -0.001326 -0.001286   \n",
       "2 -0.002745 -0.001796 -0.001593 -0.001558 -0.001491 -0.001480 -0.001349   \n",
       "3 -0.002950 -0.001385 -0.001349 -0.001141 -0.001125 -0.000859 -0.000820   \n",
       "4 -0.001765 -0.001593 -0.001575 -0.001568 -0.001476 -0.001455 -0.001422   \n",
       "5 -0.002293 -0.001691 -0.001258 -0.000558 -0.000552 -0.000448 -0.000198   \n",
       "6 -0.002450 -0.001942 -0.001521 -0.001349 -0.001161 -0.001142 -0.000874   \n",
       "7 -0.002785 -0.002052 -0.001153 -0.001147 -0.001142 -0.001085 -0.001072   \n",
       "8 -0.002285 -0.001942 -0.001670 -0.001455 -0.001359 -0.001250 -0.000891   \n",
       "9 -0.002544 -0.002089 -0.001869 -0.001842 -0.001730 -0.001697 -0.001431   \n",
       "\n",
       "       7         8         9     ...   1324  1325  1326  1327  1328  1329  \\\n",
       "0 -0.001250 -0.001161 -0.001142  ...    NaN   NaN   NaN   NaN   NaN   NaN   \n",
       "1 -0.001275 -0.001250 -0.001082  ...    NaN   NaN   NaN   NaN   NaN   NaN   \n",
       "2 -0.001342 -0.001292 -0.000883  ...    NaN   NaN   NaN   NaN   NaN   NaN   \n",
       "3 -0.000806 -0.000684 -0.000616  ...    NaN   NaN   NaN   NaN   NaN   NaN   \n",
       "4 -0.001388 -0.001388 -0.001292  ...    NaN   NaN   NaN   NaN   NaN   NaN   \n",
       "5 -0.000159 -0.000058 -0.000041  ...    NaN   NaN   NaN   NaN   NaN   NaN   \n",
       "6 -0.000825 -0.000799 -0.000680  ...    NaN   NaN   NaN   NaN   NaN   NaN   \n",
       "7 -0.001032 -0.000891 -0.000882  ...    NaN   NaN   NaN   NaN   NaN   NaN   \n",
       "8 -0.000859 -0.000702 -0.000610  ...    NaN   NaN   NaN   NaN   NaN   NaN   \n",
       "9 -0.001396 -0.001388 -0.001376  ...    NaN   NaN   NaN   NaN   NaN   NaN   \n",
       "\n",
       "   1330  1331  1332  1333  \n",
       "0   NaN   NaN   NaN   NaN  \n",
       "1   NaN   NaN   NaN   NaN  \n",
       "2   NaN   NaN   NaN   NaN  \n",
       "3   NaN   NaN   NaN   NaN  \n",
       "4   NaN   NaN   NaN   NaN  \n",
       "5   NaN   NaN   NaN   NaN  \n",
       "6   NaN   NaN   NaN   NaN  \n",
       "7   NaN   NaN   NaN   NaN  \n",
       "8   NaN   NaN   NaN   NaN  \n",
       "9   NaN   NaN   NaN   NaN  \n",
       "\n",
       "[10 rows x 1334 columns]"
      ]
     },
     "execution_count": 6,
     "metadata": {},
     "output_type": "execute_result"
    }
   ],
   "source": [
    "text_ph_df = pd.DataFrame(texts_ph)\n",
    "text_ph_df.head(10)"
   ]
  },
  {
   "cell_type": "code",
   "execution_count": 7,
   "metadata": {},
   "outputs": [],
   "source": [
    "text_ph_df['ID'] = texts['ID']\n",
    "\n",
    "X = pd.merge(train, text_ph_df.fillna(0), on='ID', how='left').drop(['ID', 'CATEGORY'], 1).values\n",
    "y = pd.factorize(train['CATEGORY'])[0]"
   ]
  },
  {
   "cell_type": "code",
   "execution_count": 8,
   "metadata": {},
   "outputs": [
    {
     "data": {
      "text/plain": [
       "(3825, 1334)"
      ]
     },
     "execution_count": 8,
     "metadata": {},
     "output_type": "execute_result"
    }
   ],
   "source": [
    "X.shape"
   ]
  },
  {
   "cell_type": "code",
   "execution_count": 9,
   "metadata": {},
   "outputs": [],
   "source": [
    "X_train, X_test, y_train, y_test = train_test_split(X, y, test_size=0.3)"
   ]
  },
  {
   "cell_type": "code",
   "execution_count": 10,
   "metadata": {},
   "outputs": [
    {
     "data": {
      "text/plain": [
       "(1148, 1334)"
      ]
     },
     "execution_count": 10,
     "metadata": {},
     "output_type": "execute_result"
    }
   ],
   "source": [
    "X_test.shape"
   ]
  },
  {
   "cell_type": "code",
   "execution_count": 11,
   "metadata": {},
   "outputs": [],
   "source": [
    "logist = LogisticRegression()"
   ]
  },
  {
   "cell_type": "code",
   "execution_count": 12,
   "metadata": {},
   "outputs": [],
   "source": [
    "def get_roc_auc(model, X_test, y_test):\n",
    "    fpr, tpr, _ = roc_curve(y_test, model.predict_proba(X_test)[:,1], pos_label=1)\n",
    "    auc_s = auc(fpr, tpr)\n",
    "    \n",
    "    return fpr, tpr, auc_s "
   ]
  },
  {
   "cell_type": "code",
   "execution_count": 13,
   "metadata": {},
   "outputs": [
    {
     "data": {
      "text/plain": [
       "LogisticRegression(C=1.0, class_weight=None, dual=False, fit_intercept=True,\n",
       "          intercept_scaling=1, max_iter=100, multi_class='ovr', n_jobs=1,\n",
       "          penalty='l2', random_state=None, solver='liblinear', tol=0.0001,\n",
       "          verbose=0, warm_start=False)"
      ]
     },
     "execution_count": 13,
     "metadata": {},
     "output_type": "execute_result"
    }
   ],
   "source": [
    "logist.fit(X_train, y_train)"
   ]
  },
  {
   "cell_type": "markdown",
   "metadata": {},
   "source": [
    "## Tf-Idf"
   ]
  },
  {
   "cell_type": "code",
   "execution_count": null,
   "metadata": {},
   "outputs": [],
   "source": [
    "word_vectorizer = TfidfVectorizer(\n",
    "    sublinear_tf=True,\n",
    "    strip_accents='unicode',\n",
    "    analyzer='word',\n",
    "    token_pattern=r'\\w{1,}',\n",
    "    stop_words='english',\n",
    "    ngram_range=(1, 2),\n",
    "    max_features=10000)\n",
    "\n",
    "text_tfidf = word_vectorizer.fit_transform(texts.TEXT).toarray()\n",
    "\n",
    "text_tfidf = pd.DataFrame(text_tfidf)\n",
    "\n",
    "text_tfidf['ID'] = texts['ID']"
   ]
  },
  {
   "cell_type": "code",
   "execution_count": null,
   "metadata": {},
   "outputs": [],
   "source": [
    "X_ti = pd.merge(train, text_tfidf, on='ID', how='left').drop(['ID', 'CATEGORY'], 1).values\n",
    "y_ti = pd.factorize(train['CATEGORY'])[0]"
   ]
  },
  {
   "cell_type": "code",
   "execution_count": null,
   "metadata": {},
   "outputs": [],
   "source": [
    "X_train_ti, X_test_ti, y_train_ti, y_test_ti = train_test_split(X_ti, y_ti, test_size=0.3)"
   ]
  },
  {
   "cell_type": "code",
   "execution_count": null,
   "metadata": {},
   "outputs": [],
   "source": [
    "logist_ti = LogisticRegression()"
   ]
  },
  {
   "cell_type": "code",
   "execution_count": null,
   "metadata": {},
   "outputs": [],
   "source": [
    "logist_ti.fit(X_train_ti, y_train_ti)"
   ]
  },
  {
   "cell_type": "markdown",
   "metadata": {},
   "source": [
    "## BoW"
   ]
  },
  {
   "cell_type": "code",
   "execution_count": null,
   "metadata": {},
   "outputs": [],
   "source": [
    "from sklearn.feature_extraction.text import CountVectorizer\n",
    "\n",
    "bigram_vectorizer = CountVectorizer(ngram_range=(1, 2), token_pattern=r'\\b\\w+\\b', min_df=1)\n",
    "\n",
    "text_bow = bigram_vectorizer.fit_transform(texts.TEXT).toarray()\n",
    "\n",
    "text_bow = pd.DataFrame(text_bow)\n",
    "\n",
    "text_bow['ID'] = texts['ID']\n",
    "\n",
    "X_bow = pd.merge(train, text_bow, on='ID', how='left').drop(['ID', 'CATEGORY'], 1).values\n",
    "y_bow = pd.factorize(train['CATEGORY'])[0]"
   ]
  },
  {
   "cell_type": "code",
   "execution_count": null,
   "metadata": {},
   "outputs": [],
   "source": [
    "X_train_bow, X_test_bow, y_train_bow, y_test_bow = train_test_split(X_bow, y_bow, test_size=0.3)"
   ]
  },
  {
   "cell_type": "code",
   "execution_count": null,
   "metadata": {},
   "outputs": [],
   "source": [
    "from sklearn.svm import SVC\n",
    "svc = SVC(probability=True, verbose=True)"
   ]
  },
  {
   "cell_type": "code",
   "execution_count": null,
   "metadata": {},
   "outputs": [],
   "source": [
    "svc.fit(X_train_bow, y_train_bow)"
   ]
  },
  {
   "cell_type": "code",
   "execution_count": null,
   "metadata": {},
   "outputs": [],
   "source": [
    "plt.figure(figsize=(10, 7))\n",
    "\n",
    "lw = 2\n",
    "\n",
    "fpr, tpr, auc_s = get_roc_auc(logist, X_test, y_test)\n",
    "\n",
    "plt.plot(fpr, tpr, color='darkorange',\n",
    "         lw=lw, \n",
    "         label=('Logitstic regression + w2v + PH (area under the curve:{0:0.2f})'.format(auc_s)))\n",
    "\n",
    "fpr, tpr, auc_s = get_roc_auc(logist_ti, X_test_ti, y_test_ti)\n",
    "\n",
    "plt.plot(fpr, tpr, color='red',\n",
    "         lw=lw, \n",
    "         label=('Logitstic regression + tf-idf (area under the curve:{0:0.2f})'.format(auc_s)))\n",
    "\n",
    "plt.xlim([0.0, 1.0])\n",
    "plt.ylim([0.0, 1.05])\n",
    "\n",
    "fpr, tpr, auc_s = get_roc_auc(svc, X_test_bow, y_test_bow)\n",
    "\n",
    "plt.plot(fpr, tpr, color='blue',\n",
    "         lw=lw, \n",
    "         label=('SVC + BoW (area under the curve:{0:0.2f})'.format(auc_s)))\n",
    "\n",
    "plt.xlim([0.0, 1.0])\n",
    "plt.ylim([0.0, 1.05])\n",
    "\n",
    "plt.xlabel('False Positive Rate')\n",
    "plt.ylabel('True Positive Rate')\n",
    "plt.legend(loc=\"lower right\")\n",
    "\n",
    "plt.show()"
   ]
  },
  {
   "cell_type": "markdown",
   "metadata": {},
   "source": [
    "# Emotion"
   ]
  },
  {
   "cell_type": "code",
   "execution_count": null,
   "metadata": {},
   "outputs": [],
   "source": [
    "data_twit = pd.read_csv('data/Sentiment Analysis Dataset.csv', encoding = \"ISO-8859-1\")"
   ]
  },
  {
   "cell_type": "code",
   "execution_count": null,
   "metadata": {},
   "outputs": [],
   "source": [
    "data_twit.TEXT = data_twit.SentimentText.str.replace('[^\\w\\s]','')\n",
    "\n",
    "def lemmatize_text(text):\n",
    "    return [lemmatizer.lemmatize(w) for w in w_tokenizer.tokenize(text)]\n",
    "\n",
    "data_twit['TEXT_L'] = data_twit.SentimentText.apply(lemmatize_text)"
   ]
  },
  {
   "cell_type": "code",
   "execution_count": null,
   "metadata": {},
   "outputs": [],
   "source": [
    "data_twit = data_twit[0:10000]"
   ]
  },
  {
   "cell_type": "code",
   "execution_count": null,
   "metadata": {},
   "outputs": [],
   "source": [
    "data_twit.head(10)"
   ]
  },
  {
   "cell_type": "markdown",
   "metadata": {},
   "source": [
    "## Persistent homology"
   ]
  },
  {
   "cell_type": "code",
   "execution_count": null,
   "metadata": {},
   "outputs": [],
   "source": [
    "from sklearn.svm import SVC"
   ]
  },
  {
   "cell_type": "code",
   "execution_count": null,
   "metadata": {},
   "outputs": [],
   "source": [
    "texts_ph = []\n",
    "\n",
    "for element in data_twit['TEXT_L']:\n",
    "    try:\n",
    "        a = PersistentNonTrained(split_sent=element, min_count=1, workers=-1)\n",
    "        dgms = a.persistent()\n",
    "        texts_ph.append(flatten([[p.birth for p in dgms[1]], [p.death for p in dgms[1]]]))\n",
    "    except:\n",
    "        texts_ph.append([])"
   ]
  },
  {
   "cell_type": "code",
   "execution_count": null,
   "metadata": {},
   "outputs": [],
   "source": [
    "text_ph = pd.DataFrame(texts_ph)\n",
    "\n",
    "X_twit = text_ph.fillna(0).values\n",
    "y_twit = data_twit.Sentiment[0:10000]"
   ]
  },
  {
   "cell_type": "code",
   "execution_count": null,
   "metadata": {},
   "outputs": [],
   "source": [
    "svc_em = SVC(probability=True)"
   ]
  },
  {
   "cell_type": "code",
   "execution_count": null,
   "metadata": {},
   "outputs": [],
   "source": [
    "X_train_tw, X_test_tw, y_train_tw, y_test_tw = train_test_split(X_twit, y_twit, test_size=0.3)"
   ]
  },
  {
   "cell_type": "code",
   "execution_count": null,
   "metadata": {},
   "outputs": [],
   "source": [
    "svc_em.fit(X_train_tw, y_train_tw)"
   ]
  },
  {
   "cell_type": "code",
   "execution_count": null,
   "metadata": {},
   "outputs": [],
   "source": [
    "svc_em.score(X_test_tw, y_test_tw)"
   ]
  },
  {
   "cell_type": "markdown",
   "metadata": {},
   "source": [
    "## Tf-idf"
   ]
  },
  {
   "cell_type": "code",
   "execution_count": null,
   "metadata": {},
   "outputs": [],
   "source": [
    "word_vectorizer_2 = TfidfVectorizer(\n",
    "    sublinear_tf=True,\n",
    "    strip_accents='unicode',\n",
    "    analyzer='word',\n",
    "    token_pattern=r'\\w{1,}',\n",
    "    stop_words='english',\n",
    "    ngram_range=(1, 2),\n",
    "    max_features=10000)\n",
    "\n",
    "text_tfidf = word_vectorizer_2.fit_transform(data_twit.SentimentText).toarray()\n",
    "\n",
    "text_tfidf = pd.DataFrame(text_tfidf)"
   ]
  },
  {
   "cell_type": "code",
   "execution_count": null,
   "metadata": {},
   "outputs": [],
   "source": [
    "X_train_tw_tfidf, X_test_tw_tfidf, y_train_tw_tfidf, y_test_tw_tfidf = train_test_split(text_tfidf, y_twit, test_size=0.3)"
   ]
  },
  {
   "cell_type": "code",
   "execution_count": null,
   "metadata": {},
   "outputs": [],
   "source": [
    "lrc_em_tfidf = LogisticRegression()"
   ]
  },
  {
   "cell_type": "code",
   "execution_count": null,
   "metadata": {},
   "outputs": [],
   "source": [
    "lrc_em_tfidf.fit(X_train_tw_tfidf, y_train_tw_tfidf)"
   ]
  },
  {
   "cell_type": "code",
   "execution_count": null,
   "metadata": {},
   "outputs": [],
   "source": [
    "plt.figure(figsize=(10, 7))\n",
    "\n",
    "lw = 2\n",
    "\n",
    "fpr, tpr, auc_s = get_roc_auc(svc_em, X_test_tw, y_test_tw)\n",
    "\n",
    "plt.plot(fpr, tpr, color='darkorange',\n",
    "         lw=lw, \n",
    "         label=('Logitstic regression + w2v + PH (area under the curve:{0:0.2f})'.format(auc_s)))\n",
    "\n",
    "fpr, tpr, auc_s = get_roc_auc(lrc_em_tfidf, X_test_tw_tfidf, y_test_tw_tfidf)\n",
    "\n",
    "plt.plot(fpr, tpr, color='blue',\n",
    "         lw=lw, \n",
    "         label=('Logitstic regression + tf-idf (area under the curve:{0:0.2f})'.format(auc_s)))\n",
    "\n",
    "plt.xlim([0.0, 1.0])\n",
    "plt.ylim([0.0, 1.05])\n",
    "\n",
    "plt.xlabel('False Positive Rate')\n",
    "plt.ylabel('True Positive Rate')\n",
    "plt.legend(loc=\"lower right\")\n",
    "\n",
    "plt.show()\n"
   ]
  },
  {
   "cell_type": "markdown",
   "metadata": {},
   "source": [
    "## BoW"
   ]
  },
  {
   "cell_type": "code",
   "execution_count": 14,
   "metadata": {},
   "outputs": [
    {
     "ename": "NameError",
     "evalue": "name 'data_twit' is not defined",
     "output_type": "error",
     "traceback": [
      "\u001b[0;31m---------------------------------------------------------------------------\u001b[0m",
      "\u001b[0;31mNameError\u001b[0m                                 Traceback (most recent call last)",
      "\u001b[0;32m<ipython-input-14-44dd435e31c2>\u001b[0m in \u001b[0;36m<module>\u001b[0;34m()\u001b[0m\n\u001b[1;32m      1\u001b[0m \u001b[0mbigram_vectorizer\u001b[0m \u001b[0;34m=\u001b[0m \u001b[0mCountVectorizer\u001b[0m\u001b[0;34m(\u001b[0m\u001b[0mngram_range\u001b[0m\u001b[0;34m=\u001b[0m\u001b[0;34m(\u001b[0m\u001b[0;36m1\u001b[0m\u001b[0;34m,\u001b[0m \u001b[0;36m2\u001b[0m\u001b[0;34m)\u001b[0m\u001b[0;34m,\u001b[0m \u001b[0mtoken_pattern\u001b[0m\u001b[0;34m=\u001b[0m\u001b[0;34mr'\\b\\w+\\b'\u001b[0m\u001b[0;34m,\u001b[0m \u001b[0mmin_df\u001b[0m\u001b[0;34m=\u001b[0m\u001b[0;36m1\u001b[0m\u001b[0;34m)\u001b[0m\u001b[0;34m\u001b[0m\u001b[0m\n\u001b[1;32m      2\u001b[0m \u001b[0;34m\u001b[0m\u001b[0m\n\u001b[0;32m----> 3\u001b[0;31m \u001b[0mtext_bow_tw\u001b[0m \u001b[0;34m=\u001b[0m \u001b[0mbigram_vectorizer\u001b[0m\u001b[0;34m.\u001b[0m\u001b[0mfit_transform\u001b[0m\u001b[0;34m(\u001b[0m\u001b[0mdata_twit\u001b[0m\u001b[0;34m.\u001b[0m\u001b[0mSentimentText\u001b[0m\u001b[0;34m)\u001b[0m\u001b[0;34m.\u001b[0m\u001b[0mtoarray\u001b[0m\u001b[0;34m(\u001b[0m\u001b[0;34m)\u001b[0m\u001b[0;34m\u001b[0m\u001b[0m\n\u001b[0m\u001b[1;32m      4\u001b[0m \u001b[0;34m\u001b[0m\u001b[0m\n\u001b[1;32m      5\u001b[0m \u001b[0mtext_bow_tw_df\u001b[0m \u001b[0;34m=\u001b[0m \u001b[0mpd\u001b[0m\u001b[0;34m.\u001b[0m\u001b[0mDataFrame\u001b[0m\u001b[0;34m(\u001b[0m\u001b[0mtext_bow_tw\u001b[0m\u001b[0;34m)\u001b[0m\u001b[0;34m\u001b[0m\u001b[0m\n",
      "\u001b[0;31mNameError\u001b[0m: name 'data_twit' is not defined"
     ]
    }
   ],
   "source": [
    "bigram_vectorizer = CountVectorizer(ngram_range=(1, 2), token_pattern=r'\\b\\w+\\b', min_df=1)\n",
    "\n",
    "text_bow_tw = bigram_vectorizer.fit_transform(data_twit.SentimentText).toarray()\n",
    "\n",
    "text_bow_tw_df = pd.DataFrame(text_bow_tw)"
   ]
  },
  {
   "cell_type": "code",
   "execution_count": null,
   "metadata": {},
   "outputs": [],
   "source": [
    "X_train_tw_bow, X_test_tw_bow, y_train_tw_bow, y_test_tw_bow = train_test_split(text_bow_tw_df , y_twit, test_size=0.3)"
   ]
  },
  {
   "cell_type": "code",
   "execution_count": null,
   "metadata": {},
   "outputs": [],
   "source": [
    "lrc_em_bow = LogisticRegression()"
   ]
  },
  {
   "cell_type": "code",
   "execution_count": null,
   "metadata": {},
   "outputs": [],
   "source": [
    "lrc_em_bow.fit(X_train_tw_bow, y_train_tw_bow)"
   ]
  },
  {
   "cell_type": "code",
   "execution_count": null,
   "metadata": {},
   "outputs": [],
   "source": [
    "plt.figure(figsize=(10, 7))\n",
    "\n",
    "lw = 2\n",
    "\n",
    "fpr, tpr, auc_s = get_roc_auc(svc_em, X_test_tw, y_test_tw)\n",
    "\n",
    "plt.plot(fpr, tpr, color='darkorange',\n",
    "         lw=lw, \n",
    "         label=('SVC + w2v + PH (area under the curve:{0:0.2f})'.format(auc_s)))\n",
    "\n",
    "fpr, tpr, auc_s = get_roc_auc(lrc_em_tfidf, X_test_tw_tfidf, y_test_tw_tfidf)\n",
    "\n",
    "plt.plot(fpr, tpr, color='blue',\n",
    "         lw=lw, \n",
    "         label=('Logistic regression + tf-idf (area under the curve:{0:0.2f})'.format(auc_s)))\n",
    "\n",
    "fpr, tpr, auc_s = get_roc_auc(lrc_em_bow, X_test_tw_bow, y_test_tw_bow)\n",
    "\n",
    "plt.plot(fpr, tpr, color='green',\n",
    "         lw=lw, \n",
    "         label=('Logitstic regression + BoW (area under the curve:{0:0.2f})'.format(auc_s)))\n",
    "\n",
    "plt.xlim([0.0, 1.0])\n",
    "plt.ylim([0.0, 1.05])\n",
    "\n",
    "plt.xlabel('False Positive Rate')\n",
    "plt.ylabel('True Positive Rate')\n",
    "plt.legend(loc=\"lower right\")\n",
    "\n",
    "plt.show()"
   ]
  },
  {
   "cell_type": "markdown",
   "metadata": {},
   "source": [
    "## Word2vec vs. PH + word2vec"
   ]
  },
  {
   "cell_type": "markdown",
   "metadata": {},
   "source": [
    "### Non-trained"
   ]
  },
  {
   "cell_type": "code",
   "execution_count": 15,
   "metadata": {},
   "outputs": [],
   "source": [
    "texts_l = texts.TEXT_L\n",
    "\n",
    "texts_w2v = []\n",
    "\n",
    "for element in texts_l:\n",
    "    try:\n",
    "        a = PersistentNonTrained(split_sent=element, min_count=1, workers=-1)\n",
    "        texts_w2v.append(flatten(a._get_vectors()))\n",
    "    except TypeError:\n",
    "        texts_w2v.append([])\n",
    "        \n"
   ]
  },
  {
   "cell_type": "code",
   "execution_count": 16,
   "metadata": {},
   "outputs": [
    {
     "data": {
      "text/html": [
       "<div>\n",
       "<table border=\"1\" class=\"dataframe\">\n",
       "  <thead>\n",
       "    <tr style=\"text-align: right;\">\n",
       "      <th></th>\n",
       "      <th>0</th>\n",
       "      <th>1</th>\n",
       "      <th>2</th>\n",
       "      <th>3</th>\n",
       "      <th>4</th>\n",
       "      <th>5</th>\n",
       "      <th>6</th>\n",
       "      <th>7</th>\n",
       "      <th>8</th>\n",
       "      <th>9</th>\n",
       "      <th>...</th>\n",
       "      <th>4990</th>\n",
       "      <th>4991</th>\n",
       "      <th>4992</th>\n",
       "      <th>4993</th>\n",
       "      <th>4994</th>\n",
       "      <th>4995</th>\n",
       "      <th>4996</th>\n",
       "      <th>4997</th>\n",
       "      <th>4998</th>\n",
       "      <th>4999</th>\n",
       "    </tr>\n",
       "  </thead>\n",
       "  <tbody>\n",
       "    <tr>\n",
       "      <th>0</th>\n",
       "      <td>0.000979</td>\n",
       "      <td>-0.000035</td>\n",
       "      <td>-0.002686</td>\n",
       "      <td>0.003769</td>\n",
       "      <td>0.000655</td>\n",
       "      <td>-0.001967</td>\n",
       "      <td>0.002269</td>\n",
       "      <td>0.004164</td>\n",
       "      <td>0.001035</td>\n",
       "      <td>0.001112</td>\n",
       "      <td>...</td>\n",
       "      <td>NaN</td>\n",
       "      <td>NaN</td>\n",
       "      <td>NaN</td>\n",
       "      <td>NaN</td>\n",
       "      <td>NaN</td>\n",
       "      <td>NaN</td>\n",
       "      <td>NaN</td>\n",
       "      <td>NaN</td>\n",
       "      <td>NaN</td>\n",
       "      <td>NaN</td>\n",
       "    </tr>\n",
       "    <tr>\n",
       "      <th>1</th>\n",
       "      <td>0.000979</td>\n",
       "      <td>-0.000035</td>\n",
       "      <td>-0.002686</td>\n",
       "      <td>0.003769</td>\n",
       "      <td>0.000655</td>\n",
       "      <td>-0.001967</td>\n",
       "      <td>0.002269</td>\n",
       "      <td>0.004164</td>\n",
       "      <td>0.001035</td>\n",
       "      <td>0.001112</td>\n",
       "      <td>...</td>\n",
       "      <td>NaN</td>\n",
       "      <td>NaN</td>\n",
       "      <td>NaN</td>\n",
       "      <td>NaN</td>\n",
       "      <td>NaN</td>\n",
       "      <td>NaN</td>\n",
       "      <td>NaN</td>\n",
       "      <td>NaN</td>\n",
       "      <td>NaN</td>\n",
       "      <td>NaN</td>\n",
       "    </tr>\n",
       "    <tr>\n",
       "      <th>2</th>\n",
       "      <td>0.000979</td>\n",
       "      <td>-0.000035</td>\n",
       "      <td>-0.002686</td>\n",
       "      <td>0.003769</td>\n",
       "      <td>0.000655</td>\n",
       "      <td>-0.001967</td>\n",
       "      <td>0.002269</td>\n",
       "      <td>0.004164</td>\n",
       "      <td>0.001035</td>\n",
       "      <td>0.001112</td>\n",
       "      <td>...</td>\n",
       "      <td>NaN</td>\n",
       "      <td>NaN</td>\n",
       "      <td>NaN</td>\n",
       "      <td>NaN</td>\n",
       "      <td>NaN</td>\n",
       "      <td>NaN</td>\n",
       "      <td>NaN</td>\n",
       "      <td>NaN</td>\n",
       "      <td>NaN</td>\n",
       "      <td>NaN</td>\n",
       "    </tr>\n",
       "    <tr>\n",
       "      <th>3</th>\n",
       "      <td>-0.003214</td>\n",
       "      <td>0.000578</td>\n",
       "      <td>-0.001153</td>\n",
       "      <td>-0.003117</td>\n",
       "      <td>-0.002925</td>\n",
       "      <td>0.004268</td>\n",
       "      <td>0.004769</td>\n",
       "      <td>-0.003067</td>\n",
       "      <td>-0.000552</td>\n",
       "      <td>-0.002599</td>\n",
       "      <td>...</td>\n",
       "      <td>NaN</td>\n",
       "      <td>NaN</td>\n",
       "      <td>NaN</td>\n",
       "      <td>NaN</td>\n",
       "      <td>NaN</td>\n",
       "      <td>NaN</td>\n",
       "      <td>NaN</td>\n",
       "      <td>NaN</td>\n",
       "      <td>NaN</td>\n",
       "      <td>NaN</td>\n",
       "    </tr>\n",
       "    <tr>\n",
       "      <th>4</th>\n",
       "      <td>0.000979</td>\n",
       "      <td>-0.000035</td>\n",
       "      <td>-0.002686</td>\n",
       "      <td>0.003769</td>\n",
       "      <td>0.000655</td>\n",
       "      <td>-0.001967</td>\n",
       "      <td>0.002269</td>\n",
       "      <td>0.004164</td>\n",
       "      <td>0.001035</td>\n",
       "      <td>0.001112</td>\n",
       "      <td>...</td>\n",
       "      <td>NaN</td>\n",
       "      <td>NaN</td>\n",
       "      <td>NaN</td>\n",
       "      <td>NaN</td>\n",
       "      <td>NaN</td>\n",
       "      <td>NaN</td>\n",
       "      <td>NaN</td>\n",
       "      <td>NaN</td>\n",
       "      <td>NaN</td>\n",
       "      <td>NaN</td>\n",
       "    </tr>\n",
       "    <tr>\n",
       "      <th>5</th>\n",
       "      <td>0.000979</td>\n",
       "      <td>-0.000035</td>\n",
       "      <td>-0.002686</td>\n",
       "      <td>0.003769</td>\n",
       "      <td>0.000655</td>\n",
       "      <td>-0.001967</td>\n",
       "      <td>0.002269</td>\n",
       "      <td>0.004164</td>\n",
       "      <td>0.001035</td>\n",
       "      <td>0.001112</td>\n",
       "      <td>...</td>\n",
       "      <td>NaN</td>\n",
       "      <td>NaN</td>\n",
       "      <td>NaN</td>\n",
       "      <td>NaN</td>\n",
       "      <td>NaN</td>\n",
       "      <td>NaN</td>\n",
       "      <td>NaN</td>\n",
       "      <td>NaN</td>\n",
       "      <td>NaN</td>\n",
       "      <td>NaN</td>\n",
       "    </tr>\n",
       "    <tr>\n",
       "      <th>6</th>\n",
       "      <td>0.000979</td>\n",
       "      <td>-0.000035</td>\n",
       "      <td>-0.002686</td>\n",
       "      <td>0.003769</td>\n",
       "      <td>0.000655</td>\n",
       "      <td>-0.001967</td>\n",
       "      <td>0.002269</td>\n",
       "      <td>0.004164</td>\n",
       "      <td>0.001035</td>\n",
       "      <td>0.001112</td>\n",
       "      <td>...</td>\n",
       "      <td>NaN</td>\n",
       "      <td>NaN</td>\n",
       "      <td>NaN</td>\n",
       "      <td>NaN</td>\n",
       "      <td>NaN</td>\n",
       "      <td>NaN</td>\n",
       "      <td>NaN</td>\n",
       "      <td>NaN</td>\n",
       "      <td>NaN</td>\n",
       "      <td>NaN</td>\n",
       "    </tr>\n",
       "    <tr>\n",
       "      <th>7</th>\n",
       "      <td>-0.003214</td>\n",
       "      <td>0.000578</td>\n",
       "      <td>-0.001153</td>\n",
       "      <td>-0.003117</td>\n",
       "      <td>-0.002925</td>\n",
       "      <td>0.004268</td>\n",
       "      <td>0.004769</td>\n",
       "      <td>-0.003067</td>\n",
       "      <td>-0.000552</td>\n",
       "      <td>-0.002599</td>\n",
       "      <td>...</td>\n",
       "      <td>NaN</td>\n",
       "      <td>NaN</td>\n",
       "      <td>NaN</td>\n",
       "      <td>NaN</td>\n",
       "      <td>NaN</td>\n",
       "      <td>NaN</td>\n",
       "      <td>NaN</td>\n",
       "      <td>NaN</td>\n",
       "      <td>NaN</td>\n",
       "      <td>NaN</td>\n",
       "    </tr>\n",
       "    <tr>\n",
       "      <th>8</th>\n",
       "      <td>0.000979</td>\n",
       "      <td>-0.000035</td>\n",
       "      <td>-0.002686</td>\n",
       "      <td>0.003769</td>\n",
       "      <td>0.000655</td>\n",
       "      <td>-0.001967</td>\n",
       "      <td>0.002269</td>\n",
       "      <td>0.004164</td>\n",
       "      <td>0.001035</td>\n",
       "      <td>0.001112</td>\n",
       "      <td>...</td>\n",
       "      <td>NaN</td>\n",
       "      <td>NaN</td>\n",
       "      <td>NaN</td>\n",
       "      <td>NaN</td>\n",
       "      <td>NaN</td>\n",
       "      <td>NaN</td>\n",
       "      <td>NaN</td>\n",
       "      <td>NaN</td>\n",
       "      <td>NaN</td>\n",
       "      <td>NaN</td>\n",
       "    </tr>\n",
       "    <tr>\n",
       "      <th>9</th>\n",
       "      <td>-0.002956</td>\n",
       "      <td>0.001661</td>\n",
       "      <td>-0.001570</td>\n",
       "      <td>-0.001455</td>\n",
       "      <td>0.002018</td>\n",
       "      <td>0.002536</td>\n",
       "      <td>0.003637</td>\n",
       "      <td>-0.001786</td>\n",
       "      <td>0.003346</td>\n",
       "      <td>-0.004281</td>\n",
       "      <td>...</td>\n",
       "      <td>NaN</td>\n",
       "      <td>NaN</td>\n",
       "      <td>NaN</td>\n",
       "      <td>NaN</td>\n",
       "      <td>NaN</td>\n",
       "      <td>NaN</td>\n",
       "      <td>NaN</td>\n",
       "      <td>NaN</td>\n",
       "      <td>NaN</td>\n",
       "      <td>NaN</td>\n",
       "    </tr>\n",
       "  </tbody>\n",
       "</table>\n",
       "<p>10 rows × 5000 columns</p>\n",
       "</div>"
      ],
      "text/plain": [
       "       0         1         2         3         4         5         6     \\\n",
       "0  0.000979 -0.000035 -0.002686  0.003769  0.000655 -0.001967  0.002269   \n",
       "1  0.000979 -0.000035 -0.002686  0.003769  0.000655 -0.001967  0.002269   \n",
       "2  0.000979 -0.000035 -0.002686  0.003769  0.000655 -0.001967  0.002269   \n",
       "3 -0.003214  0.000578 -0.001153 -0.003117 -0.002925  0.004268  0.004769   \n",
       "4  0.000979 -0.000035 -0.002686  0.003769  0.000655 -0.001967  0.002269   \n",
       "5  0.000979 -0.000035 -0.002686  0.003769  0.000655 -0.001967  0.002269   \n",
       "6  0.000979 -0.000035 -0.002686  0.003769  0.000655 -0.001967  0.002269   \n",
       "7 -0.003214  0.000578 -0.001153 -0.003117 -0.002925  0.004268  0.004769   \n",
       "8  0.000979 -0.000035 -0.002686  0.003769  0.000655 -0.001967  0.002269   \n",
       "9 -0.002956  0.001661 -0.001570 -0.001455  0.002018  0.002536  0.003637   \n",
       "\n",
       "       7         8         9     ...   4990  4991  4992  4993  4994  4995  \\\n",
       "0  0.004164  0.001035  0.001112  ...    NaN   NaN   NaN   NaN   NaN   NaN   \n",
       "1  0.004164  0.001035  0.001112  ...    NaN   NaN   NaN   NaN   NaN   NaN   \n",
       "2  0.004164  0.001035  0.001112  ...    NaN   NaN   NaN   NaN   NaN   NaN   \n",
       "3 -0.003067 -0.000552 -0.002599  ...    NaN   NaN   NaN   NaN   NaN   NaN   \n",
       "4  0.004164  0.001035  0.001112  ...    NaN   NaN   NaN   NaN   NaN   NaN   \n",
       "5  0.004164  0.001035  0.001112  ...    NaN   NaN   NaN   NaN   NaN   NaN   \n",
       "6  0.004164  0.001035  0.001112  ...    NaN   NaN   NaN   NaN   NaN   NaN   \n",
       "7 -0.003067 -0.000552 -0.002599  ...    NaN   NaN   NaN   NaN   NaN   NaN   \n",
       "8  0.004164  0.001035  0.001112  ...    NaN   NaN   NaN   NaN   NaN   NaN   \n",
       "9 -0.001786  0.003346 -0.004281  ...    NaN   NaN   NaN   NaN   NaN   NaN   \n",
       "\n",
       "   4996  4997  4998  4999  \n",
       "0   NaN   NaN   NaN   NaN  \n",
       "1   NaN   NaN   NaN   NaN  \n",
       "2   NaN   NaN   NaN   NaN  \n",
       "3   NaN   NaN   NaN   NaN  \n",
       "4   NaN   NaN   NaN   NaN  \n",
       "5   NaN   NaN   NaN   NaN  \n",
       "6   NaN   NaN   NaN   NaN  \n",
       "7   NaN   NaN   NaN   NaN  \n",
       "8   NaN   NaN   NaN   NaN  \n",
       "9   NaN   NaN   NaN   NaN  \n",
       "\n",
       "[10 rows x 5000 columns]"
      ]
     },
     "execution_count": 16,
     "metadata": {},
     "output_type": "execute_result"
    }
   ],
   "source": [
    "text_w2v = pd.DataFrame(texts_w2v)\n",
    "text_w2v.head(10)"
   ]
  },
  {
   "cell_type": "code",
   "execution_count": 17,
   "metadata": {},
   "outputs": [],
   "source": [
    "text_w2v['ID'] = texts['ID']\n",
    "\n",
    "X = pd.merge(train, text_w2v.fillna(0), on='ID', how='left').drop(['ID', 'CATEGORY'], 1).values"
   ]
  },
  {
   "cell_type": "code",
   "execution_count": 18,
   "metadata": {},
   "outputs": [
    {
     "data": {
      "text/plain": [
       "(3825, 5000)"
      ]
     },
     "execution_count": 18,
     "metadata": {},
     "output_type": "execute_result"
    }
   ],
   "source": [
    "X.shape"
   ]
  },
  {
   "cell_type": "code",
   "execution_count": 19,
   "metadata": {},
   "outputs": [],
   "source": [
    "X_train_w, X_test_w, y_train_w, y_test_w = train_test_split(X, pd.factorize(train['CATEGORY'])[0], test_size=0.3)"
   ]
  },
  {
   "cell_type": "code",
   "execution_count": 20,
   "metadata": {},
   "outputs": [],
   "source": [
    "logist_w = LogisticRegression()"
   ]
  },
  {
   "cell_type": "code",
   "execution_count": 21,
   "metadata": {},
   "outputs": [
    {
     "data": {
      "text/plain": [
       "LogisticRegression(C=1.0, class_weight=None, dual=False, fit_intercept=True,\n",
       "          intercept_scaling=1, max_iter=100, multi_class='ovr', n_jobs=1,\n",
       "          penalty='l2', random_state=None, solver='liblinear', tol=0.0001,\n",
       "          verbose=0, warm_start=False)"
      ]
     },
     "execution_count": 21,
     "metadata": {},
     "output_type": "execute_result"
    }
   ],
   "source": [
    "logist_w.fit(X_train_w, y_train_w)"
   ]
  },
  {
   "cell_type": "code",
   "execution_count": 22,
   "metadata": {},
   "outputs": [
    {
     "data": {
      "text/plain": [
       "0.76655052264808365"
      ]
     },
     "execution_count": 22,
     "metadata": {},
     "output_type": "execute_result"
    }
   ],
   "source": [
    "logist_w.score(X_test_w, y_test_w)"
   ]
  },
  {
   "cell_type": "code",
   "execution_count": 23,
   "metadata": {},
   "outputs": [
    {
     "data": {
      "image/png": "[encoded data removed]",
      "text/plain": [
       "<matplotlib.figure.Figure at 0x122faef60>"
      ]
     },
     "metadata": {},
     "output_type": "display_data"
    }
   ],
   "source": [
    "plt.figure(figsize=(10, 7))\n",
    "\n",
    "lw = 2\n",
    "\n",
    "fpr, tpr, auc_s = get_roc_auc(logist, X_test, y_test)\n",
    "\n",
    "plt.plot(fpr, tpr, color='darkorange',\n",
    "         lw=lw, \n",
    "         label=('Logitstic regression + w2v + PH (area under the curve:{0:0.2f})'.format(auc_s)))\n",
    "\n",
    "\n",
    "fpr, tpr, auc_s = get_roc_auc(logist_w, X_test_w, y_test_w)\n",
    "\n",
    "plt.plot(fpr, tpr, color='blue',\n",
    "         lw=lw, \n",
    "         label=('Logitstic regression + w2v (area under the curve:{0:0.2f})'.format(auc_s)))\n",
    "\n",
    "plt.xlim([0.0, 1.0])\n",
    "plt.ylim([0.0, 1.05])\n",
    "\n",
    "plt.xlabel('False Positive Rate')\n",
    "plt.ylabel('True Positive Rate')\n",
    "plt.legend(loc=\"lower right\")\n",
    "\n",
    "plt.show()"
   ]
  },
  {
   "cell_type": "code",
   "execution_count": 26,
   "metadata": {},
   "outputs": [
    {
     "data": {
      "text/plain": [
       "0.80201718341426975"
      ]
     },
     "execution_count": 26,
     "metadata": {},
     "output_type": "execute_result"
    }
   ],
   "source": [
    "logist.score(X_train, y_train)"
   ]
  },
  {
   "cell_type": "markdown",
   "metadata": {},
   "source": [
    "### Pre-trained"
   ]
  },
  {
   "cell_type": "code",
   "execution_count": null,
   "metadata": {},
   "outputs": [],
   "source": [
    "model = KeyedVectors.load_word2vec_format('persistent/GoogleNews-vectors'\n",
    "                                              '-negative300.bin', binary=True)"
   ]
  },
  {
   "cell_type": "code",
   "execution_count": null,
   "metadata": {},
   "outputs": [],
   "source": []
  }
 ],
 "metadata": {
  "kernelspec": {
   "display_name": "Python 3",
   "language": "python",
   "name": "python3"
  },
  "language_info": {
   "codemirror_mode": {
    "name": "ipython",
    "version": 3
   },
   "file_extension": ".py",
   "mimetype": "text/x-python",
   "name": "python",
   "nbconvert_exporter": "python",
   "pygments_lexer": "ipython3",
   "version": "3.5.1"
  }
 },
 "nbformat": 4,
 "nbformat_minor": 2
}
