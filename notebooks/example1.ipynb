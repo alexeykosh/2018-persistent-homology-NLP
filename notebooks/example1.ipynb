{
 "cells": [
  {
   "cell_type": "markdown",
   "metadata": {},
   "source": [
    "## Applying topological data analysis to corpus comparison"
   ]
  },
  {
   "cell_type": "markdown",
   "metadata": {},
   "source": [
    "This is a demostration of some experiments given in my paper.\n",
    "\n",
    "So, let's load some packages:"
   ]
  },
  {
   "cell_type": "code",
   "execution_count": 1,
   "metadata": {},
   "outputs": [],
   "source": [
    "import re\n",
    "from gensim.models import word2vec\n",
    "from sklearn.manifold import TSNE\n",
    "import matplotlib.pyplot as plt\n",
    "import dionysus as dn\n",
    "import numpy as np\n",
    "import pymorphy2\n",
    "import nltk\n",
    "from string import punctuation"
   ]
  },
  {
   "cell_type": "markdown",
   "metadata": {},
   "source": [
    "### Prepare texts "
   ]
  },
  {
   "cell_type": "markdown",
   "metadata": {},
   "source": [
    "Then we create some usefull functions:"
   ]
  },
  {
   "cell_type": "code",
   "execution_count": 2,
   "metadata": {},
   "outputs": [],
   "source": [
    "def tsne_plot(model):\n",
    "    \"\"\"Creates and TSNE model and plots it\"\"\"\n",
    "    labels = []\n",
    "    tokens = []\n",
    "\n",
    "    for word in model.wv.vocab:\n",
    "        tokens.append(model[word])\n",
    "        labels.append(word)\n",
    "    \n",
    "    perplexitys = [5, 30, 50, 100]\n",
    "#     perplexitys = [0, 3]\n",
    "    \n",
    "    position = 221\n",
    "    \n",
    "    plt.figure(1, figsize=(10, 10)) \n",
    "\n",
    "    \n",
    "    for i in range(len(perplexitys)):\n",
    "        tsne_model = TSNE(perplexity=perplexitys[i], n_components=2, init='pca', n_iter=5000, random_state=23)\n",
    "        new_values = tsne_model.fit_transform(tokens)\n",
    "\n",
    "        x = []\n",
    "        y = []\n",
    "        for value in new_values:\n",
    "            x.append(value[0])\n",
    "            y.append(value[1])\n",
    "            \n",
    "        print(position)\n",
    "        \n",
    "        plt.subplot(position)\n",
    "        plt.title('Perplexity = {}'.format(perplexitys[i]))\n",
    "        \n",
    "        for i in range(len(x)):\n",
    "            plt.scatter(x[i],y[i])\n",
    "#             plt.annotate(labels[i],\n",
    "#                      xy=(x[i], y[i]),\n",
    "#                      xytext=(5, 2),\n",
    "#                      textcoords='offset points',\n",
    "#                      ha='right',\n",
    "#                      va='bottom')\n",
    "        \n",
    "        position += 1\n",
    "        \n",
    "    plt.show()"
   ]
  },
  {
   "cell_type": "code",
   "execution_count": 3,
   "metadata": {},
   "outputs": [],
   "source": [
    "PATH = '/Users/alexey/Documents/GitHub/dialog_persistent/stop words/sw.txt'\n",
    "\n",
    "with open(PATH) as f:\n",
    "    stop_words = f.read().splitlines()"
   ]
  },
  {
   "cell_type": "code",
   "execution_count": 4,
   "metadata": {},
   "outputs": [],
   "source": [
    "def check_sentence(sentence):\n",
    "    '''Check for stop words'''\n",
    "    for element in sentence:\n",
    "        if element in stop_words:\n",
    "            sentence.remove(element)\n",
    "    \n",
    "    return sentence"
   ]
  },
  {
   "cell_type": "code",
   "execution_count": 5,
   "metadata": {},
   "outputs": [],
   "source": [
    "def tokenize_and_lemmatize(path, text=None):\n",
    "    '''\n",
    "    This function is used to tokenize and lemmatize texts.\n",
    "    \n",
    "    '''\n",
    "    \n",
    "    if text:\n",
    "        file = text\n",
    "    else:\n",
    "        file = open(path).read()\n",
    "\n",
    "    morph = pymorphy2.MorphAnalyzer()\n",
    "\n",
    "    tokenizer = nltk.data.load('tokenizers/punkt/english.pickle')\n",
    "\n",
    "    sentences = tokenizer.tokenize(file)\n",
    "\n",
    "    sentenses_splitted = []\n",
    "\n",
    "    for s in sentences:   \n",
    "        s = s.translate(str.maketrans('','', punctuation))\n",
    "        sentenses_splitted.append(s.lower().split())\n",
    "\n",
    "    for sentence in sentenses_splitted:\n",
    "        for i in range(len(sentence)):\n",
    "            p = morph.parse(sentence[i])[0]\n",
    "            sentence[i] = p.normal_form\n",
    "            \n",
    "    for i in range(len(sentenses_splitted)):\n",
    "        sentenses_splitted[i] = check_sentence(sentenses_splitted[i])\n",
    "    \n",
    "\n",
    "    return sentenses_splitted"
   ]
  },
  {
   "cell_type": "markdown",
   "metadata": {},
   "source": [
    "Get vectors from word2vec models:"
   ]
  },
  {
   "cell_type": "code",
   "execution_count": 6,
   "metadata": {},
   "outputs": [],
   "source": [
    "def get_vectors(model, dimensions=100): \n",
    "    '''\n",
    "    This function is used to extract vectors\n",
    "    '''\n",
    "    tokens = []\n",
    "\n",
    "    for word in model.wv.vocab:\n",
    "        tokens.append(model[word])\n",
    "\n",
    "    result_array = np.empty((0, dimensions))\n",
    "\n",
    "    for token in tokens:\n",
    "        result_array = np.append(result_array, [token], axis=0)\n",
    "    \n",
    "    return result_array"
   ]
  },
  {
   "cell_type": "markdown",
   "metadata": {},
   "source": [
    "Transform coordinates (escape all negatives due to algoritm problems):"
   ]
  },
  {
   "cell_type": "code",
   "execution_count": 7,
   "metadata": {},
   "outputs": [],
   "source": [
    "def transorm(array):\n",
    "    '''\n",
    "    Transalate data cloud to positive coordinates\n",
    "    '''\n",
    "    \n",
    "    if array.min() < 0:\n",
    "        new_array = array - array.min()\n",
    "        return new_array\n",
    "    else:\n",
    "        raise ValueError('This array has no negative values')\n",
    "    "
   ]
  },
  {
   "cell_type": "markdown",
   "metadata": {},
   "source": [
    "## Then some experiments:"
   ]
  },
  {
   "cell_type": "code",
   "execution_count": 8,
   "metadata": {},
   "outputs": [],
   "source": [
    "def analyze_text(path, min_count=10, transf=False, text_f=None):\n",
    "    \n",
    "    if text_f:\n",
    "        text = tokenize_and_lemmatize(path=None, text=text_f)\n",
    "    else:\n",
    "        text = tokenize_and_lemmatize(path=path)\n",
    "    model = word2vec.Word2Vec(text, size=100, window=20,\n",
    "                                  min_count=min_count, workers=4)\n",
    "    vectors = get_vectors(model)\n",
    "    \n",
    "    if transf is True:\n",
    "        vectors = transorm(vectors)\n",
    "        \n",
    "    f_lower_star = dn.fill_freudenthal(vectors)\n",
    "    p = dn.homology_persistence(f_lower_star)\n",
    "    dgms = dn.init_diagrams(p, f_lower_star)\n",
    "    \n",
    "    return dgms, model, vectors\n",
    "    "
   ]
  },
  {
   "cell_type": "markdown",
   "metadata": {},
   "source": [
    "Here we apply our function to out text (Nabokov's Mashenka):"
   ]
  },
  {
   "cell_type": "code",
   "execution_count": null,
   "metadata": {},
   "outputs": [],
   "source": [
    "text_1 = tokenize_and_lemmatize('/Users/alexey/Documents/GitHub/dialog_persistent/texts/mashenka.txt')"
   ]
  },
  {
   "cell_type": "code",
   "execution_count": null,
   "metadata": {},
   "outputs": [],
   "source": [
    "text_1[1:3]"
   ]
  },
  {
   "cell_type": "markdown",
   "metadata": {},
   "source": [
    "Then we create a model:"
   ]
  },
  {
   "cell_type": "code",
   "execution_count": null,
   "metadata": {},
   "outputs": [],
   "source": [
    "model_1 = word2vec.Word2Vec(text_1, size=100, window=20,\n",
    "                                  min_count=10, workers=4)"
   ]
  },
  {
   "cell_type": "code",
   "execution_count": null,
   "metadata": {},
   "outputs": [],
   "source": [
    "# tsne_plot(model_1)"
   ]
  },
  {
   "cell_type": "markdown",
   "metadata": {},
   "source": [
    "Here I obtain vectors from the model 1 -- with Nabokov's Mashenka:"
   ]
  },
  {
   "cell_type": "code",
   "execution_count": null,
   "metadata": {},
   "outputs": [],
   "source": [
    "vectors_1 = get_vectors(model_1)\n",
    "\n",
    "vectors_1 = transorm(vectors_1)"
   ]
  },
  {
   "cell_type": "markdown",
   "metadata": {},
   "source": [
    "Then create a lower star filtration:"
   ]
  },
  {
   "cell_type": "code",
   "execution_count": null,
   "metadata": {},
   "outputs": [],
   "source": [
    "f_lower_star = dn.fill_freudenthal(vectors_1)"
   ]
  },
  {
   "cell_type": "code",
   "execution_count": null,
   "metadata": {},
   "outputs": [],
   "source": [
    "p = dn.homology_persistence(f_lower_star)\n",
    "dgms1 = dn.init_diagrams(p, f_lower_star)"
   ]
  },
  {
   "cell_type": "code",
   "execution_count": null,
   "metadata": {},
   "outputs": [],
   "source": [
    "# dn.plot.plot_bars(dgms1[0], show = True, order='death')"
   ]
  },
  {
   "cell_type": "markdown",
   "metadata": {},
   "source": [
    "Then let's compare it with another Nabokov's book -- Drugie Berega (which is bigger):"
   ]
  },
  {
   "cell_type": "code",
   "execution_count": null,
   "metadata": {},
   "outputs": [],
   "source": [
    "text_2 = tokenize_and_lemmatize('/Users/alexey/Documents/GitHub/dialog_persistent/texts/drugieberega.txt')"
   ]
  },
  {
   "cell_type": "code",
   "execution_count": null,
   "metadata": {},
   "outputs": [],
   "source": [
    "model_2 = word2vec.Word2Vec(text_2, size=100, window=20,\n",
    "                                  min_count=10, workers=4)"
   ]
  },
  {
   "cell_type": "code",
   "execution_count": null,
   "metadata": {},
   "outputs": [],
   "source": [
    "vectors_2 = transorm(get_vectors(model_2))\n",
    "len(vectors_2)"
   ]
  },
  {
   "cell_type": "code",
   "execution_count": null,
   "metadata": {},
   "outputs": [],
   "source": [
    "f_lower_star = dn.fill_freudenthal(vectors_2)\n",
    "p = dn.homology_persistence(f_lower_star)\n",
    "dgms2 = dn.init_diagrams(p, f_lower_star)"
   ]
  },
  {
   "cell_type": "code",
   "execution_count": null,
   "metadata": {},
   "outputs": [],
   "source": [
    "# dn.plot.plot_bars(dgms2[0], show = True, order='death')"
   ]
  },
  {
   "cell_type": "markdown",
   "metadata": {},
   "source": [
    "Let's compare them:"
   ]
  },
  {
   "cell_type": "code",
   "execution_count": null,
   "metadata": {},
   "outputs": [],
   "source": [
    "# print(dn.wasserstein_distance(dgms1[0], dgms2[0]))\n",
    "# dn.bottleneck_distance(dgms1[0], dgms2[0])"
   ]
  },
  {
   "cell_type": "code",
   "execution_count": null,
   "metadata": {},
   "outputs": [],
   "source": [
    "dn.wasserstein_distance(dgms1[0], dgms2[0])"
   ]
  },
  {
   "cell_type": "code",
   "execution_count": null,
   "metadata": {},
   "outputs": [],
   "source": [
    "text_2 = tokenize_and_lemmatize(sentence='Я пришел домой', path=11)"
   ]
  },
  {
   "cell_type": "code",
   "execution_count": null,
   "metadata": {},
   "outputs": [],
   "source": [
    "dgms_db = analyze_text('/Users/alexey/Documents/GitHub/dialog_persistent/texts/drugieberega.txt', transf=True)\n",
    "dgms_m = analyze_text('/Users/alexey/Documents/GitHub/dialog_persistent/texts/mashenka.txt', transf=True)"
   ]
  },
  {
   "cell_type": "markdown",
   "metadata": {},
   "source": [
    "With transofrmation"
   ]
  },
  {
   "cell_type": "code",
   "execution_count": null,
   "metadata": {},
   "outputs": [],
   "source": [
    "dn.wasserstein_distance(dgms_db[0], dgms_m[0])"
   ]
  },
  {
   "cell_type": "markdown",
   "metadata": {},
   "source": [
    "Without:"
   ]
  },
  {
   "cell_type": "code",
   "execution_count": null,
   "metadata": {},
   "outputs": [],
   "source": [
    "dgms_db_nt = analyze_text('/Users/alexey/Documents/GitHub/dialog_persistent/texts/drugieberega.txt')\n",
    "dgms_m_nt = analyze_text('/Users/alexey/Documents/GitHub/dialog_persistent/texts/mashenka.txt')\n",
    "dn.wasserstein_distance(dgms_db_nt[0], dgms_m_nt[0])"
   ]
  },
  {
   "cell_type": "code",
   "execution_count": null,
   "metadata": {},
   "outputs": [],
   "source": [
    "dn.plot.plot_bars(dgms_db_nt[0], show = True, order='death')\n",
    "dn.plot.plot_bars(dgms_db[0], show = True, order='death')"
   ]
  },
  {
   "cell_type": "code",
   "execution_count": null,
   "metadata": {},
   "outputs": [],
   "source": [
    "dn.plot.plot_diagram_density(dgms_db_nt[0], show = True)\n",
    "dn.plot.plot_diagram_density(dgms_db[0], show = True)"
   ]
  },
  {
   "cell_type": "markdown",
   "metadata": {},
   "source": [
    "## Experiment with mixing "
   ]
  },
  {
   "cell_type": "markdown",
   "metadata": {},
   "source": [
    "In this experiment I will take 60 percent from one text and 40% from another (0.6 of shinel 0,4 of vii):"
   ]
  },
  {
   "cell_type": "code",
   "execution_count": null,
   "metadata": {},
   "outputs": [],
   "source": [
    "dgms_mashenka = analyze_text('/Users/alexey/Documents/GitHub/dialog_persistent/texts/mashenka.txt')\n",
    "dgms_sh = analyze_text('/Users/alexey/Documents/GitHub/dialog_persistent/texts/shinel')\n",
    "dn.wasserstein_distance(dgms_mashenka[0], dgms_sh[0])"
   ]
  },
  {
   "cell_type": "code",
   "execution_count": null,
   "metadata": {},
   "outputs": [],
   "source": [
    "for i in [0, 0.1, 0.2, 0.3, 0.4, 0.5, 0.6, 0.7, 0.8, 0.9, 1]:\n",
    "    text_shinel = open('/Users/alexey/Documents/GitHub/dialog_persistent/texts/shinel').read()\n",
    "    text_vii = open('/Users/alexey/Documents/GitHub/dialog_persistent/texts/mashenka.txt').read()\n",
    "    text_sh_06 = text_shinel[1:int(len(text_shinel)*i)]\n",
    "    text_vii_04 = text_vii[1:int(len(text_shinel) - len(text_shinel)*i)]\n",
    "    text_100 = text_sh_06 + text_vii_04\n",
    "\n",
    "    dgms_100 = analyze_text(text_f=text_100, path=None)\n",
    "    \n",
    "    print(i, ' для шинели')\n",
    "    print('Для Машеньки: ', dn.wasserstein_distance(dgms_mashenka[0], dgms_100[0]), \n",
    "          '; Для шинели: ', dn.wasserstein_distance(dgms_sh[0], dgms_100[0]))"
   ]
  },
  {
   "cell_type": "code",
   "execution_count": null,
   "metadata": {},
   "outputs": [],
   "source": [
    "dn.plot.plot_bars(dgms_100[0], show = True, order='death')"
   ]
  },
  {
   "cell_type": "code",
   "execution_count": 9,
   "metadata": {},
   "outputs": [
    {
     "name": "stderr",
     "output_type": "stream",
     "text": [
      "/Library/Frameworks/Python.framework/Versions/3.5/lib/python3.5/site-packages/ipykernel_launcher.py:8: DeprecationWarning: Call to deprecated `__getitem__` (Method will be removed in 4.0.0, use self.wv.__getitem__() instead).\n",
      "  \n"
     ]
    }
   ],
   "source": [
    "dgms_1, model_1, vectors_1 = analyze_text('/Users/alexey/Documents/GitHub/dialog_persistent/texts/Anna Karenina.txt', min_count=100)\n",
    "dgms_2, model_2, vectors_2 = analyze_text('/Users/alexey/Documents/GitHub/dialog_persistent/texts/Woskr.txt', min_count=100)"
   ]
  },
  {
   "cell_type": "markdown",
   "metadata": {},
   "source": [
    "Distance between Anna Karenina and Woskresenie"
   ]
  },
  {
   "cell_type": "code",
   "execution_count": 10,
   "metadata": {},
   "outputs": [
    {
     "data": {
      "text/plain": [
       "1.0947972536087036"
      ]
     },
     "execution_count": 10,
     "metadata": {},
     "output_type": "execute_result"
    }
   ],
   "source": [
    "dn.wasserstein_distance(dgms_1[1], dgms_2[1])"
   ]
  },
  {
   "cell_type": "markdown",
   "metadata": {},
   "source": [
    "### Plots for Anna Karenina:"
   ]
  },
  {
   "cell_type": "code",
   "execution_count": 13,
   "metadata": {},
   "outputs": [
    {
     "data": {
      "image/png": "[encoded data removed]",
      "text/plain": [
       "<matplotlib.figure.Figure at 0x112afc8d0>"
      ]
     },
     "metadata": {},
     "output_type": "display_data"
    },
    {
     "data": {
      "image/png": "[encoded data removed]",
      "text/plain": [
       "<matplotlib.figure.Figure at 0x10e851b70>"
      ]
     },
     "metadata": {},
     "output_type": "display_data"
    }
   ],
   "source": [
    "vectors = transorm(vectors_1)\n",
    "        \n",
    "f_lower_star = dn.fill_freudenthal(vectors)\n",
    "p = dn.homology_persistence(f_lower_star)\n",
    "dgms = dn.init_diagrams(p, f_lower_star)\n",
    "dn.plot.plot_bars(dgms[1], show = True, order='death')\n",
    "dn.plot.plot_diagram_density(dgms[1], show = True)"
   ]
  },
  {
   "cell_type": "code",
   "execution_count": null,
   "metadata": {},
   "outputs": [],
   "source": [
    "tsne_plot(model_1)"
   ]
  },
  {
   "cell_type": "markdown",
   "metadata": {},
   "source": [
    "### Plots for Woskresenie"
   ]
  },
  {
   "cell_type": "code",
   "execution_count": 12,
   "metadata": {},
   "outputs": [
    {
     "data": {
      "image/png": "[encoded data removed]",
      "text/plain": [
       "<matplotlib.figure.Figure at 0x11343ce48>"
      ]
     },
     "metadata": {},
     "output_type": "display_data"
    },
    {
     "data": {
      "image/png": "[encoded data removed]",
      "text/plain": [
       "<matplotlib.figure.Figure at 0x113441908>"
      ]
     },
     "metadata": {},
     "output_type": "display_data"
    }
   ],
   "source": [
    "vectors = transorm(vectors_2)\n",
    "        \n",
    "f_lower_star = dn.fill_freudenthal(vectors)\n",
    "p = dn.homology_persistence(f_lower_star)\n",
    "dgms = dn.init_diagrams(p, f_lower_star)\n",
    "dn.plot.plot_bars(dgms[1], show = True, order='death')\n",
    "dn.plot.plot_diagram_density(dgms[1], show = True)"
   ]
  },
  {
   "cell_type": "code",
   "execution_count": null,
   "metadata": {},
   "outputs": [],
   "source": [
    "tsne_plot(model_2)"
   ]
  },
  {
   "cell_type": "code",
   "execution_count": null,
   "metadata": {},
   "outputs": [],
   "source": [
    "dn.plot.plot_bars(dgms[1], show = True, order='death')"
   ]
  },
  {
   "cell_type": "markdown",
   "metadata": {},
   "source": [
    "## Gogol part"
   ]
  },
  {
   "cell_type": "code",
   "execution_count": 14,
   "metadata": {},
   "outputs": [
    {
     "name": "stderr",
     "output_type": "stream",
     "text": [
      "/Library/Frameworks/Python.framework/Versions/3.5/lib/python3.5/site-packages/ipykernel_launcher.py:8: DeprecationWarning: Call to deprecated `__getitem__` (Method will be removed in 4.0.0, use self.wv.__getitem__() instead).\n",
      "  \n"
     ]
    }
   ],
   "source": [
    "dgms_3, model_3, vectors_3 = analyze_text('/Users/alexey/Documents/GitHub/dialog_persistent/texts/shinel')\n",
    "dgms_4, model_4, vectors_4 = analyze_text('/Users/alexey/Documents/GitHub/dialog_persistent/texts/vii')"
   ]
  },
  {
   "cell_type": "code",
   "execution_count": null,
   "metadata": {},
   "outputs": [],
   "source": [
    "vectors = transorm(vectors_3)\n",
    "\n",
    "f_lower_star = dn.fill_freudenthal(vectors)\n",
    "p = dn.homology_persistence(f_lower_star)\n",
    "dgms = dn.init_diagrams(p, f_lower_star)\n",
    "dn.plot.plot_bars(dgms[0], show = True, order='death')"
   ]
  },
  {
   "cell_type": "code",
   "execution_count": null,
   "metadata": {},
   "outputs": [],
   "source": [
    "vectors = transorm(vectors_4)\n",
    "\n",
    "f_lower_star = dn.fill_freudenthal(vectors)\n",
    "p = dn.homology_persistence(f_lower_star)\n",
    "dgms = dn.init_diagrams(p, f_lower_star)\n",
    "dn.plot.plot_bars(dgms[0], show = True, order='death')"
   ]
  },
  {
   "cell_type": "code",
   "execution_count": null,
   "metadata": {},
   "outputs": [],
   "source": [
    "dn.wasserstein_distance(dgms_3[0], dgms_4[0])"
   ]
  },
  {
   "cell_type": "code",
   "execution_count": null,
   "metadata": {},
   "outputs": [],
   "source": [
    "dn.wasserstein_distance(dgms_1[0], dgms_4[0])"
   ]
  },
  {
   "cell_type": "code",
   "execution_count": null,
   "metadata": {},
   "outputs": [],
   "source": [
    "dn.wasserstein_distance(dgms_2[0], dgms_4[0])"
   ]
  },
  {
   "cell_type": "code",
   "execution_count": null,
   "metadata": {},
   "outputs": [],
   "source": [
    "dn.wasserstein_distance(dgms_2[0], dgms_3[0])"
   ]
  },
  {
   "cell_type": "code",
   "execution_count": null,
   "metadata": {},
   "outputs": [],
   "source": [
    "dn.wasserstein_distance(dgms_1[0], dgms_3[0])"
   ]
  },
  {
   "cell_type": "markdown",
   "metadata": {},
   "source": [
    "## Nabokov part"
   ]
  },
  {
   "cell_type": "code",
   "execution_count": 26,
   "metadata": {},
   "outputs": [
    {
     "name": "stderr",
     "output_type": "stream",
     "text": [
      "/Library/Frameworks/Python.framework/Versions/3.5/lib/python3.5/site-packages/ipykernel_launcher.py:8: DeprecationWarning: Call to deprecated `__getitem__` (Method will be removed in 4.0.0, use self.wv.__getitem__() instead).\n",
      "  \n"
     ]
    }
   ],
   "source": [
    "dgms_5, model_5, vectors_5 = analyze_text('/Users/alexey/Documents/GitHub/dialog_persistent/texts/mashenka.txt')\n",
    "dgms_6, model_6, vectors_6 = analyze_text('/Users/alexey/Documents/GitHub/dialog_persistent/texts/dar.txt', min_count=20)"
   ]
  },
  {
   "cell_type": "code",
   "execution_count": 36,
   "metadata": {},
   "outputs": [
    {
     "name": "stdout",
     "output_type": "stream",
     "text": [
      "3.6027541160583496\n",
      "522 508\n"
     ]
    }
   ],
   "source": [
    "print(dn.wasserstein_distance(dgms_5[1], dgms_6[1]))\n",
    "\n",
    "print(len(vectors_6), len(vectors_5))"
   ]
  },
  {
   "cell_type": "markdown",
   "metadata": {},
   "source": [
    "Воскресение и Машенька"
   ]
  },
  {
   "cell_type": "code",
   "execution_count": 28,
   "metadata": {},
   "outputs": [
    {
     "data": {
      "text/plain": [
       "5.49077844619751"
      ]
     },
     "execution_count": 28,
     "metadata": {},
     "output_type": "execute_result"
    }
   ],
   "source": [
    "dn.wasserstein_distance(dgms_2[1], dgms_5[1])"
   ]
  },
  {
   "cell_type": "code",
   "execution_count": 31,
   "metadata": {},
   "outputs": [
    {
     "data": {
      "text/plain": [
       "3.892972707748413"
      ]
     },
     "execution_count": 31,
     "metadata": {},
     "output_type": "execute_result"
    }
   ],
   "source": [
    "dn.wasserstein_distance(dgms_1[1], dgms_6[1])"
   ]
  },
  {
   "cell_type": "code",
   "execution_count": 32,
   "metadata": {},
   "outputs": [
    {
     "data": {
      "text/plain": [
       "4.166779518127441"
      ]
     },
     "execution_count": 32,
     "metadata": {},
     "output_type": "execute_result"
    }
   ],
   "source": [
    "dn.wasserstein_distance(dgms_2[1], dgms_6[1])"
   ]
  },
  {
   "cell_type": "code",
   "execution_count": 33,
   "metadata": {},
   "outputs": [
    {
     "data": {
      "text/plain": [
       "1.0947972536087036"
      ]
     },
     "execution_count": 33,
     "metadata": {},
     "output_type": "execute_result"
    }
   ],
   "source": [
    "dn.wasserstein_distance(dgms_1[1], dgms_2[1])"
   ]
  },
  {
   "cell_type": "markdown",
   "metadata": {},
   "source": [
    "Анна Каренина и Дар"
   ]
  },
  {
   "cell_type": "code",
   "execution_count": 34,
   "metadata": {},
   "outputs": [
    {
     "data": {
      "text/plain": [
       "3.892972707748413"
      ]
     },
     "execution_count": 34,
     "metadata": {},
     "output_type": "execute_result"
    }
   ],
   "source": [
    "dn.wasserstein_distance(dgms_1[1], dgms_6[1])"
   ]
  },
  {
   "cell_type": "code",
   "execution_count": 35,
   "metadata": {},
   "outputs": [
    {
     "data": {
      "text/plain": [
       "5.047041893005371"
      ]
     },
     "execution_count": 35,
     "metadata": {},
     "output_type": "execute_result"
    }
   ],
   "source": [
    "dn.wasserstein_distance(dgms_1[1], dgms_5[1])"
   ]
  },
  {
   "cell_type": "code",
   "execution_count": null,
   "metadata": {},
   "outputs": [],
   "source": [
    "vectors = transorm(vectors_5)\n",
    "\n",
    "f_lower_star = dn.fill_freudenthal(vectors)\n",
    "p = dn.homology_persistence(f_lower_star)\n",
    "dgms = dn.init_diagrams(p, f_lower_star)\n",
    "dn.plot.plot_bars(dgms[0], show = True, order='death')"
   ]
  },
  {
   "cell_type": "code",
   "execution_count": null,
   "metadata": {},
   "outputs": [],
   "source": [
    "vectors = transorm(vectors_6)\n",
    "\n",
    "f_lower_star = dn.fill_freudenthal(vectors)\n",
    "p = dn.homology_persistence(f_lower_star)\n",
    "dgms = dn.init_diagrams(p, f_lower_star)\n",
    "dn.plot.plot_bars(dgms[0], show = True, order='death')"
   ]
  },
  {
   "cell_type": "code",
   "execution_count": null,
   "metadata": {},
   "outputs": [],
   "source": [
    "dn.wasserstein_distance(dgms_5[0], dgms_6[0])"
   ]
  },
  {
   "cell_type": "code",
   "execution_count": null,
   "metadata": {},
   "outputs": [],
   "source": [
    "print(len(vectors_5), len(vectors_6))"
   ]
  },
  {
   "cell_type": "code",
   "execution_count": null,
   "metadata": {},
   "outputs": [],
   "source": []
  }
 ],
 "metadata": {
  "kernelspec": {
   "display_name": "Python 3",
   "language": "python",
   "name": "python3"
  },
  "language_info": {
   "codemirror_mode": {
    "name": "ipython",
    "version": 3
   },
   "file_extension": ".py",
   "mimetype": "text/x-python",
   "name": "python",
   "nbconvert_exporter": "python",
   "pygments_lexer": "ipython3",
   "version": "3.5.1"
  }
 },
 "nbformat": 4,
 "nbformat_minor": 2
}
