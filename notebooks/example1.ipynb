{
 "cells": [
  {
   "cell_type": "markdown",
   "metadata": {},
   "source": [
    "## Applying topological data analysis to corpus comparison"
   ]
  },
  {
   "cell_type": "markdown",
   "metadata": {},
   "source": [
    "This is a demostration of some experiments given in my paper.\n",
    "\n",
    "So, let's load some packages:"
   ]
  },
  {
   "cell_type": "code",
   "execution_count": 1,
   "metadata": {},
   "outputs": [],
   "source": [
    "import re\n",
    "from gensim.models import word2vec\n",
    "from sklearn.manifold import TSNE\n",
    "import matplotlib.pyplot as plt\n",
    "import dionysus as dn\n",
    "import numpy as np\n",
    "import pymorphy2\n",
    "import nltk\n",
    "from string import punctuation"
   ]
  },
  {
   "cell_type": "markdown",
   "metadata": {},
   "source": [
    "### Prepare texts "
   ]
  },
  {
   "cell_type": "markdown",
   "metadata": {},
   "source": [
    "Then we create some usefull functions:"
   ]
  },
  {
   "cell_type": "code",
   "execution_count": 15,
   "metadata": {},
   "outputs": [],
   "source": [
    "PATH = '/Users/alexey/Documents/GitHub/dialog_persistent/stop words/sw.txt'\n",
    "\n",
    "with open(PATH) as f:\n",
    "    stop_words = f.read().splitlines()"
   ]
  },
  {
   "cell_type": "code",
   "execution_count": 16,
   "metadata": {},
   "outputs": [],
   "source": [
    "def check_sentence(sentence):\n",
    "    '''Check for stop words'''\n",
    "    for element in sentence:\n",
    "        if element in stop_words:\n",
    "            sentence.remove(element)\n",
    "    \n",
    "    return sentence"
   ]
  },
  {
   "cell_type": "code",
   "execution_count": 17,
   "metadata": {},
   "outputs": [],
   "source": [
    "def tokenize_and_lemmatize(path):\n",
    "    '''\n",
    "    This function is used to tokenize and lemmatize texts.\n",
    "    '''\n",
    "\n",
    "    morph = pymorphy2.MorphAnalyzer()\n",
    "\n",
    "    tokenizer = nltk.data.load('tokenizers/punkt/english.pickle')\n",
    "\n",
    "    file = open(path).read()\n",
    "\n",
    "    sentences = tokenizer.tokenize(file)\n",
    "\n",
    "    sentenses_splitted = []\n",
    "\n",
    "    for s in sentences:   \n",
    "        s = s.translate(str.maketrans('','', punctuation))\n",
    "        sentenses_splitted.append(s.lower().split())\n",
    "\n",
    "    for sentence in sentenses_splitted:\n",
    "        for i in range(len(sentence)):\n",
    "            p = morph.parse(sentence[i])[0]\n",
    "            sentence[i] = p.normal_form\n",
    "            \n",
    "    for i in range(len(sentenses_splitted)):\n",
    "        sentenses_splitted[i] = check_sentence(sentenses_splitted[i])\n",
    "    \n",
    "\n",
    "    return sentenses_splitted"
   ]
  },
  {
   "cell_type": "markdown",
   "metadata": {},
   "source": [
    "## Get vectors from word2vec models:"
   ]
  },
  {
   "cell_type": "code",
   "execution_count": 18,
   "metadata": {},
   "outputs": [],
   "source": [
    "def get_vectors(model, dimensions=100): \n",
    "    '''\n",
    "    This function is used to extract vectors\n",
    "    '''\n",
    "    tokens = []\n",
    "\n",
    "    for word in model.wv.vocab:\n",
    "        tokens.append(model[word])\n",
    "\n",
    "    result_array = np.empty((0, dimensions))\n",
    "\n",
    "    for token in tokens:\n",
    "        result_array = np.append(result_array, [token], axis=0)\n",
    "    \n",
    "    return result_array"
   ]
  },
  {
   "cell_type": "markdown",
   "metadata": {},
   "source": [
    "## Then some experiments:"
   ]
  },
  {
   "cell_type": "markdown",
   "metadata": {},
   "source": [
    "Here we apply our function to out text:"
   ]
  },
  {
   "cell_type": "code",
   "execution_count": 20,
   "metadata": {},
   "outputs": [],
   "source": [
    "text_1 = tokenize_and_lemmatize('/Users/alexey/Documents/GitHub/dialog_persistent/texts/mashenka.txt')"
   ]
  },
  {
   "cell_type": "code",
   "execution_count": 22,
   "metadata": {},
   "outputs": [
    {
     "data": {
      "text/plain": [
       "[['рассказывать',\n",
       "  'он',\n",
       "  'верный',\n",
       "  'происхождение',\n",
       "  'связать',\n",
       "  'вопрос',\n",
       "  'вивисекция'],\n",
       " ['художник',\n",
       "  'роберт',\n",
       "  'горн',\n",
       "  'проживать',\n",
       "  'ньюйорк',\n",
       "  'завтракать',\n",
       "  'случайный',\n",
       "  'знакомый',\n",
       "  'молодая',\n",
       "  'физиолог']]"
      ]
     },
     "execution_count": 22,
     "metadata": {},
     "output_type": "execute_result"
    }
   ],
   "source": [
    "text_1[1:3]"
   ]
  },
  {
   "cell_type": "markdown",
   "metadata": {},
   "source": [
    "Then we create a model:"
   ]
  },
  {
   "cell_type": "code",
   "execution_count": 23,
   "metadata": {},
   "outputs": [],
   "source": [
    "model_1 = word2vec.Word2Vec(text_1, size=100, window=20,\n",
    "                                  min_count=10, workers=4)"
   ]
  },
  {
   "cell_type": "code",
   "execution_count": 24,
   "metadata": {},
   "outputs": [
    {
     "name": "stderr",
     "output_type": "stream",
     "text": [
      "/Library/Frameworks/Python.framework/Versions/3.5/lib/python3.5/site-packages/ipykernel_launcher.py:8: DeprecationWarning: Call to deprecated `__getitem__` (Method will be removed in 4.0.0, use self.wv.__getitem__() instead).\n",
      "  \n"
     ]
    },
    {
     "data": {
      "text/plain": [
       "508"
      ]
     },
     "execution_count": 24,
     "metadata": {},
     "output_type": "execute_result"
    }
   ],
   "source": [
    "vectors_1 = get_vectors(model_1)\n",
    "len(vectors_1)"
   ]
  },
  {
   "cell_type": "code",
   "execution_count": 25,
   "metadata": {},
   "outputs": [],
   "source": [
    "f_lower_star = dn.fill_freudenthal(vectors_1)\n",
    "f_upper_star = dn.fill_freudenthal(vectors_1, reverse = True)"
   ]
  },
  {
   "cell_type": "code",
   "execution_count": 26,
   "metadata": {},
   "outputs": [
    {
     "data": {
      "image/png": "[encoded data removed]",
      "text/plain": [
       "<matplotlib.figure.Figure at 0x10f50f0f0>"
      ]
     },
     "metadata": {},
     "output_type": "display_data"
    },
    {
     "data": {
      "image/png": "[encoded data removed]",
      "text/plain": [
       "<matplotlib.figure.Figure at 0x10d0c1c18>"
      ]
     },
     "metadata": {},
     "output_type": "display_data"
    }
   ],
   "source": [
    "p = dn.homology_persistence(f_lower_star)\n",
    "dgms = dn.init_diagrams(p, f_lower_star)\n",
    "\n",
    "dn.plot.plot_diagram_density(dgms[0], show = True)\n",
    "dn.plot.plot_diagram_density(dgms[1], show = True)"
   ]
  }
 ],
 "metadata": {
  "kernelspec": {
   "display_name": "Python 3",
   "language": "python",
   "name": "python3"
  },
  "language_info": {
   "codemirror_mode": {
    "name": "ipython",
    "version": 3
   },
   "file_extension": ".py",
   "mimetype": "text/x-python",
   "name": "python",
   "nbconvert_exporter": "python",
   "pygments_lexer": "ipython3",
   "version": "3.5.1"
  }
 },
 "nbformat": 4,
 "nbformat_minor": 2
}
