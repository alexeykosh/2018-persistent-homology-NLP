{
 "cells": [
  {
   "cell_type": "code",
   "execution_count": 86,
   "metadata": {},
   "outputs": [],
   "source": [
    "from functools import lru_cache\n",
    "\n",
    "def edit_dist(s1, s2):\n",
    "    \n",
    "    n, m = len(s1), len(s2)\n",
    "    \n",
    "    M = {}\n",
    "    \n",
    "    def t(i, j):\n",
    "        return 1 if s1[i-1] != s2[j-1] else 0\n",
    "    \n",
    "    @lru_cache(maxsize=None)\n",
    "    def D(i, j):\n",
    "        if i == 0:\n",
    "            r = j\n",
    "        elif j == 0:\n",
    "            r = i\n",
    "        else:\n",
    "            r = min(\n",
    "                D(i-1, j) + 1,\n",
    "                D(i, j-1) + 1,\n",
    "                D(i-1, j-1) + t(i, j))\n",
    "        return r\n",
    "    \n",
    "    return D(n, m)\n",
    "            "
   ]
  },
  {
   "cell_type": "code",
   "execution_count": 91,
   "metadata": {},
   "outputs": [
    {
     "data": {
      "text/plain": [
       "8"
      ]
     },
     "execution_count": 91,
     "metadata": {},
     "output_type": "execute_result"
    }
   ],
   "source": [
    "edit_dist('сильная гроза', 'гроза')"
   ]
  },
  {
   "cell_type": "code",
   "execution_count": 105,
   "metadata": {},
   "outputs": [],
   "source": [
    "def non_decreasing(A):\n",
    "    \n",
    "    n = len(A)\n",
    "    \n",
    "    @lru_cache(maxsize=None)\n",
    "    def t(i):\n",
    "        \n",
    "        larger = [j for j in range(i+1, n) if A[i] > A[j]]\n",
    "        \n",
    "        print(i, A[i], larger)\n",
    "        \n",
    "        if not larger:\n",
    "            return 1\n",
    "        else:   \n",
    "            return min(t(j) for j in larger)\n",
    "    \n",
    "    return t(0) "
   ]
  },
  {
   "cell_type": "code",
   "execution_count": 106,
   "metadata": {},
   "outputs": [
    {
     "name": "stdout",
     "output_type": "stream",
     "text": [
      "0 2 [1]\n",
      "1 1 []\n"
     ]
    },
    {
     "data": {
      "text/plain": [
       "1"
      ]
     },
     "execution_count": 106,
     "metadata": {},
     "output_type": "execute_result"
    }
   ],
   "source": [
    "non_decreasing([2, 1, 4, 3, 6, 5, 8, 7, 10])"
   ]
  },
  {
   "cell_type": "code",
   "execution_count": null,
   "metadata": {},
   "outputs": [],
   "source": []
  }
 ],
 "metadata": {
  "kernelspec": {
   "display_name": "Python 3",
   "language": "python",
   "name": "python3"
  },
  "language_info": {
   "codemirror_mode": {
    "name": "ipython",
    "version": 3
   },
   "file_extension": ".py",
   "mimetype": "text/x-python",
   "name": "python",
   "nbconvert_exporter": "python",
   "pygments_lexer": "ipython3",
   "version": "3.5.1"
  }
 },
 "nbformat": 4,
 "nbformat_minor": 2
}
