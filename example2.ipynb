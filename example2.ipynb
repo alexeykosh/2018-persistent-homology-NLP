{
 "cells": [
  {
   "cell_type": "markdown",
   "metadata": {},
   "source": [
    "## Experiments 2:"
   ]
  },
  {
   "cell_type": "markdown",
   "metadata": {},
   "source": [
    "### 1. Slider to fine tune parametres:"
   ]
  },
  {
   "cell_type": "code",
   "execution_count": 1,
   "metadata": {},
   "outputs": [
    {
     "name": "stderr",
     "output_type": "stream",
     "text": [
      "/Library/Frameworks/Python.framework/Versions/3.5/lib/python3.5/site-packages/IPython/html.py:14: ShimWarning: The `IPython.html` package has been deprecated since IPython 4.0. You should import from `notebook` instead. `IPython.html.widgets` has moved to `ipywidgets`.\n",
      "  \"`IPython.html.widgets` has moved to `ipywidgets`.\", ShimWarning)\n"
     ]
    }
   ],
   "source": [
    "from persistent.persistent import Persistent\n",
    "import dionysus as dn\n",
    "import matplotlib.pyplot as plt\n",
    "from IPython.html.widgets import *\n",
    "import numpy as np\n",
    "from   matplotlib.colors import LogNorm, Normalize\n",
    "%matplotlib inline"
   ]
  },
  {
   "cell_type": "code",
   "execution_count": 8,
   "metadata": {},
   "outputs": [],
   "source": [
    "def pltpersist(min_count, window, size):\n",
    "    \n",
    "    plt.figure(figsize=(15, 10))\n",
    "    \n",
    "    bins = 200\n",
    "    \n",
    "    a = Persistent(path='texts/mashenka.txt', min_count=min_count, window=window, size=size)\n",
    "    dgms = a.persistent()\n",
    "    \n",
    "    dgm = dgms[1]\n",
    "    \n",
    "    norm = LogNorm()\n",
    "\n",
    "    inf = float('inf')\n",
    "    min_birth = min(p.birth for p in dgm if p.birth != inf)\n",
    "    #max_birth = max(p.birth for p in dgm if p.birth != inf)\n",
    "    #min_death = min(p.death for p in dgm if p.death != inf)\n",
    "    max_death = max(p.death for p in dgm if p.death != inf)\n",
    "\n",
    "    plt.hist2d([p.birth for p in dgm if p.birth != inf and p.death != inf], \n",
    "               [p.death for p in dgm if p.birth != inf and p.death != inf], \n",
    "               bins = bins, norm = norm)\n",
    "    \n",
    "    plt.axes().set_aspect('equal', 'datalim')\n",
    "\n",
    "    plt.plot([min_birth, max_death], [min_birth, max_death])        # diagonal\n",
    "\n",
    "    ## clip the view\n",
    "    #plt.axes().set_xlim([min_birth, max_birth])\n",
    "    #plt.axes().set_ylim([min_death, max_death])\n",
    "\n",
    "    plt.colorbar()\n",
    "    \n",
    "    print('calculated for min_c: {}, window: {}, size: {}'.format(min_count, window, size))\n",
    "\n",
    "    plt.show()\n",
    "\n"
   ]
  },
  {
   "cell_type": "code",
   "execution_count": 9,
   "metadata": {},
   "outputs": [
    {
     "data": {
      "application/vnd.jupyter.widget-view+json": {
       "model_id": "8cab1514465949c4acac309bb93ffa91",
       "version_major": 2,
       "version_minor": 0
      },
      "text/html": [
       "<p>Failed to display Jupyter Widget of type <code>interactive</code>.</p>\n",
       "<p>\n",
       "  If you're reading this message in Jupyter Notebook or JupyterLab, it may mean\n",
       "  that the widgets JavaScript is still loading. If this message persists, it\n",
       "  likely means that the widgets JavaScript library is either not installed or\n",
       "  not enabled. See the <a href=\"https://ipywidgets.readthedocs.io/en/stable/user_install.html\">Jupyter\n",
       "  Widgets Documentation</a> for setup instructions.\n",
       "</p>\n",
       "<p>\n",
       "  If you're reading this message in another notebook frontend (for example, a static\n",
       "  rendering on GitHub or <a href=\"https://nbviewer.jupyter.org/\">NBViewer</a>),\n",
       "  it may mean that your frontend doesn't currently support widgets.\n",
       "</p>\n"
      ],
      "text/plain": [
       "interactive(children=(IntSlider(value=50, description='min_count', min=1), IntSlider(value=10, description='window', max=20, min=1), IntSlider(value=500, description='size', max=1000, step=100), Output()), _dom_classes=('widget-interact',))"
      ]
     },
     "metadata": {},
     "output_type": "display_data"
    }
   ],
   "source": [
    "interact(pltpersist, min_count=(1,100,1), window=(1,20,1), size=(0, 1000, 100));"
   ]
  },
  {
   "cell_type": "code",
   "execution_count": null,
   "metadata": {},
   "outputs": [],
   "source": []
  }
 ],
 "metadata": {
  "kernelspec": {
   "display_name": "Python 3",
   "language": "python",
   "name": "python3"
  },
  "language_info": {
   "codemirror_mode": {
    "name": "ipython",
    "version": 3
   },
   "file_extension": ".py",
   "mimetype": "text/x-python",
   "name": "python",
   "nbconvert_exporter": "python",
   "pygments_lexer": "ipython3",
   "version": "3.5.1"
  }
 },
 "nbformat": 4,
 "nbformat_minor": 2
}
