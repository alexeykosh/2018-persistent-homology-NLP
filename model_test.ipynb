{
 "cells": [
  {
   "cell_type": "markdown",
   "metadata": {},
   "source": [
    "## Experiment 2: classificator test"
   ]
  },
  {
   "cell_type": "markdown",
   "metadata": {},
   "source": [
    "Some usefull packages:"
   ]
  },
  {
   "cell_type": "code",
   "execution_count": 1,
   "metadata": {},
   "outputs": [
    {
     "name": "stdout",
     "output_type": "stream",
     "text": [
      "[nltk_data] Downloading package stopwords to\n",
      "[nltk_data]     /Users/alexey/nltk_data...\n",
      "[nltk_data]   Package stopwords is already up-to-date!\n"
     ]
    },
    {
     "data": {
      "text/plain": [
       "True"
      ]
     },
     "execution_count": 1,
     "metadata": {},
     "output_type": "execute_result"
    }
   ],
   "source": [
    "import pandas as pd\n",
    "import nltk\n",
    "import matplotlib.pyplot as plt\n",
    "from sklearn.feature_extraction.text import TfidfVectorizer, CountVectorizer, TfidfTransformer\n",
    "from sklearn.preprocessing import StandardScaler\n",
    "from textblob import TextBlob\n",
    "import operator\n",
    "from nltk.corpus import stopwords\n",
    "nltk.download('stopwords')"
   ]
  },
  {
   "cell_type": "markdown",
   "metadata": {},
   "source": [
    "Lambda function to flatten the list of coordinates:"
   ]
  },
  {
   "cell_type": "code",
   "execution_count": 2,
   "metadata": {},
   "outputs": [],
   "source": [
    "flatten = lambda l: [item for sublist in l for item in sublist]"
   ]
  },
  {
   "cell_type": "markdown",
   "metadata": {},
   "source": [
    "Let's load our data:"
   ]
  },
  {
   "cell_type": "code",
   "execution_count": 3,
   "metadata": {},
   "outputs": [],
   "source": [
    "train = pd.read_csv('data/train.csv')\n",
    "test = pd.read_csv('data/test.csv')\n",
    "texts = pd.read_csv('data/texts.csv')"
   ]
  },
  {
   "cell_type": "markdown",
   "metadata": {},
   "source": [
    "Let's lemmatize our texts in order to put them into Persistent class"
   ]
  },
  {
   "cell_type": "code",
   "execution_count": 4,
   "metadata": {},
   "outputs": [],
   "source": [
    "texts.TEXT = texts.TEXT.str.replace('[^\\w\\s]','')\n",
    "\n",
    "w_tokenizer = nltk.tokenize.WhitespaceTokenizer()\n",
    "lemmatizer = nltk.stem.WordNetLemmatizer()\n",
    "\n",
    "def lemmatize_text(text):\n",
    "    return [lemmatizer.lemmatize(w) for w in w_tokenizer.tokenize(text)]\n",
    "\n",
    "texts['TEXT_L'] = texts.TEXT.apply(lemmatize_text)"
   ]
  },
  {
   "cell_type": "markdown",
   "metadata": {},
   "source": [
    "Let's check the results:"
   ]
  },
  {
   "cell_type": "code",
   "execution_count": 5,
   "metadata": {},
   "outputs": [
    {
     "data": {
      "text/html": [
       "<div>\n",
       "<table border=\"1\" class=\"dataframe\">\n",
       "  <thead>\n",
       "    <tr style=\"text-align: right;\">\n",
       "      <th></th>\n",
       "      <th>ID</th>\n",
       "      <th>TEXT</th>\n",
       "      <th>TEXT_L</th>\n",
       "    </tr>\n",
       "  </thead>\n",
       "  <tbody>\n",
       "    <tr>\n",
       "      <th>0</th>\n",
       "      <td>0</td>\n",
       "      <td>Let me know how to contact you Ive you settled...</td>\n",
       "      <td>[Let, me, know, how, to, contact, you, Ive, yo...</td>\n",
       "    </tr>\n",
       "    <tr>\n",
       "      <th>1</th>\n",
       "      <td>1</td>\n",
       "      <td>Where can download clear movies Dvd copies</td>\n",
       "      <td>[Where, can, download, clear, movie, Dvd, copy]</td>\n",
       "    </tr>\n",
       "    <tr>\n",
       "      <th>2</th>\n",
       "      <td>2</td>\n",
       "      <td>Desires u going to doctor 4 liver And get a bi...</td>\n",
       "      <td>[Desires, u, going, to, doctor, 4, liver, And,...</td>\n",
       "    </tr>\n",
       "    <tr>\n",
       "      <th>3</th>\n",
       "      <td>3</td>\n",
       "      <td>Do you like Italian food</td>\n",
       "      <td>[Do, you, like, Italian, food]</td>\n",
       "    </tr>\n",
       "    <tr>\n",
       "      <th>4</th>\n",
       "      <td>4</td>\n",
       "      <td>HouseMaid is the murderer coz the man was murd...</td>\n",
       "      <td>[HouseMaid, is, the, murderer, coz, the, man, ...</td>\n",
       "    </tr>\n",
       "    <tr>\n",
       "      <th>5</th>\n",
       "      <td>5</td>\n",
       "      <td>True Its easier with her here</td>\n",
       "      <td>[True, Its, easier, with, her, here]</td>\n",
       "    </tr>\n",
       "    <tr>\n",
       "      <th>6</th>\n",
       "      <td>6</td>\n",
       "      <td>I am not sure about night menu   I know only a...</td>\n",
       "      <td>[I, am, not, sure, about, night, menu, I, know...</td>\n",
       "    </tr>\n",
       "    <tr>\n",
       "      <th>7</th>\n",
       "      <td>7</td>\n",
       "      <td>You have 1 new voicemail Please call 08719181511</td>\n",
       "      <td>[You, have, 1, new, voicemail, Please, call, 0...</td>\n",
       "    </tr>\n",
       "    <tr>\n",
       "      <th>8</th>\n",
       "      <td>8</td>\n",
       "      <td>Doing nothing then u not having dinner w us</td>\n",
       "      <td>[Doing, nothing, then, u, not, having, dinner,...</td>\n",
       "    </tr>\n",
       "    <tr>\n",
       "      <th>9</th>\n",
       "      <td>9</td>\n",
       "      <td>Eerie Nokia tones 4u rply TONE TITLE to 8007 e...</td>\n",
       "      <td>[Eerie, Nokia, tone, 4u, rply, TONE, TITLE, to...</td>\n",
       "    </tr>\n",
       "  </tbody>\n",
       "</table>\n",
       "</div>"
      ],
      "text/plain": [
       "   ID                                               TEXT  \\\n",
       "0   0  Let me know how to contact you Ive you settled...   \n",
       "1   1         Where can download clear movies Dvd copies   \n",
       "2   2  Desires u going to doctor 4 liver And get a bi...   \n",
       "3   3                           Do you like Italian food   \n",
       "4   4  HouseMaid is the murderer coz the man was murd...   \n",
       "5   5                      True Its easier with her here   \n",
       "6   6  I am not sure about night menu   I know only a...   \n",
       "7   7   You have 1 new voicemail Please call 08719181511   \n",
       "8   8        Doing nothing then u not having dinner w us   \n",
       "9   9  Eerie Nokia tones 4u rply TONE TITLE to 8007 e...   \n",
       "\n",
       "                                              TEXT_L  \n",
       "0  [Let, me, know, how, to, contact, you, Ive, yo...  \n",
       "1    [Where, can, download, clear, movie, Dvd, copy]  \n",
       "2  [Desires, u, going, to, doctor, 4, liver, And,...  \n",
       "3                     [Do, you, like, Italian, food]  \n",
       "4  [HouseMaid, is, the, murderer, coz, the, man, ...  \n",
       "5               [True, Its, easier, with, her, here]  \n",
       "6  [I, am, not, sure, about, night, menu, I, know...  \n",
       "7  [You, have, 1, new, voicemail, Please, call, 0...  \n",
       "8  [Doing, nothing, then, u, not, having, dinner,...  \n",
       "9  [Eerie, Nokia, tone, 4u, rply, TONE, TITLE, to...  "
      ]
     },
     "execution_count": 5,
     "metadata": {},
     "output_type": "execute_result"
    }
   ],
   "source": [
    "texts.head(10)"
   ]
  },
  {
   "cell_type": "markdown",
   "metadata": {},
   "source": [
    "### 1. Persistent homology attempt:"
   ]
  },
  {
   "cell_type": "markdown",
   "metadata": {},
   "source": [
    "Usefull packages:"
   ]
  },
  {
   "cell_type": "code",
   "execution_count": 6,
   "metadata": {},
   "outputs": [],
   "source": [
    "from persistent.persistent import Persistent\n",
    "import numpy as np"
   ]
  },
  {
   "cell_type": "code",
   "execution_count": 7,
   "metadata": {},
   "outputs": [],
   "source": [
    "texts_l = texts.TEXT_L"
   ]
  },
  {
   "cell_type": "markdown",
   "metadata": {},
   "source": [
    "Let's make persistent diagramm for each text word2vec implementation and use it as features:"
   ]
  },
  {
   "cell_type": "code",
   "execution_count": 8,
   "metadata": {},
   "outputs": [],
   "source": [
    "texts_ph = []\n",
    "\n",
    "for element in texts_l:\n",
    "    \n",
    "    if element:\n",
    "        a = Persistent(split_sent=element, min_count=1, window=1)\n",
    "        dgms = a.persistent()\n",
    "        texts_ph.append(flatten([[p.birth for p in dgms[1]], [p.death for p in dgms[1]]]))\n",
    "    else:\n",
    "        texts_ph.append([])"
   ]
  },
  {
   "cell_type": "markdown",
   "metadata": {},
   "source": [
    "Then transform our data to dataframe:"
   ]
  },
  {
   "cell_type": "code",
   "execution_count": 10,
   "metadata": {},
   "outputs": [
    {
     "data": {
      "text/html": [
       "<div>\n",
       "<table border=\"1\" class=\"dataframe\">\n",
       "  <thead>\n",
       "    <tr style=\"text-align: right;\">\n",
       "      <th></th>\n",
       "      <th>0</th>\n",
       "      <th>1</th>\n",
       "      <th>2</th>\n",
       "      <th>3</th>\n",
       "      <th>4</th>\n",
       "      <th>5</th>\n",
       "      <th>6</th>\n",
       "      <th>7</th>\n",
       "      <th>8</th>\n",
       "      <th>9</th>\n",
       "      <th>...</th>\n",
       "      <th>1358</th>\n",
       "      <th>1359</th>\n",
       "      <th>1360</th>\n",
       "      <th>1361</th>\n",
       "      <th>1362</th>\n",
       "      <th>1363</th>\n",
       "      <th>1364</th>\n",
       "      <th>1365</th>\n",
       "      <th>1366</th>\n",
       "      <th>1367</th>\n",
       "    </tr>\n",
       "  </thead>\n",
       "  <tbody>\n",
       "    <tr>\n",
       "      <th>0</th>\n",
       "      <td>-0.001692</td>\n",
       "      <td>-0.001627</td>\n",
       "      <td>-0.001107</td>\n",
       "      <td>-0.001063</td>\n",
       "      <td>-0.000926</td>\n",
       "      <td>-0.000596</td>\n",
       "      <td>-0.000580</td>\n",
       "      <td>-0.000538</td>\n",
       "      <td>-0.000517</td>\n",
       "      <td>-0.000405</td>\n",
       "      <td>...</td>\n",
       "      <td>NaN</td>\n",
       "      <td>NaN</td>\n",
       "      <td>NaN</td>\n",
       "      <td>NaN</td>\n",
       "      <td>NaN</td>\n",
       "      <td>NaN</td>\n",
       "      <td>NaN</td>\n",
       "      <td>NaN</td>\n",
       "      <td>NaN</td>\n",
       "      <td>NaN</td>\n",
       "    </tr>\n",
       "    <tr>\n",
       "      <th>1</th>\n",
       "      <td>-0.001445</td>\n",
       "      <td>-0.001223</td>\n",
       "      <td>-0.001166</td>\n",
       "      <td>-0.001098</td>\n",
       "      <td>-0.000919</td>\n",
       "      <td>-0.000848</td>\n",
       "      <td>-0.000473</td>\n",
       "      <td>-0.000352</td>\n",
       "      <td>-0.000292</td>\n",
       "      <td>-0.000280</td>\n",
       "      <td>...</td>\n",
       "      <td>NaN</td>\n",
       "      <td>NaN</td>\n",
       "      <td>NaN</td>\n",
       "      <td>NaN</td>\n",
       "      <td>NaN</td>\n",
       "      <td>NaN</td>\n",
       "      <td>NaN</td>\n",
       "      <td>NaN</td>\n",
       "      <td>NaN</td>\n",
       "      <td>NaN</td>\n",
       "    </tr>\n",
       "    <tr>\n",
       "      <th>2</th>\n",
       "      <td>-0.001315</td>\n",
       "      <td>-0.001217</td>\n",
       "      <td>-0.001074</td>\n",
       "      <td>-0.001015</td>\n",
       "      <td>-0.000848</td>\n",
       "      <td>-0.000789</td>\n",
       "      <td>-0.000738</td>\n",
       "      <td>-0.000737</td>\n",
       "      <td>-0.000697</td>\n",
       "      <td>-0.000663</td>\n",
       "      <td>...</td>\n",
       "      <td>NaN</td>\n",
       "      <td>NaN</td>\n",
       "      <td>NaN</td>\n",
       "      <td>NaN</td>\n",
       "      <td>NaN</td>\n",
       "      <td>NaN</td>\n",
       "      <td>NaN</td>\n",
       "      <td>NaN</td>\n",
       "      <td>NaN</td>\n",
       "      <td>NaN</td>\n",
       "    </tr>\n",
       "    <tr>\n",
       "      <th>3</th>\n",
       "      <td>-0.002646</td>\n",
       "      <td>-0.001739</td>\n",
       "      <td>-0.000617</td>\n",
       "      <td>-0.000549</td>\n",
       "      <td>-0.000517</td>\n",
       "      <td>-0.000503</td>\n",
       "      <td>-0.000438</td>\n",
       "      <td>-0.000376</td>\n",
       "      <td>-0.000345</td>\n",
       "      <td>-0.000149</td>\n",
       "      <td>...</td>\n",
       "      <td>NaN</td>\n",
       "      <td>NaN</td>\n",
       "      <td>NaN</td>\n",
       "      <td>NaN</td>\n",
       "      <td>NaN</td>\n",
       "      <td>NaN</td>\n",
       "      <td>NaN</td>\n",
       "      <td>NaN</td>\n",
       "      <td>NaN</td>\n",
       "      <td>NaN</td>\n",
       "    </tr>\n",
       "    <tr>\n",
       "      <th>4</th>\n",
       "      <td>-0.002445</td>\n",
       "      <td>-0.001671</td>\n",
       "      <td>-0.001090</td>\n",
       "      <td>-0.000988</td>\n",
       "      <td>-0.000926</td>\n",
       "      <td>-0.000914</td>\n",
       "      <td>-0.000845</td>\n",
       "      <td>-0.000785</td>\n",
       "      <td>-0.000687</td>\n",
       "      <td>-0.000664</td>\n",
       "      <td>...</td>\n",
       "      <td>NaN</td>\n",
       "      <td>NaN</td>\n",
       "      <td>NaN</td>\n",
       "      <td>NaN</td>\n",
       "      <td>NaN</td>\n",
       "      <td>NaN</td>\n",
       "      <td>NaN</td>\n",
       "      <td>NaN</td>\n",
       "      <td>NaN</td>\n",
       "      <td>NaN</td>\n",
       "    </tr>\n",
       "    <tr>\n",
       "      <th>5</th>\n",
       "      <td>-0.001737</td>\n",
       "      <td>-0.000952</td>\n",
       "      <td>-0.000760</td>\n",
       "      <td>-0.000671</td>\n",
       "      <td>-0.000597</td>\n",
       "      <td>-0.000376</td>\n",
       "      <td>-0.000201</td>\n",
       "      <td>-0.000189</td>\n",
       "      <td>-0.000158</td>\n",
       "      <td>-0.000151</td>\n",
       "      <td>...</td>\n",
       "      <td>NaN</td>\n",
       "      <td>NaN</td>\n",
       "      <td>NaN</td>\n",
       "      <td>NaN</td>\n",
       "      <td>NaN</td>\n",
       "      <td>NaN</td>\n",
       "      <td>NaN</td>\n",
       "      <td>NaN</td>\n",
       "      <td>NaN</td>\n",
       "      <td>NaN</td>\n",
       "    </tr>\n",
       "    <tr>\n",
       "      <th>6</th>\n",
       "      <td>-0.002582</td>\n",
       "      <td>-0.001297</td>\n",
       "      <td>-0.001106</td>\n",
       "      <td>-0.001104</td>\n",
       "      <td>-0.000919</td>\n",
       "      <td>-0.000785</td>\n",
       "      <td>-0.000737</td>\n",
       "      <td>-0.000638</td>\n",
       "      <td>-0.000579</td>\n",
       "      <td>-0.000501</td>\n",
       "      <td>...</td>\n",
       "      <td>NaN</td>\n",
       "      <td>NaN</td>\n",
       "      <td>NaN</td>\n",
       "      <td>NaN</td>\n",
       "      <td>NaN</td>\n",
       "      <td>NaN</td>\n",
       "      <td>NaN</td>\n",
       "      <td>NaN</td>\n",
       "      <td>NaN</td>\n",
       "      <td>NaN</td>\n",
       "    </tr>\n",
       "    <tr>\n",
       "      <th>7</th>\n",
       "      <td>-0.002284</td>\n",
       "      <td>-0.002087</td>\n",
       "      <td>-0.002049</td>\n",
       "      <td>-0.001678</td>\n",
       "      <td>-0.001330</td>\n",
       "      <td>-0.001310</td>\n",
       "      <td>-0.001183</td>\n",
       "      <td>-0.001120</td>\n",
       "      <td>-0.001005</td>\n",
       "      <td>-0.000919</td>\n",
       "      <td>...</td>\n",
       "      <td>NaN</td>\n",
       "      <td>NaN</td>\n",
       "      <td>NaN</td>\n",
       "      <td>NaN</td>\n",
       "      <td>NaN</td>\n",
       "      <td>NaN</td>\n",
       "      <td>NaN</td>\n",
       "      <td>NaN</td>\n",
       "      <td>NaN</td>\n",
       "      <td>NaN</td>\n",
       "    </tr>\n",
       "    <tr>\n",
       "      <th>8</th>\n",
       "      <td>-0.001680</td>\n",
       "      <td>-0.001499</td>\n",
       "      <td>-0.000952</td>\n",
       "      <td>-0.000785</td>\n",
       "      <td>-0.000453</td>\n",
       "      <td>-0.000445</td>\n",
       "      <td>-0.000333</td>\n",
       "      <td>-0.000202</td>\n",
       "      <td>-0.000127</td>\n",
       "      <td>-0.000121</td>\n",
       "      <td>...</td>\n",
       "      <td>NaN</td>\n",
       "      <td>NaN</td>\n",
       "      <td>NaN</td>\n",
       "      <td>NaN</td>\n",
       "      <td>NaN</td>\n",
       "      <td>NaN</td>\n",
       "      <td>NaN</td>\n",
       "      <td>NaN</td>\n",
       "      <td>NaN</td>\n",
       "      <td>NaN</td>\n",
       "    </tr>\n",
       "    <tr>\n",
       "      <th>9</th>\n",
       "      <td>-0.003506</td>\n",
       "      <td>-0.003083</td>\n",
       "      <td>-0.002740</td>\n",
       "      <td>-0.002731</td>\n",
       "      <td>-0.002069</td>\n",
       "      <td>-0.001661</td>\n",
       "      <td>-0.001598</td>\n",
       "      <td>-0.001590</td>\n",
       "      <td>-0.001423</td>\n",
       "      <td>-0.001381</td>\n",
       "      <td>...</td>\n",
       "      <td>NaN</td>\n",
       "      <td>NaN</td>\n",
       "      <td>NaN</td>\n",
       "      <td>NaN</td>\n",
       "      <td>NaN</td>\n",
       "      <td>NaN</td>\n",
       "      <td>NaN</td>\n",
       "      <td>NaN</td>\n",
       "      <td>NaN</td>\n",
       "      <td>NaN</td>\n",
       "    </tr>\n",
       "  </tbody>\n",
       "</table>\n",
       "<p>10 rows × 1368 columns</p>\n",
       "</div>"
      ],
      "text/plain": [
       "       0         1         2         3         4         5         6     \\\n",
       "0 -0.001692 -0.001627 -0.001107 -0.001063 -0.000926 -0.000596 -0.000580   \n",
       "1 -0.001445 -0.001223 -0.001166 -0.001098 -0.000919 -0.000848 -0.000473   \n",
       "2 -0.001315 -0.001217 -0.001074 -0.001015 -0.000848 -0.000789 -0.000738   \n",
       "3 -0.002646 -0.001739 -0.000617 -0.000549 -0.000517 -0.000503 -0.000438   \n",
       "4 -0.002445 -0.001671 -0.001090 -0.000988 -0.000926 -0.000914 -0.000845   \n",
       "5 -0.001737 -0.000952 -0.000760 -0.000671 -0.000597 -0.000376 -0.000201   \n",
       "6 -0.002582 -0.001297 -0.001106 -0.001104 -0.000919 -0.000785 -0.000737   \n",
       "7 -0.002284 -0.002087 -0.002049 -0.001678 -0.001330 -0.001310 -0.001183   \n",
       "8 -0.001680 -0.001499 -0.000952 -0.000785 -0.000453 -0.000445 -0.000333   \n",
       "9 -0.003506 -0.003083 -0.002740 -0.002731 -0.002069 -0.001661 -0.001598   \n",
       "\n",
       "       7         8         9     ...   1358  1359  1360  1361  1362  1363  \\\n",
       "0 -0.000538 -0.000517 -0.000405  ...    NaN   NaN   NaN   NaN   NaN   NaN   \n",
       "1 -0.000352 -0.000292 -0.000280  ...    NaN   NaN   NaN   NaN   NaN   NaN   \n",
       "2 -0.000737 -0.000697 -0.000663  ...    NaN   NaN   NaN   NaN   NaN   NaN   \n",
       "3 -0.000376 -0.000345 -0.000149  ...    NaN   NaN   NaN   NaN   NaN   NaN   \n",
       "4 -0.000785 -0.000687 -0.000664  ...    NaN   NaN   NaN   NaN   NaN   NaN   \n",
       "5 -0.000189 -0.000158 -0.000151  ...    NaN   NaN   NaN   NaN   NaN   NaN   \n",
       "6 -0.000638 -0.000579 -0.000501  ...    NaN   NaN   NaN   NaN   NaN   NaN   \n",
       "7 -0.001120 -0.001005 -0.000919  ...    NaN   NaN   NaN   NaN   NaN   NaN   \n",
       "8 -0.000202 -0.000127 -0.000121  ...    NaN   NaN   NaN   NaN   NaN   NaN   \n",
       "9 -0.001590 -0.001423 -0.001381  ...    NaN   NaN   NaN   NaN   NaN   NaN   \n",
       "\n",
       "   1364  1365  1366  1367  \n",
       "0   NaN   NaN   NaN   NaN  \n",
       "1   NaN   NaN   NaN   NaN  \n",
       "2   NaN   NaN   NaN   NaN  \n",
       "3   NaN   NaN   NaN   NaN  \n",
       "4   NaN   NaN   NaN   NaN  \n",
       "5   NaN   NaN   NaN   NaN  \n",
       "6   NaN   NaN   NaN   NaN  \n",
       "7   NaN   NaN   NaN   NaN  \n",
       "8   NaN   NaN   NaN   NaN  \n",
       "9   NaN   NaN   NaN   NaN  \n",
       "\n",
       "[10 rows x 1368 columns]"
      ]
     },
     "execution_count": 10,
     "metadata": {},
     "output_type": "execute_result"
    }
   ],
   "source": [
    "text_ph_df = pd.DataFrame(texts_ph)\n",
    "text_ph_df.head(10)"
   ]
  },
  {
   "cell_type": "markdown",
   "metadata": {},
   "source": [
    "And fill NaN's with 0 and make train and test set's:"
   ]
  },
  {
   "cell_type": "code",
   "execution_count": 44,
   "metadata": {},
   "outputs": [],
   "source": [
    "text_ph_df['ID'] = texts['ID']\n",
    "\n",
    "X_train = pd.merge(train, text_ph_df.fillna(0), on='ID', how='left').drop(['ID', 'CATEGORY'], 1).values\n",
    "y_train = pd.factorize(train['CATEGORY'])[0]"
   ]
  },
  {
   "cell_type": "markdown",
   "metadata": {},
   "source": [
    "#### 1.1 PH representation test:"
   ]
  },
  {
   "cell_type": "markdown",
   "metadata": {},
   "source": [
    "Let's load some models which are often used in classification tasks:"
   ]
  },
  {
   "cell_type": "code",
   "execution_count": 17,
   "metadata": {},
   "outputs": [],
   "source": [
    "from sklearn.linear_model import LogisticRegression\n",
    "from sklearn.svm import SVC\n",
    "from sklearn.tree import DecisionTreeClassifier\n",
    "from sklearn.neighbors import KNeighborsClassifier\n",
    "from sklearn.ensemble import RandomForestClassifier\n",
    "from sklearn.ensemble import AdaBoostClassifier\n",
    "from sklearn.ensemble import BaggingClassifier\n",
    "from sklearn.ensemble import ExtraTreesClassifier\n",
    "from sklearn.metrics import accuracy_score\n",
    "from sklearn.model_selection import cross_val_score"
   ]
  },
  {
   "cell_type": "markdown",
   "metadata": {},
   "source": [
    "And implement them with basic parametres:"
   ]
  },
  {
   "cell_type": "code",
   "execution_count": 13,
   "metadata": {},
   "outputs": [],
   "source": [
    "svc = SVC()\n",
    "knc = KNeighborsClassifier()\n",
    "dtc = DecisionTreeClassifier()\n",
    "lrc = LogisticRegression()\n",
    "rfc = RandomForestClassifier()\n",
    "abc = AdaBoostClassifier()\n",
    "bc = BaggingClassifier()\n",
    "etc = ExtraTreesClassifier()"
   ]
  },
  {
   "cell_type": "code",
   "execution_count": 14,
   "metadata": {},
   "outputs": [],
   "source": [
    "clfs = {'SVC' : svc,'KN' : knc, 'DT': dtc, 'LR': lrc, 'RF': rfc, 'AdaBoost': abc, 'BgC': bc, 'ETC': etc}"
   ]
  },
  {
   "cell_type": "markdown",
   "metadata": {},
   "source": [
    "This is the function to test our models:"
   ]
  },
  {
   "cell_type": "code",
   "execution_count": 15,
   "metadata": {},
   "outputs": [],
   "source": [
    "def cv_res(clf, X, y):\n",
    "    return np.mean(cross_val_score(clf, X, y, cv=10, scoring='roc_auc', n_jobs=1))"
   ]
  },
  {
   "cell_type": "code",
   "execution_count": 45,
   "metadata": {},
   "outputs": [
    {
     "name": "stdout",
     "output_type": "stream",
     "text": [
      "('ETC', 0.94133249802586216)\n",
      "('AdaBoost', 0.94408050830103107)\n",
      "('BgC', 0.93120357971773282)\n",
      "('KN', 0.91987607214531319)\n",
      "('DT', 0.86223097399407655)\n",
      "('SVC', 0.93968547882396436)\n",
      "('RF', 0.94180839763139979)\n",
      "('LR', 0.94566431857093036)\n"
     ]
    }
   ],
   "source": [
    "pred_scores_ph = []\n",
    "for k,v in clfs.items():\n",
    "    pred = cv_res(v, X_train, y_train)\n",
    "    print((k, pred))\n",
    "    pred_scores_ph.append((k, pred))"
   ]
  },
  {
   "cell_type": "markdown",
   "metadata": {},
   "source": [
    "Let's see the plot:"
   ]
  },
  {
   "cell_type": "code",
   "execution_count": 20,
   "metadata": {},
   "outputs": [
    {
     "data": {
      "image/png": "[encoded data removed]",
      "text/plain": [
       "<matplotlib.figure.Figure at 0x11dd19438>"
      ]
     },
     "metadata": {},
     "output_type": "display_data"
    }
   ],
   "source": [
    "pd.DataFrame(pred_scores).plot(kind='bar', ylim=(0.1,1.0), figsize=(11,6), align='center', colormap=\"Accent\")\n",
    "plt.xticks(np.arange(9),pd.DataFrame(pred_scores)[0])\n",
    "plt.ylabel('Roc-Auc score')\n",
    "plt.title('PH data')\n",
    "\n",
    "plt.show()"
   ]
  },
  {
   "cell_type": "markdown",
   "metadata": {},
   "source": [
    "Let's compute the average score:"
   ]
  },
  {
   "cell_type": "code",
   "execution_count": 24,
   "metadata": {},
   "outputs": [
    {
     "name": "stdout",
     "output_type": "stream",
     "text": [
      "0.928820128686\n",
      "0.945664318571\n"
     ]
    }
   ],
   "source": [
    "scores = []\n",
    "\n",
    "for el in pred_scores:\n",
    "    scores.append(el[1])\n",
    "\n",
    "print(np.mean(scores))\n",
    "print(np.max(scores))"
   ]
  },
  {
   "cell_type": "markdown",
   "metadata": {},
   "source": [
    "Average is 0.928820128686, best model is Linear Regression with 0.945664318571 score"
   ]
  },
  {
   "cell_type": "markdown",
   "metadata": {},
   "source": [
    "### 2. Tf-idf attempt:"
   ]
  },
  {
   "cell_type": "code",
   "execution_count": 26,
   "metadata": {},
   "outputs": [],
   "source": [
    "word_vectorizer = TfidfVectorizer(\n",
    "    sublinear_tf=True,\n",
    "    strip_accents='unicode',\n",
    "    analyzer='word',\n",
    "    token_pattern=r'\\w{1,}',\n",
    "    stop_words='english',\n",
    "    ngram_range=(1, 2),\n",
    "    max_features=10000)\n",
    "\n",
    "text_tfidf = word_vectorizer.fit_transform(texts.TEXT).toarray()\n",
    "\n",
    "text_tfidf = pd.DataFrame(text_tfidf)\n",
    "\n",
    "text_tfidf['ID'] = texts['ID']"
   ]
  },
  {
   "cell_type": "code",
   "execution_count": 29,
   "metadata": {},
   "outputs": [],
   "source": [
    "X_train_ti = pd.merge(train, text_tfidf, on='ID', how='left').drop(['ID', 'CATEGORY'], 1).values\n",
    "y_train_ti = pd.factorize(train['CATEGORY'])[0]"
   ]
  },
  {
   "cell_type": "code",
   "execution_count": 34,
   "metadata": {},
   "outputs": [
    {
     "name": "stdout",
     "output_type": "stream",
     "text": [
      "('ETC', 0.9730094729919424)\n",
      "('AdaBoost', 0.94760455626051476)\n",
      "('BgC', 0.96296286586115054)\n",
      "('KN', 0.81963648864078364)\n",
      "('DT', 0.9079393535993221)\n",
      "('SVC', 0.97529289892127413)\n",
      "('RF', 0.97658532331903503)\n",
      "('LR', 0.98355075588543495)\n"
     ]
    }
   ],
   "source": [
    "pred_scores = []\n",
    "for k,v in clfs.items():\n",
    "    pred = cv_res(v, X_train_ti, y_train_ti)\n",
    "    print((k, pred))\n",
    "    pred_scores.append((k, pred))"
   ]
  },
  {
   "cell_type": "code",
   "execution_count": 36,
   "metadata": {},
   "outputs": [
    {
     "name": "stdout",
     "output_type": "stream",
     "text": [
      "0.943322714435\n",
      "0.983550755885\n"
     ]
    }
   ],
   "source": [
    "scores = []\n",
    "\n",
    "for el in pred_scores:\n",
    "    scores.append(el[1])\n",
    "\n",
    "print(np.mean(scores))\n",
    "print(np.max(scores))"
   ]
  },
  {
   "cell_type": "code",
   "execution_count": 70,
   "metadata": {},
   "outputs": [],
   "source": [
    "a = pd.DataFrame(pred_scores)\n",
    "b = pd.DataFrame(pred_scores_ph)"
   ]
  },
  {
   "cell_type": "code",
   "execution_count": 71,
   "metadata": {},
   "outputs": [
    {
     "data": {
      "text/html": [
       "<div>\n",
       "<table border=\"1\" class=\"dataframe\">\n",
       "  <thead>\n",
       "    <tr style=\"text-align: right;\">\n",
       "      <th></th>\n",
       "      <th>0</th>\n",
       "      <th>Tf-idf</th>\n",
       "      <th>PH</th>\n",
       "    </tr>\n",
       "  </thead>\n",
       "  <tbody>\n",
       "    <tr>\n",
       "      <th>0</th>\n",
       "      <td>ETC</td>\n",
       "      <td>0.973009</td>\n",
       "      <td>0.941332</td>\n",
       "    </tr>\n",
       "    <tr>\n",
       "      <th>1</th>\n",
       "      <td>AdaBoost</td>\n",
       "      <td>0.947605</td>\n",
       "      <td>0.944081</td>\n",
       "    </tr>\n",
       "    <tr>\n",
       "      <th>2</th>\n",
       "      <td>BgC</td>\n",
       "      <td>0.962963</td>\n",
       "      <td>0.931204</td>\n",
       "    </tr>\n",
       "    <tr>\n",
       "      <th>3</th>\n",
       "      <td>KN</td>\n",
       "      <td>0.819636</td>\n",
       "      <td>0.919876</td>\n",
       "    </tr>\n",
       "    <tr>\n",
       "      <th>4</th>\n",
       "      <td>DT</td>\n",
       "      <td>0.907939</td>\n",
       "      <td>0.862231</td>\n",
       "    </tr>\n",
       "    <tr>\n",
       "      <th>5</th>\n",
       "      <td>SVC</td>\n",
       "      <td>0.975293</td>\n",
       "      <td>0.939685</td>\n",
       "    </tr>\n",
       "    <tr>\n",
       "      <th>6</th>\n",
       "      <td>RF</td>\n",
       "      <td>0.976585</td>\n",
       "      <td>0.941808</td>\n",
       "    </tr>\n",
       "    <tr>\n",
       "      <th>7</th>\n",
       "      <td>LR</td>\n",
       "      <td>0.983551</td>\n",
       "      <td>0.945664</td>\n",
       "    </tr>\n",
       "  </tbody>\n",
       "</table>\n",
       "</div>"
      ],
      "text/plain": [
       "          0    Tf-idf        PH\n",
       "0       ETC  0.973009  0.941332\n",
       "1  AdaBoost  0.947605  0.944081\n",
       "2       BgC  0.962963  0.931204\n",
       "3        KN  0.819636  0.919876\n",
       "4        DT  0.907939  0.862231\n",
       "5       SVC  0.975293  0.939685\n",
       "6        RF  0.976585  0.941808\n",
       "7        LR  0.983551  0.945664"
      ]
     },
     "execution_count": 71,
     "metadata": {},
     "output_type": "execute_result"
    }
   ],
   "source": [
    "a[2] = b[1]\n",
    "a = a.rename(columns={1: 'Tf-idf', 2: 'PH'})\n",
    "a"
   ]
  },
  {
   "cell_type": "markdown",
   "metadata": {},
   "source": [
    "Comparison of perfomance on spam-sms dataset."
   ]
  },
  {
   "cell_type": "code",
   "execution_count": 72,
   "metadata": {},
   "outputs": [
    {
     "data": {
      "image/png": "[encoded data removed]",
      "text/plain": [
       "<matplotlib.figure.Figure at 0x1267389b0>"
      ]
     },
     "metadata": {},
     "output_type": "display_data"
    }
   ],
   "source": [
    "a.plot(x=0, y=['Tf-idf', 'PH'], kind=\"bar\", figsize=(11,6), align='center', colormap=\"Accent\")\n",
    "plt.xticks(np.arange(9),pd.DataFrame(pred_scores)[0])\n",
    "plt.ylabel('Roc-Auc score')\n",
    "plt.xlabel('Model')\n",
    "plt.title('PH data')\n",
    "plt.show()\n"
   ]
  }
 ],
 "metadata": {
  "kernelspec": {
   "display_name": "Python 3",
   "language": "python",
   "name": "python3"
  },
  "language_info": {
   "codemirror_mode": {
    "name": "ipython",
    "version": 3
   },
   "file_extension": ".py",
   "mimetype": "text/x-python",
   "name": "python",
   "nbconvert_exporter": "python",
   "pygments_lexer": "ipython3",
   "version": "3.5.1"
  }
 },
 "nbformat": 4,
 "nbformat_minor": 2
}
