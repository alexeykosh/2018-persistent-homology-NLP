{
 "cells": [
  {
   "cell_type": "markdown",
   "metadata": {},
   "source": [
    "## Experiment 2: classificator test"
   ]
  },
  {
   "cell_type": "markdown",
   "metadata": {},
   "source": [
    "Some usefull packages:"
   ]
  },
  {
   "cell_type": "code",
   "execution_count": 1,
   "metadata": {},
   "outputs": [
    {
     "name": "stdout",
     "output_type": "stream",
     "text": [
      "[nltk_data] Downloading package stopwords to\n",
      "[nltk_data]     /Users/alexey/nltk_data...\n",
      "[nltk_data]   Package stopwords is already up-to-date!\n"
     ]
    },
    {
     "data": {
      "text/plain": [
       "True"
      ]
     },
     "execution_count": 1,
     "metadata": {},
     "output_type": "execute_result"
    }
   ],
   "source": [
    "import pandas as pd\n",
    "import nltk\n",
    "import matplotlib.pyplot as plt\n",
    "from sklearn.feature_extraction.text import TfidfVectorizer, CountVectorizer, TfidfTransformer\n",
    "from sklearn.preprocessing import StandardScaler\n",
    "from textblob import TextBlob\n",
    "import operator\n",
    "from nltk.corpus import stopwords\n",
    "nltk.download('stopwords')"
   ]
  },
  {
   "cell_type": "markdown",
   "metadata": {},
   "source": [
    "Lambda function to flatten the list of coordinates:"
   ]
  },
  {
   "cell_type": "code",
   "execution_count": 2,
   "metadata": {},
   "outputs": [],
   "source": [
    "flatten = lambda l: [item for sublist in l for item in sublist]"
   ]
  },
  {
   "cell_type": "markdown",
   "metadata": {},
   "source": [
    "Let's load our data:"
   ]
  },
  {
   "cell_type": "code",
   "execution_count": 3,
   "metadata": {},
   "outputs": [],
   "source": [
    "train = pd.read_csv('data/train.csv')\n",
    "test = pd.read_csv('data/test.csv')\n",
    "texts = pd.read_csv('data/texts.csv')"
   ]
  },
  {
   "cell_type": "markdown",
   "metadata": {},
   "source": [
    "Let's lemmatize our texts in order to put them into Persistent class"
   ]
  },
  {
   "cell_type": "code",
   "execution_count": 4,
   "metadata": {},
   "outputs": [],
   "source": [
    "texts.TEXT = texts.TEXT.str.replace('[^\\w\\s]','')\n",
    "\n",
    "w_tokenizer = nltk.tokenize.WhitespaceTokenizer()\n",
    "lemmatizer = nltk.stem.WordNetLemmatizer()\n",
    "\n",
    "def lemmatize_text(text):\n",
    "    return [lemmatizer.lemmatize(w) for w in w_tokenizer.tokenize(text)]\n",
    "\n",
    "texts['TEXT_L'] = texts.TEXT.apply(lemmatize_text)"
   ]
  },
  {
   "cell_type": "markdown",
   "metadata": {},
   "source": [
    "Let's check the results:"
   ]
  },
  {
   "cell_type": "code",
   "execution_count": 5,
   "metadata": {},
   "outputs": [
    {
     "data": {
      "text/html": [
       "<div>\n",
       "<table border=\"1\" class=\"dataframe\">\n",
       "  <thead>\n",
       "    <tr style=\"text-align: right;\">\n",
       "      <th></th>\n",
       "      <th>ID</th>\n",
       "      <th>TEXT</th>\n",
       "      <th>TEXT_L</th>\n",
       "    </tr>\n",
       "  </thead>\n",
       "  <tbody>\n",
       "    <tr>\n",
       "      <th>0</th>\n",
       "      <td>0</td>\n",
       "      <td>Let me know how to contact you Ive you settled...</td>\n",
       "      <td>[Let, me, know, how, to, contact, you, Ive, yo...</td>\n",
       "    </tr>\n",
       "    <tr>\n",
       "      <th>1</th>\n",
       "      <td>1</td>\n",
       "      <td>Where can download clear movies Dvd copies</td>\n",
       "      <td>[Where, can, download, clear, movie, Dvd, copy]</td>\n",
       "    </tr>\n",
       "    <tr>\n",
       "      <th>2</th>\n",
       "      <td>2</td>\n",
       "      <td>Desires u going to doctor 4 liver And get a bi...</td>\n",
       "      <td>[Desires, u, going, to, doctor, 4, liver, And,...</td>\n",
       "    </tr>\n",
       "    <tr>\n",
       "      <th>3</th>\n",
       "      <td>3</td>\n",
       "      <td>Do you like Italian food</td>\n",
       "      <td>[Do, you, like, Italian, food]</td>\n",
       "    </tr>\n",
       "    <tr>\n",
       "      <th>4</th>\n",
       "      <td>4</td>\n",
       "      <td>HouseMaid is the murderer coz the man was murd...</td>\n",
       "      <td>[HouseMaid, is, the, murderer, coz, the, man, ...</td>\n",
       "    </tr>\n",
       "    <tr>\n",
       "      <th>5</th>\n",
       "      <td>5</td>\n",
       "      <td>True Its easier with her here</td>\n",
       "      <td>[True, Its, easier, with, her, here]</td>\n",
       "    </tr>\n",
       "    <tr>\n",
       "      <th>6</th>\n",
       "      <td>6</td>\n",
       "      <td>I am not sure about night menu   I know only a...</td>\n",
       "      <td>[I, am, not, sure, about, night, menu, I, know...</td>\n",
       "    </tr>\n",
       "    <tr>\n",
       "      <th>7</th>\n",
       "      <td>7</td>\n",
       "      <td>You have 1 new voicemail Please call 08719181511</td>\n",
       "      <td>[You, have, 1, new, voicemail, Please, call, 0...</td>\n",
       "    </tr>\n",
       "    <tr>\n",
       "      <th>8</th>\n",
       "      <td>8</td>\n",
       "      <td>Doing nothing then u not having dinner w us</td>\n",
       "      <td>[Doing, nothing, then, u, not, having, dinner,...</td>\n",
       "    </tr>\n",
       "    <tr>\n",
       "      <th>9</th>\n",
       "      <td>9</td>\n",
       "      <td>Eerie Nokia tones 4u rply TONE TITLE to 8007 e...</td>\n",
       "      <td>[Eerie, Nokia, tone, 4u, rply, TONE, TITLE, to...</td>\n",
       "    </tr>\n",
       "  </tbody>\n",
       "</table>\n",
       "</div>"
      ],
      "text/plain": [
       "   ID                                               TEXT  \\\n",
       "0   0  Let me know how to contact you Ive you settled...   \n",
       "1   1         Where can download clear movies Dvd copies   \n",
       "2   2  Desires u going to doctor 4 liver And get a bi...   \n",
       "3   3                           Do you like Italian food   \n",
       "4   4  HouseMaid is the murderer coz the man was murd...   \n",
       "5   5                      True Its easier with her here   \n",
       "6   6  I am not sure about night menu   I know only a...   \n",
       "7   7   You have 1 new voicemail Please call 08719181511   \n",
       "8   8        Doing nothing then u not having dinner w us   \n",
       "9   9  Eerie Nokia tones 4u rply TONE TITLE to 8007 e...   \n",
       "\n",
       "                                              TEXT_L  \n",
       "0  [Let, me, know, how, to, contact, you, Ive, yo...  \n",
       "1    [Where, can, download, clear, movie, Dvd, copy]  \n",
       "2  [Desires, u, going, to, doctor, 4, liver, And,...  \n",
       "3                     [Do, you, like, Italian, food]  \n",
       "4  [HouseMaid, is, the, murderer, coz, the, man, ...  \n",
       "5               [True, Its, easier, with, her, here]  \n",
       "6  [I, am, not, sure, about, night, menu, I, know...  \n",
       "7  [You, have, 1, new, voicemail, Please, call, 0...  \n",
       "8  [Doing, nothing, then, u, not, having, dinner,...  \n",
       "9  [Eerie, Nokia, tone, 4u, rply, TONE, TITLE, to...  "
      ]
     },
     "execution_count": 5,
     "metadata": {},
     "output_type": "execute_result"
    }
   ],
   "source": [
    "texts.head(10)"
   ]
  },
  {
   "cell_type": "markdown",
   "metadata": {},
   "source": [
    "### 1. Persistent homology attempt:"
   ]
  },
  {
   "cell_type": "markdown",
   "metadata": {},
   "source": [
    "Usefull packages:"
   ]
  },
  {
   "cell_type": "code",
   "execution_count": 92,
   "metadata": {},
   "outputs": [],
   "source": [
    "from persistent.persistent import Persistent\n",
    "import numpy as np"
   ]
  },
  {
   "cell_type": "code",
   "execution_count": 93,
   "metadata": {},
   "outputs": [],
   "source": [
    "texts_l = texts.TEXT_L"
   ]
  },
  {
   "cell_type": "markdown",
   "metadata": {},
   "source": [
    "Let's make persistent diagramm for each text word2vec implementation and use it as features:"
   ]
  },
  {
   "cell_type": "code",
   "execution_count": 94,
   "metadata": {},
   "outputs": [],
   "source": [
    "texts_ph = []\n",
    "\n",
    "for element in texts_l:\n",
    "    \n",
    "    if element:\n",
    "        a = Persistent(split_sent=element, min_count=1, window=4)\n",
    "        dgms = a.persistent()\n",
    "        texts_ph.append(flatten([[p.birth for p in dgms[1]], [p.death for p in dgms[1]]]))\n",
    "    else:\n",
    "        texts_ph.append([])"
   ]
  },
  {
   "cell_type": "markdown",
   "metadata": {},
   "source": [
    "Then transform our data to dataframe:"
   ]
  },
  {
   "cell_type": "code",
   "execution_count": 95,
   "metadata": {},
   "outputs": [
    {
     "data": {
      "text/html": [
       "<div>\n",
       "<table border=\"1\" class=\"dataframe\">\n",
       "  <thead>\n",
       "    <tr style=\"text-align: right;\">\n",
       "      <th></th>\n",
       "      <th>0</th>\n",
       "      <th>1</th>\n",
       "      <th>2</th>\n",
       "      <th>3</th>\n",
       "      <th>4</th>\n",
       "      <th>5</th>\n",
       "      <th>6</th>\n",
       "      <th>7</th>\n",
       "      <th>8</th>\n",
       "      <th>9</th>\n",
       "      <th>...</th>\n",
       "      <th>1378</th>\n",
       "      <th>1379</th>\n",
       "      <th>1380</th>\n",
       "      <th>1381</th>\n",
       "      <th>1382</th>\n",
       "      <th>1383</th>\n",
       "      <th>1384</th>\n",
       "      <th>1385</th>\n",
       "      <th>1386</th>\n",
       "      <th>1387</th>\n",
       "    </tr>\n",
       "  </thead>\n",
       "  <tbody>\n",
       "    <tr>\n",
       "      <th>0</th>\n",
       "      <td>-0.002109</td>\n",
       "      <td>-0.002048</td>\n",
       "      <td>-0.001875</td>\n",
       "      <td>-0.001544</td>\n",
       "      <td>-0.001314</td>\n",
       "      <td>-0.001178</td>\n",
       "      <td>-0.001146</td>\n",
       "      <td>-0.001000</td>\n",
       "      <td>-0.000892</td>\n",
       "      <td>-0.000814</td>\n",
       "      <td>...</td>\n",
       "      <td>NaN</td>\n",
       "      <td>NaN</td>\n",
       "      <td>NaN</td>\n",
       "      <td>NaN</td>\n",
       "      <td>NaN</td>\n",
       "      <td>NaN</td>\n",
       "      <td>NaN</td>\n",
       "      <td>NaN</td>\n",
       "      <td>NaN</td>\n",
       "      <td>NaN</td>\n",
       "    </tr>\n",
       "    <tr>\n",
       "      <th>1</th>\n",
       "      <td>-0.002137</td>\n",
       "      <td>-0.002113</td>\n",
       "      <td>-0.001775</td>\n",
       "      <td>-0.001771</td>\n",
       "      <td>-0.001542</td>\n",
       "      <td>-0.001315</td>\n",
       "      <td>-0.001171</td>\n",
       "      <td>-0.001166</td>\n",
       "      <td>-0.001089</td>\n",
       "      <td>-0.000905</td>\n",
       "      <td>...</td>\n",
       "      <td>NaN</td>\n",
       "      <td>NaN</td>\n",
       "      <td>NaN</td>\n",
       "      <td>NaN</td>\n",
       "      <td>NaN</td>\n",
       "      <td>NaN</td>\n",
       "      <td>NaN</td>\n",
       "      <td>NaN</td>\n",
       "      <td>NaN</td>\n",
       "      <td>NaN</td>\n",
       "    </tr>\n",
       "    <tr>\n",
       "      <th>2</th>\n",
       "      <td>-0.003629</td>\n",
       "      <td>-0.002137</td>\n",
       "      <td>-0.002091</td>\n",
       "      <td>-0.002028</td>\n",
       "      <td>-0.001915</td>\n",
       "      <td>-0.001907</td>\n",
       "      <td>-0.001602</td>\n",
       "      <td>-0.001540</td>\n",
       "      <td>-0.001417</td>\n",
       "      <td>-0.001311</td>\n",
       "      <td>...</td>\n",
       "      <td>NaN</td>\n",
       "      <td>NaN</td>\n",
       "      <td>NaN</td>\n",
       "      <td>NaN</td>\n",
       "      <td>NaN</td>\n",
       "      <td>NaN</td>\n",
       "      <td>NaN</td>\n",
       "      <td>NaN</td>\n",
       "      <td>NaN</td>\n",
       "      <td>NaN</td>\n",
       "    </tr>\n",
       "    <tr>\n",
       "      <th>3</th>\n",
       "      <td>-0.002281</td>\n",
       "      <td>-0.001969</td>\n",
       "      <td>-0.001170</td>\n",
       "      <td>-0.000884</td>\n",
       "      <td>-0.000814</td>\n",
       "      <td>-0.000764</td>\n",
       "      <td>-0.000640</td>\n",
       "      <td>-0.000607</td>\n",
       "      <td>-0.000586</td>\n",
       "      <td>-0.000458</td>\n",
       "      <td>...</td>\n",
       "      <td>NaN</td>\n",
       "      <td>NaN</td>\n",
       "      <td>NaN</td>\n",
       "      <td>NaN</td>\n",
       "      <td>NaN</td>\n",
       "      <td>NaN</td>\n",
       "      <td>NaN</td>\n",
       "      <td>NaN</td>\n",
       "      <td>NaN</td>\n",
       "      <td>NaN</td>\n",
       "    </tr>\n",
       "    <tr>\n",
       "      <th>4</th>\n",
       "      <td>-0.002028</td>\n",
       "      <td>-0.001834</td>\n",
       "      <td>-0.001586</td>\n",
       "      <td>-0.001557</td>\n",
       "      <td>-0.001506</td>\n",
       "      <td>-0.001479</td>\n",
       "      <td>-0.001313</td>\n",
       "      <td>-0.001207</td>\n",
       "      <td>-0.001158</td>\n",
       "      <td>-0.001000</td>\n",
       "      <td>...</td>\n",
       "      <td>NaN</td>\n",
       "      <td>NaN</td>\n",
       "      <td>NaN</td>\n",
       "      <td>NaN</td>\n",
       "      <td>NaN</td>\n",
       "      <td>NaN</td>\n",
       "      <td>NaN</td>\n",
       "      <td>NaN</td>\n",
       "      <td>NaN</td>\n",
       "      <td>NaN</td>\n",
       "    </tr>\n",
       "    <tr>\n",
       "      <th>5</th>\n",
       "      <td>-0.002225</td>\n",
       "      <td>-0.001918</td>\n",
       "      <td>-0.001521</td>\n",
       "      <td>-0.000929</td>\n",
       "      <td>-0.000701</td>\n",
       "      <td>-0.000658</td>\n",
       "      <td>-0.000406</td>\n",
       "      <td>-0.000131</td>\n",
       "      <td>-0.000085</td>\n",
       "      <td>-0.000064</td>\n",
       "      <td>...</td>\n",
       "      <td>NaN</td>\n",
       "      <td>NaN</td>\n",
       "      <td>NaN</td>\n",
       "      <td>NaN</td>\n",
       "      <td>NaN</td>\n",
       "      <td>NaN</td>\n",
       "      <td>NaN</td>\n",
       "      <td>NaN</td>\n",
       "      <td>NaN</td>\n",
       "      <td>NaN</td>\n",
       "    </tr>\n",
       "    <tr>\n",
       "      <th>6</th>\n",
       "      <td>-0.002491</td>\n",
       "      <td>-0.002209</td>\n",
       "      <td>-0.001934</td>\n",
       "      <td>-0.001780</td>\n",
       "      <td>-0.001772</td>\n",
       "      <td>-0.001401</td>\n",
       "      <td>-0.000891</td>\n",
       "      <td>-0.000827</td>\n",
       "      <td>-0.000811</td>\n",
       "      <td>-0.000687</td>\n",
       "      <td>...</td>\n",
       "      <td>NaN</td>\n",
       "      <td>NaN</td>\n",
       "      <td>NaN</td>\n",
       "      <td>NaN</td>\n",
       "      <td>NaN</td>\n",
       "      <td>NaN</td>\n",
       "      <td>NaN</td>\n",
       "      <td>NaN</td>\n",
       "      <td>NaN</td>\n",
       "      <td>NaN</td>\n",
       "    </tr>\n",
       "    <tr>\n",
       "      <th>7</th>\n",
       "      <td>-0.001935</td>\n",
       "      <td>-0.001711</td>\n",
       "      <td>-0.001487</td>\n",
       "      <td>-0.001410</td>\n",
       "      <td>-0.001314</td>\n",
       "      <td>-0.001287</td>\n",
       "      <td>-0.001166</td>\n",
       "      <td>-0.000994</td>\n",
       "      <td>-0.000855</td>\n",
       "      <td>-0.000839</td>\n",
       "      <td>...</td>\n",
       "      <td>NaN</td>\n",
       "      <td>NaN</td>\n",
       "      <td>NaN</td>\n",
       "      <td>NaN</td>\n",
       "      <td>NaN</td>\n",
       "      <td>NaN</td>\n",
       "      <td>NaN</td>\n",
       "      <td>NaN</td>\n",
       "      <td>NaN</td>\n",
       "      <td>NaN</td>\n",
       "    </tr>\n",
       "    <tr>\n",
       "      <th>8</th>\n",
       "      <td>-0.002272</td>\n",
       "      <td>-0.002042</td>\n",
       "      <td>-0.001933</td>\n",
       "      <td>-0.001766</td>\n",
       "      <td>-0.001141</td>\n",
       "      <td>-0.001094</td>\n",
       "      <td>-0.000967</td>\n",
       "      <td>-0.000837</td>\n",
       "      <td>-0.000698</td>\n",
       "      <td>-0.000683</td>\n",
       "      <td>...</td>\n",
       "      <td>NaN</td>\n",
       "      <td>NaN</td>\n",
       "      <td>NaN</td>\n",
       "      <td>NaN</td>\n",
       "      <td>NaN</td>\n",
       "      <td>NaN</td>\n",
       "      <td>NaN</td>\n",
       "      <td>NaN</td>\n",
       "      <td>NaN</td>\n",
       "      <td>NaN</td>\n",
       "    </tr>\n",
       "    <tr>\n",
       "      <th>9</th>\n",
       "      <td>-0.002305</td>\n",
       "      <td>-0.002122</td>\n",
       "      <td>-0.001838</td>\n",
       "      <td>-0.001774</td>\n",
       "      <td>-0.001606</td>\n",
       "      <td>-0.001450</td>\n",
       "      <td>-0.001413</td>\n",
       "      <td>-0.001364</td>\n",
       "      <td>-0.001341</td>\n",
       "      <td>-0.001319</td>\n",
       "      <td>...</td>\n",
       "      <td>NaN</td>\n",
       "      <td>NaN</td>\n",
       "      <td>NaN</td>\n",
       "      <td>NaN</td>\n",
       "      <td>NaN</td>\n",
       "      <td>NaN</td>\n",
       "      <td>NaN</td>\n",
       "      <td>NaN</td>\n",
       "      <td>NaN</td>\n",
       "      <td>NaN</td>\n",
       "    </tr>\n",
       "  </tbody>\n",
       "</table>\n",
       "<p>10 rows × 1388 columns</p>\n",
       "</div>"
      ],
      "text/plain": [
       "       0         1         2         3         4         5         6     \\\n",
       "0 -0.002109 -0.002048 -0.001875 -0.001544 -0.001314 -0.001178 -0.001146   \n",
       "1 -0.002137 -0.002113 -0.001775 -0.001771 -0.001542 -0.001315 -0.001171   \n",
       "2 -0.003629 -0.002137 -0.002091 -0.002028 -0.001915 -0.001907 -0.001602   \n",
       "3 -0.002281 -0.001969 -0.001170 -0.000884 -0.000814 -0.000764 -0.000640   \n",
       "4 -0.002028 -0.001834 -0.001586 -0.001557 -0.001506 -0.001479 -0.001313   \n",
       "5 -0.002225 -0.001918 -0.001521 -0.000929 -0.000701 -0.000658 -0.000406   \n",
       "6 -0.002491 -0.002209 -0.001934 -0.001780 -0.001772 -0.001401 -0.000891   \n",
       "7 -0.001935 -0.001711 -0.001487 -0.001410 -0.001314 -0.001287 -0.001166   \n",
       "8 -0.002272 -0.002042 -0.001933 -0.001766 -0.001141 -0.001094 -0.000967   \n",
       "9 -0.002305 -0.002122 -0.001838 -0.001774 -0.001606 -0.001450 -0.001413   \n",
       "\n",
       "       7         8         9     ...   1378  1379  1380  1381  1382  1383  \\\n",
       "0 -0.001000 -0.000892 -0.000814  ...    NaN   NaN   NaN   NaN   NaN   NaN   \n",
       "1 -0.001166 -0.001089 -0.000905  ...    NaN   NaN   NaN   NaN   NaN   NaN   \n",
       "2 -0.001540 -0.001417 -0.001311  ...    NaN   NaN   NaN   NaN   NaN   NaN   \n",
       "3 -0.000607 -0.000586 -0.000458  ...    NaN   NaN   NaN   NaN   NaN   NaN   \n",
       "4 -0.001207 -0.001158 -0.001000  ...    NaN   NaN   NaN   NaN   NaN   NaN   \n",
       "5 -0.000131 -0.000085 -0.000064  ...    NaN   NaN   NaN   NaN   NaN   NaN   \n",
       "6 -0.000827 -0.000811 -0.000687  ...    NaN   NaN   NaN   NaN   NaN   NaN   \n",
       "7 -0.000994 -0.000855 -0.000839  ...    NaN   NaN   NaN   NaN   NaN   NaN   \n",
       "8 -0.000837 -0.000698 -0.000683  ...    NaN   NaN   NaN   NaN   NaN   NaN   \n",
       "9 -0.001364 -0.001341 -0.001319  ...    NaN   NaN   NaN   NaN   NaN   NaN   \n",
       "\n",
       "   1384  1385  1386  1387  \n",
       "0   NaN   NaN   NaN   NaN  \n",
       "1   NaN   NaN   NaN   NaN  \n",
       "2   NaN   NaN   NaN   NaN  \n",
       "3   NaN   NaN   NaN   NaN  \n",
       "4   NaN   NaN   NaN   NaN  \n",
       "5   NaN   NaN   NaN   NaN  \n",
       "6   NaN   NaN   NaN   NaN  \n",
       "7   NaN   NaN   NaN   NaN  \n",
       "8   NaN   NaN   NaN   NaN  \n",
       "9   NaN   NaN   NaN   NaN  \n",
       "\n",
       "[10 rows x 1388 columns]"
      ]
     },
     "execution_count": 95,
     "metadata": {},
     "output_type": "execute_result"
    }
   ],
   "source": [
    "text_ph_df = pd.DataFrame(texts_ph)\n",
    "text_ph_df.head(10)"
   ]
  },
  {
   "cell_type": "markdown",
   "metadata": {},
   "source": [
    "And fill NaN's with 0 and make train and test set's:"
   ]
  },
  {
   "cell_type": "code",
   "execution_count": 96,
   "metadata": {},
   "outputs": [],
   "source": [
    "text_ph_df['ID'] = texts['ID']\n",
    "\n",
    "X_train = pd.merge(train, text_ph_df.fillna(0), on='ID', how='left').drop(['ID', 'CATEGORY'], 1).values\n",
    "y_train = pd.factorize(train['CATEGORY'])[0]"
   ]
  },
  {
   "cell_type": "code",
   "execution_count": 97,
   "metadata": {},
   "outputs": [
    {
     "data": {
      "text/plain": [
       "array([[-0.00210912, -0.00204783, -0.00187465, ...,  0.        ,\n",
       "         0.        ,  0.        ],\n",
       "       [-0.00213722, -0.00211261, -0.00177546, ...,  0.        ,\n",
       "         0.        ,  0.        ],\n",
       "       [-0.00362868, -0.00213722, -0.00209104, ...,  0.        ,\n",
       "         0.        ,  0.        ],\n",
       "       ..., \n",
       "       [-0.00297088, -0.00213617, -0.00203822, ...,  0.        ,\n",
       "         0.        ,  0.        ],\n",
       "       [-0.00210824, -0.00204727, -0.00200306, ...,  0.        ,\n",
       "         0.        ,  0.        ],\n",
       "       [-0.00211262, -0.00211261, -0.00172371, ...,  0.        ,\n",
       "         0.        ,  0.        ]])"
      ]
     },
     "execution_count": 97,
     "metadata": {},
     "output_type": "execute_result"
    }
   ],
   "source": [
    "X_train"
   ]
  },
  {
   "cell_type": "code",
   "execution_count": 98,
   "metadata": {},
   "outputs": [
    {
     "data": {
      "text/plain": [
       "False"
      ]
     },
     "execution_count": 98,
     "metadata": {},
     "output_type": "execute_result"
    }
   ],
   "source": [
    "np.any(np.isnan(X_train))"
   ]
  },
  {
   "cell_type": "code",
   "execution_count": 99,
   "metadata": {},
   "outputs": [
    {
     "data": {
      "text/plain": [
       "True"
      ]
     },
     "execution_count": 99,
     "metadata": {},
     "output_type": "execute_result"
    }
   ],
   "source": [
    "# X_train[X_train == np.inf] = 0\n",
    "np.all(np.isfinite(X_train))"
   ]
  },
  {
   "cell_type": "markdown",
   "metadata": {},
   "source": [
    "#### 1.1 PH representation test:"
   ]
  },
  {
   "cell_type": "markdown",
   "metadata": {},
   "source": [
    "Let's load some models which are often used in classification tasks:"
   ]
  },
  {
   "cell_type": "code",
   "execution_count": 100,
   "metadata": {},
   "outputs": [],
   "source": [
    "from sklearn.linear_model import LogisticRegression\n",
    "from sklearn.svm import SVC\n",
    "from sklearn.tree import DecisionTreeClassifier\n",
    "from sklearn.neighbors import KNeighborsClassifier\n",
    "from sklearn.ensemble import RandomForestClassifier\n",
    "from sklearn.ensemble import AdaBoostClassifier\n",
    "from sklearn.ensemble import BaggingClassifier\n",
    "from sklearn.ensemble import ExtraTreesClassifier\n",
    "from sklearn.metrics import accuracy_score\n",
    "from sklearn.model_selection import cross_val_score"
   ]
  },
  {
   "cell_type": "markdown",
   "metadata": {},
   "source": [
    "And implement them with basic parametres:"
   ]
  },
  {
   "cell_type": "code",
   "execution_count": 101,
   "metadata": {},
   "outputs": [],
   "source": [
    "svc = SVC(verbose=True)\n",
    "knc = KNeighborsClassifier()\n",
    "dtc = DecisionTreeClassifier()\n",
    "lrc = LogisticRegression(verbose=True)\n",
    "rfc = RandomForestClassifier(verbose=True)\n",
    "abc = AdaBoostClassifier()\n",
    "bc = BaggingClassifier(verbose=True)\n",
    "etc = ExtraTreesClassifier(verbose=True)"
   ]
  },
  {
   "cell_type": "code",
   "execution_count": 102,
   "metadata": {},
   "outputs": [],
   "source": [
    "clfs = {'SVC' : svc,'KN' : knc, 'DT': dtc, 'LR': lrc, 'RF': rfc, 'AdaBoost': abc, 'BgC': bc, 'ETC': etc}"
   ]
  },
  {
   "cell_type": "markdown",
   "metadata": {},
   "source": [
    "This is the function to test our models:"
   ]
  },
  {
   "cell_type": "code",
   "execution_count": 103,
   "metadata": {},
   "outputs": [],
   "source": [
    "def cv_res(clf, X, y):\n",
    "    return np.mean(cross_val_score(clf, X, y, cv=10, scoring='roc_auc', n_jobs=1))"
   ]
  },
  {
   "cell_type": "code",
   "execution_count": 104,
   "metadata": {},
   "outputs": [
    {
     "name": "stdout",
     "output_type": "stream",
     "text": [
      "('DT', 0.8465521588472027)\n",
      "('KN', 0.91428109687714476)\n",
      "[LibLinear][LibLinear][LibLinear][LibLinear][LibLinear][LibLinear][LibLinear][LibLinear][LibLinear][LibLinear]('LR', 0.94695210599483093)\n"
     ]
    },
    {
     "name": "stderr",
     "output_type": "stream",
     "text": [
      "[Parallel(n_jobs=1)]: Done  10 out of  10 | elapsed:    0.2s finished\n",
      "[Parallel(n_jobs=1)]: Done  10 out of  10 | elapsed:    0.0s finished\n",
      "[Parallel(n_jobs=1)]: Done  10 out of  10 | elapsed:    0.2s finished\n",
      "[Parallel(n_jobs=1)]: Done  10 out of  10 | elapsed:    0.0s finished\n",
      "[Parallel(n_jobs=1)]: Done  10 out of  10 | elapsed:    0.2s finished\n",
      "[Parallel(n_jobs=1)]: Done  10 out of  10 | elapsed:    0.0s finished\n",
      "[Parallel(n_jobs=1)]: Done  10 out of  10 | elapsed:    0.2s finished\n",
      "[Parallel(n_jobs=1)]: Done  10 out of  10 | elapsed:    0.0s finished\n",
      "[Parallel(n_jobs=1)]: Done  10 out of  10 | elapsed:    0.2s finished\n",
      "[Parallel(n_jobs=1)]: Done  10 out of  10 | elapsed:    0.0s finished\n",
      "[Parallel(n_jobs=1)]: Done  10 out of  10 | elapsed:    0.2s finished\n",
      "[Parallel(n_jobs=1)]: Done  10 out of  10 | elapsed:    0.0s finished\n",
      "[Parallel(n_jobs=1)]: Done  10 out of  10 | elapsed:    0.2s finished\n",
      "[Parallel(n_jobs=1)]: Done  10 out of  10 | elapsed:    0.0s finished\n",
      "[Parallel(n_jobs=1)]: Done  10 out of  10 | elapsed:    0.2s finished\n",
      "[Parallel(n_jobs=1)]: Done  10 out of  10 | elapsed:    0.0s finished\n",
      "[Parallel(n_jobs=1)]: Done  10 out of  10 | elapsed:    0.2s finished\n",
      "[Parallel(n_jobs=1)]: Done  10 out of  10 | elapsed:    0.0s finished\n",
      "[Parallel(n_jobs=1)]: Done  10 out of  10 | elapsed:    0.2s finished\n",
      "[Parallel(n_jobs=1)]: Done  10 out of  10 | elapsed:    0.0s finished\n"
     ]
    },
    {
     "name": "stdout",
     "output_type": "stream",
     "text": [
      "('ETC', 0.93196769561834003)\n",
      "[LibSVM][LibSVM][LibSVM][LibSVM][LibSVM][LibSVM][LibSVM][LibSVM][LibSVM][LibSVM]('SVC', 0.94055576903461446)\n"
     ]
    },
    {
     "name": "stderr",
     "output_type": "stream",
     "text": [
      "[Parallel(n_jobs=1)]: Done  10 out of  10 | elapsed:    0.5s finished\n",
      "[Parallel(n_jobs=1)]: Done  10 out of  10 | elapsed:    0.0s finished\n",
      "[Parallel(n_jobs=1)]: Done  10 out of  10 | elapsed:    0.5s finished\n",
      "[Parallel(n_jobs=1)]: Done  10 out of  10 | elapsed:    0.0s finished\n",
      "[Parallel(n_jobs=1)]: Done  10 out of  10 | elapsed:    0.5s finished\n",
      "[Parallel(n_jobs=1)]: Done  10 out of  10 | elapsed:    0.0s finished\n",
      "[Parallel(n_jobs=1)]: Done  10 out of  10 | elapsed:    0.5s finished\n",
      "[Parallel(n_jobs=1)]: Done  10 out of  10 | elapsed:    0.0s finished\n",
      "[Parallel(n_jobs=1)]: Done  10 out of  10 | elapsed:    0.5s finished\n",
      "[Parallel(n_jobs=1)]: Done  10 out of  10 | elapsed:    0.0s finished\n",
      "[Parallel(n_jobs=1)]: Done  10 out of  10 | elapsed:    0.5s finished\n",
      "[Parallel(n_jobs=1)]: Done  10 out of  10 | elapsed:    0.0s finished\n",
      "[Parallel(n_jobs=1)]: Done  10 out of  10 | elapsed:    0.5s finished\n",
      "[Parallel(n_jobs=1)]: Done  10 out of  10 | elapsed:    0.0s finished\n",
      "[Parallel(n_jobs=1)]: Done  10 out of  10 | elapsed:    0.5s finished\n",
      "[Parallel(n_jobs=1)]: Done  10 out of  10 | elapsed:    0.0s finished\n",
      "[Parallel(n_jobs=1)]: Done  10 out of  10 | elapsed:    0.5s finished\n",
      "[Parallel(n_jobs=1)]: Done  10 out of  10 | elapsed:    0.0s finished\n",
      "[Parallel(n_jobs=1)]: Done  10 out of  10 | elapsed:    0.5s finished\n",
      "[Parallel(n_jobs=1)]: Done  10 out of  10 | elapsed:    0.0s finished\n"
     ]
    },
    {
     "name": "stdout",
     "output_type": "stream",
     "text": [
      "('RF', 0.93354613847686552)\n"
     ]
    },
    {
     "name": "stderr",
     "output_type": "stream",
     "text": [
      "[Parallel(n_jobs=1)]: Done   1 out of   1 | elapsed:   30.4s finished\n",
      "[Parallel(n_jobs=1)]: Done   1 out of   1 | elapsed:    0.0s finished\n",
      "[Parallel(n_jobs=1)]: Done   1 out of   1 | elapsed:   30.1s finished\n",
      "[Parallel(n_jobs=1)]: Done   1 out of   1 | elapsed:    0.0s finished\n",
      "[Parallel(n_jobs=1)]: Done   1 out of   1 | elapsed:   31.4s finished\n",
      "[Parallel(n_jobs=1)]: Done   1 out of   1 | elapsed:    0.0s finished\n",
      "[Parallel(n_jobs=1)]: Done   1 out of   1 | elapsed:   34.2s finished\n",
      "[Parallel(n_jobs=1)]: Done   1 out of   1 | elapsed:    0.0s finished\n",
      "[Parallel(n_jobs=1)]: Done   1 out of   1 | elapsed:   35.4s finished\n",
      "[Parallel(n_jobs=1)]: Done   1 out of   1 | elapsed:    0.0s finished\n",
      "[Parallel(n_jobs=1)]: Done   1 out of   1 | elapsed:   35.1s finished\n",
      "[Parallel(n_jobs=1)]: Done   1 out of   1 | elapsed:    0.0s finished\n",
      "[Parallel(n_jobs=1)]: Done   1 out of   1 | elapsed:   33.4s finished\n",
      "[Parallel(n_jobs=1)]: Done   1 out of   1 | elapsed:    0.1s finished\n",
      "[Parallel(n_jobs=1)]: Done   1 out of   1 | elapsed:   35.5s finished\n",
      "[Parallel(n_jobs=1)]: Done   1 out of   1 | elapsed:    0.0s finished\n",
      "[Parallel(n_jobs=1)]: Done   1 out of   1 | elapsed:   35.0s finished\n",
      "[Parallel(n_jobs=1)]: Done   1 out of   1 | elapsed:    0.0s finished\n",
      "[Parallel(n_jobs=1)]: Done   1 out of   1 | elapsed:   33.3s finished\n",
      "[Parallel(n_jobs=1)]: Done   1 out of   1 | elapsed:    0.0s finished\n"
     ]
    },
    {
     "name": "stdout",
     "output_type": "stream",
     "text": [
      "('BgC', 0.92958828889534106)\n",
      "('AdaBoost', 0.93259214143148539)\n"
     ]
    }
   ],
   "source": [
    "pred_scores_ph = []\n",
    "for k,v in clfs.items():\n",
    "    pred = cv_res(v, X_train, y_train)\n",
    "    print((k, pred))\n",
    "    pred_scores_ph.append((k, pred))"
   ]
  },
  {
   "cell_type": "markdown",
   "metadata": {},
   "source": [
    "Let's see the plot:"
   ]
  },
  {
   "cell_type": "code",
   "execution_count": 105,
   "metadata": {},
   "outputs": [
    {
     "ename": "NameError",
     "evalue": "name 'pred_scores' is not defined",
     "output_type": "error",
     "traceback": [
      "\u001b[0;31m---------------------------------------------------------------------------\u001b[0m",
      "\u001b[0;31mNameError\u001b[0m                                 Traceback (most recent call last)",
      "\u001b[0;32m<ipython-input-105-a0a2435ba7a6>\u001b[0m in \u001b[0;36m<module>\u001b[0;34m()\u001b[0m\n\u001b[0;32m----> 1\u001b[0;31m \u001b[0mpd\u001b[0m\u001b[0;34m.\u001b[0m\u001b[0mDataFrame\u001b[0m\u001b[0;34m(\u001b[0m\u001b[0mpred_scores\u001b[0m\u001b[0;34m)\u001b[0m\u001b[0;34m.\u001b[0m\u001b[0mplot\u001b[0m\u001b[0;34m(\u001b[0m\u001b[0mkind\u001b[0m\u001b[0;34m=\u001b[0m\u001b[0;34m'bar'\u001b[0m\u001b[0;34m,\u001b[0m \u001b[0mylim\u001b[0m\u001b[0;34m=\u001b[0m\u001b[0;34m(\u001b[0m\u001b[0;36m0.1\u001b[0m\u001b[0;34m,\u001b[0m\u001b[0;36m1.0\u001b[0m\u001b[0;34m)\u001b[0m\u001b[0;34m,\u001b[0m \u001b[0mfigsize\u001b[0m\u001b[0;34m=\u001b[0m\u001b[0;34m(\u001b[0m\u001b[0;36m11\u001b[0m\u001b[0;34m,\u001b[0m\u001b[0;36m6\u001b[0m\u001b[0;34m)\u001b[0m\u001b[0;34m,\u001b[0m \u001b[0malign\u001b[0m\u001b[0;34m=\u001b[0m\u001b[0;34m'center'\u001b[0m\u001b[0;34m,\u001b[0m \u001b[0mcolormap\u001b[0m\u001b[0;34m=\u001b[0m\u001b[0;34m\"Accent\"\u001b[0m\u001b[0;34m)\u001b[0m\u001b[0;34m\u001b[0m\u001b[0m\n\u001b[0m\u001b[1;32m      2\u001b[0m \u001b[0mplt\u001b[0m\u001b[0;34m.\u001b[0m\u001b[0mxticks\u001b[0m\u001b[0;34m(\u001b[0m\u001b[0mnp\u001b[0m\u001b[0;34m.\u001b[0m\u001b[0marange\u001b[0m\u001b[0;34m(\u001b[0m\u001b[0;36m9\u001b[0m\u001b[0;34m)\u001b[0m\u001b[0;34m,\u001b[0m\u001b[0mpd\u001b[0m\u001b[0;34m.\u001b[0m\u001b[0mDataFrame\u001b[0m\u001b[0;34m(\u001b[0m\u001b[0mpred_scores\u001b[0m\u001b[0;34m)\u001b[0m\u001b[0;34m[\u001b[0m\u001b[0;36m0\u001b[0m\u001b[0;34m]\u001b[0m\u001b[0;34m)\u001b[0m\u001b[0;34m\u001b[0m\u001b[0m\n\u001b[1;32m      3\u001b[0m \u001b[0mplt\u001b[0m\u001b[0;34m.\u001b[0m\u001b[0mylabel\u001b[0m\u001b[0;34m(\u001b[0m\u001b[0;34m'Roc-Auc score'\u001b[0m\u001b[0;34m)\u001b[0m\u001b[0;34m\u001b[0m\u001b[0m\n\u001b[1;32m      4\u001b[0m \u001b[0mplt\u001b[0m\u001b[0;34m.\u001b[0m\u001b[0mtitle\u001b[0m\u001b[0;34m(\u001b[0m\u001b[0;34m'PH data'\u001b[0m\u001b[0;34m)\u001b[0m\u001b[0;34m\u001b[0m\u001b[0m\n\u001b[1;32m      5\u001b[0m \u001b[0;34m\u001b[0m\u001b[0m\n",
      "\u001b[0;31mNameError\u001b[0m: name 'pred_scores' is not defined"
     ]
    }
   ],
   "source": [
    "pd.DataFrame(pred_scores_ph).plot(kind='bar', ylim=(0.1,1.0), figsize=(11,6), align='center', colormap=\"Accent\")\n",
    "plt.xticks(np.arange(9),pd.DataFrame(pred_scores)[0])\n",
    "plt.ylabel('Roc-Auc score')\n",
    "plt.title('PH data')\n",
    "\n",
    "plt.show()"
   ]
  },
  {
   "cell_type": "markdown",
   "metadata": {},
   "source": [
    "Let's compute the average score:"
   ]
  },
  {
   "cell_type": "code",
   "execution_count": 24,
   "metadata": {},
   "outputs": [
    {
     "name": "stdout",
     "output_type": "stream",
     "text": [
      "0.928820128686\n",
      "0.945664318571\n"
     ]
    }
   ],
   "source": [
    "scores = []\n",
    "\n",
    "for el in pred_scores_ph:\n",
    "    scores.append(el[1])\n",
    "\n",
    "print(np.mean(scores))\n",
    "print(np.max(scores))"
   ]
  },
  {
   "cell_type": "markdown",
   "metadata": {},
   "source": [
    "Average is 0.928820128686, best model is Linear Regression with 0.945664318571 score"
   ]
  },
  {
   "cell_type": "markdown",
   "metadata": {},
   "source": [
    "### 2. Tf-idf attempt:"
   ]
  },
  {
   "cell_type": "code",
   "execution_count": 55,
   "metadata": {},
   "outputs": [],
   "source": [
    "word_vectorizer = TfidfVectorizer(\n",
    "    sublinear_tf=True,\n",
    "    strip_accents='unicode',\n",
    "    analyzer='word',\n",
    "    token_pattern=r'\\w{1,}',\n",
    "    stop_words='english',\n",
    "    ngram_range=(1, 2),\n",
    "    max_features=10000)\n",
    "\n",
    "text_tfidf = word_vectorizer.fit_transform(texts.TEXT).toarray()\n",
    "\n",
    "text_tfidf = pd.DataFrame(text_tfidf)\n",
    "\n",
    "text_tfidf['ID'] = texts['ID']"
   ]
  },
  {
   "cell_type": "code",
   "execution_count": 56,
   "metadata": {},
   "outputs": [],
   "source": [
    "X_train_ti = pd.merge(train, text_tfidf, on='ID', how='left').drop(['ID', 'CATEGORY'], 1).values\n",
    "y_train_ti = pd.factorize(train['CATEGORY'])[0]"
   ]
  },
  {
   "cell_type": "code",
   "execution_count": 58,
   "metadata": {},
   "outputs": [
    {
     "data": {
      "text/plain": [
       "(3825, 10000)"
      ]
     },
     "execution_count": 58,
     "metadata": {},
     "output_type": "execute_result"
    }
   ],
   "source": [
    "X_train_ti.shape"
   ]
  },
  {
   "cell_type": "code",
   "execution_count": 34,
   "metadata": {},
   "outputs": [
    {
     "name": "stdout",
     "output_type": "stream",
     "text": [
      "('ETC', 0.9730094729919424)\n",
      "('AdaBoost', 0.94760455626051476)\n",
      "('BgC', 0.96296286586115054)\n",
      "('KN', 0.81963648864078364)\n",
      "('DT', 0.9079393535993221)\n",
      "('SVC', 0.97529289892127413)\n",
      "('RF', 0.97658532331903503)\n",
      "('LR', 0.98355075588543495)\n"
     ]
    }
   ],
   "source": [
    "pred_scores = []\n",
    "for k,v in clfs.items():\n",
    "    pred = cv_res(v, X_train_ti, y_train_ti)\n",
    "    print((k, pred))\n",
    "    pred_scores.append((k, pred))"
   ]
  },
  {
   "cell_type": "code",
   "execution_count": 36,
   "metadata": {},
   "outputs": [
    {
     "name": "stdout",
     "output_type": "stream",
     "text": [
      "0.943322714435\n",
      "0.983550755885\n"
     ]
    }
   ],
   "source": [
    "scores = []\n",
    "\n",
    "for el in pred_scores:\n",
    "    scores.append(el[1])\n",
    "\n",
    "print(np.mean(scores))\n",
    "print(np.max(scores))"
   ]
  },
  {
   "cell_type": "code",
   "execution_count": 70,
   "metadata": {},
   "outputs": [],
   "source": []
  },
  {
   "cell_type": "code",
   "execution_count": 71,
   "metadata": {},
   "outputs": [
    {
     "data": {
      "text/html": [
       "<div>\n",
       "<table border=\"1\" class=\"dataframe\">\n",
       "  <thead>\n",
       "    <tr style=\"text-align: right;\">\n",
       "      <th></th>\n",
       "      <th>0</th>\n",
       "      <th>Tf-idf</th>\n",
       "      <th>PH</th>\n",
       "    </tr>\n",
       "  </thead>\n",
       "  <tbody>\n",
       "    <tr>\n",
       "      <th>0</th>\n",
       "      <td>ETC</td>\n",
       "      <td>0.973009</td>\n",
       "      <td>0.941332</td>\n",
       "    </tr>\n",
       "    <tr>\n",
       "      <th>1</th>\n",
       "      <td>AdaBoost</td>\n",
       "      <td>0.947605</td>\n",
       "      <td>0.944081</td>\n",
       "    </tr>\n",
       "    <tr>\n",
       "      <th>2</th>\n",
       "      <td>BgC</td>\n",
       "      <td>0.962963</td>\n",
       "      <td>0.931204</td>\n",
       "    </tr>\n",
       "    <tr>\n",
       "      <th>3</th>\n",
       "      <td>KN</td>\n",
       "      <td>0.819636</td>\n",
       "      <td>0.919876</td>\n",
       "    </tr>\n",
       "    <tr>\n",
       "      <th>4</th>\n",
       "      <td>DT</td>\n",
       "      <td>0.907939</td>\n",
       "      <td>0.862231</td>\n",
       "    </tr>\n",
       "    <tr>\n",
       "      <th>5</th>\n",
       "      <td>SVC</td>\n",
       "      <td>0.975293</td>\n",
       "      <td>0.939685</td>\n",
       "    </tr>\n",
       "    <tr>\n",
       "      <th>6</th>\n",
       "      <td>RF</td>\n",
       "      <td>0.976585</td>\n",
       "      <td>0.941808</td>\n",
       "    </tr>\n",
       "    <tr>\n",
       "      <th>7</th>\n",
       "      <td>LR</td>\n",
       "      <td>0.983551</td>\n",
       "      <td>0.945664</td>\n",
       "    </tr>\n",
       "  </tbody>\n",
       "</table>\n",
       "</div>"
      ],
      "text/plain": [
       "          0    Tf-idf        PH\n",
       "0       ETC  0.973009  0.941332\n",
       "1  AdaBoost  0.947605  0.944081\n",
       "2       BgC  0.962963  0.931204\n",
       "3        KN  0.819636  0.919876\n",
       "4        DT  0.907939  0.862231\n",
       "5       SVC  0.975293  0.939685\n",
       "6        RF  0.976585  0.941808\n",
       "7        LR  0.983551  0.945664"
      ]
     },
     "execution_count": 71,
     "metadata": {},
     "output_type": "execute_result"
    }
   ],
   "source": [
    "a[2] = b[1]\n",
    "a = a.rename(columns={1: 'Tf-idf', 2: 'PH'})\n",
    "a"
   ]
  },
  {
   "cell_type": "markdown",
   "metadata": {},
   "source": [
    "Comparison of perfomance on spam-sms dataset."
   ]
  },
  {
   "cell_type": "code",
   "execution_count": 72,
   "metadata": {},
   "outputs": [
    {
     "data": {
      "image/png": "[encoded data removed]",
      "text/plain": [
       "<matplotlib.figure.Figure at 0x1267389b0>"
      ]
     },
     "metadata": {},
     "output_type": "display_data"
    }
   ],
   "source": [
    "a.plot(x=0, y=['Tf-idf', 'PH'], kind=\"bar\", figsize=(11,6), align='center', colormap=\"Accent\")\n",
    "plt.xticks(np.arange(9),pd.DataFrame(pred_scores)[0])\n",
    "plt.ylabel('Roc-Auc score')\n",
    "plt.xlabel('Model')\n",
    "plt.title('PH data')\n",
    "plt.show()\n"
   ]
  },
  {
   "cell_type": "markdown",
   "metadata": {},
   "source": [
    "### 3. Bag of words attempt:"
   ]
  },
  {
   "cell_type": "code",
   "execution_count": 14,
   "metadata": {},
   "outputs": [],
   "source": [
    "from sklearn.feature_extraction.text import CountVectorizer"
   ]
  },
  {
   "cell_type": "code",
   "execution_count": 17,
   "metadata": {},
   "outputs": [],
   "source": [
    "bigram_vectorizer = CountVectorizer(ngram_range=(1, 2), token_pattern=r'\\b\\w+\\b', min_df=1)\n",
    "\n",
    "text_bow = bigram_vectorizer.fit_transform(texts.TEXT).toarray()\n",
    "\n",
    "text_bow = pd.DataFrame(text_bow)\n",
    "\n",
    "text_bow['ID'] = texts['ID']"
   ]
  },
  {
   "cell_type": "code",
   "execution_count": 20,
   "metadata": {},
   "outputs": [],
   "source": [
    "X_train_bow = pd.merge(train, text_bow, on='ID', how='left').drop(['ID', 'CATEGORY'], 1).values\n",
    "y_train_bow = pd.factorize(train['CATEGORY'])[0]"
   ]
  },
  {
   "cell_type": "markdown",
   "metadata": {},
   "source": [
    "Size of bow dataset:"
   ]
  },
  {
   "cell_type": "code",
   "execution_count": 54,
   "metadata": {},
   "outputs": [
    {
     "data": {
      "text/plain": [
       "(3825, 56309)"
      ]
     },
     "execution_count": 54,
     "metadata": {},
     "output_type": "execute_result"
    }
   ],
   "source": [
    "X_train_bow.shape"
   ]
  },
  {
   "cell_type": "code",
   "execution_count": 37,
   "metadata": {},
   "outputs": [
    {
     "name": "stdout",
     "output_type": "stream",
     "text": [
      "('DT', 0.90851949055113845)\n",
      "('KN', 0.8326076762721808)\n",
      "[LibLinear][LibLinear][LibLinear][LibLinear][LibLinear][LibLinear][LibLinear][LibLinear][LibLinear][LibLinear]('LR', 0.98443192439763028)\n"
     ]
    },
    {
     "name": "stderr",
     "output_type": "stream",
     "text": [
      "[Parallel(n_jobs=1)]: Done  10 out of  10 | elapsed:   22.2s finished\n",
      "[Parallel(n_jobs=1)]: Done  10 out of  10 | elapsed:    0.0s finished\n",
      "[Parallel(n_jobs=1)]: Done  10 out of  10 | elapsed:   21.6s finished\n",
      "[Parallel(n_jobs=1)]: Done  10 out of  10 | elapsed:    0.0s finished\n",
      "[Parallel(n_jobs=1)]: Done  10 out of  10 | elapsed:   22.0s finished\n",
      "[Parallel(n_jobs=1)]: Done  10 out of  10 | elapsed:    0.0s finished\n",
      "[Parallel(n_jobs=1)]: Done  10 out of  10 | elapsed:   21.5s finished\n",
      "[Parallel(n_jobs=1)]: Done  10 out of  10 | elapsed:    0.0s finished\n",
      "[Parallel(n_jobs=1)]: Done  10 out of  10 | elapsed:   19.8s finished\n",
      "[Parallel(n_jobs=1)]: Done  10 out of  10 | elapsed:    0.0s finished\n",
      "[Parallel(n_jobs=1)]: Done  10 out of  10 | elapsed:   22.0s finished\n",
      "[Parallel(n_jobs=1)]: Done  10 out of  10 | elapsed:    0.0s finished\n",
      "[Parallel(n_jobs=1)]: Done  10 out of  10 | elapsed:   20.1s finished\n",
      "[Parallel(n_jobs=1)]: Done  10 out of  10 | elapsed:    0.0s finished\n",
      "[Parallel(n_jobs=1)]: Done  10 out of  10 | elapsed:   19.2s finished\n",
      "[Parallel(n_jobs=1)]: Done  10 out of  10 | elapsed:    0.0s finished\n",
      "[Parallel(n_jobs=1)]: Done  10 out of  10 | elapsed:   21.0s finished\n",
      "[Parallel(n_jobs=1)]: Done  10 out of  10 | elapsed:    0.0s finished\n",
      "[Parallel(n_jobs=1)]: Done  10 out of  10 | elapsed:   20.2s finished\n",
      "[Parallel(n_jobs=1)]: Done  10 out of  10 | elapsed:    0.0s finished\n"
     ]
    },
    {
     "name": "stdout",
     "output_type": "stream",
     "text": [
      "('ETC', 0.97518123980811411)\n",
      "[LibSVM][LibSVM][LibSVM][LibSVM][LibSVM][LibSVM][LibSVM][LibSVM][LibSVM][LibSVM]('SVC', 0.96041436937546809)\n"
     ]
    },
    {
     "name": "stderr",
     "output_type": "stream",
     "text": [
      "[Parallel(n_jobs=1)]: Done  10 out of  10 | elapsed:    7.8s finished\n",
      "[Parallel(n_jobs=1)]: Done  10 out of  10 | elapsed:    0.0s finished\n",
      "[Parallel(n_jobs=1)]: Done  10 out of  10 | elapsed:    9.5s finished\n",
      "[Parallel(n_jobs=1)]: Done  10 out of  10 | elapsed:    0.0s finished\n",
      "[Parallel(n_jobs=1)]: Done  10 out of  10 | elapsed:    7.8s finished\n",
      "[Parallel(n_jobs=1)]: Done  10 out of  10 | elapsed:    0.0s finished\n",
      "[Parallel(n_jobs=1)]: Done  10 out of  10 | elapsed:    9.1s finished\n",
      "[Parallel(n_jobs=1)]: Done  10 out of  10 | elapsed:    0.0s finished\n",
      "[Parallel(n_jobs=1)]: Done  10 out of  10 | elapsed:    8.5s finished\n",
      "[Parallel(n_jobs=1)]: Done  10 out of  10 | elapsed:    0.0s finished\n",
      "[Parallel(n_jobs=1)]: Done  10 out of  10 | elapsed:    8.3s finished\n",
      "[Parallel(n_jobs=1)]: Done  10 out of  10 | elapsed:    0.0s finished\n",
      "[Parallel(n_jobs=1)]: Done  10 out of  10 | elapsed:    8.5s finished\n",
      "[Parallel(n_jobs=1)]: Done  10 out of  10 | elapsed:    0.0s finished\n",
      "[Parallel(n_jobs=1)]: Done  10 out of  10 | elapsed:    9.1s finished\n",
      "[Parallel(n_jobs=1)]: Done  10 out of  10 | elapsed:    0.0s finished\n",
      "[Parallel(n_jobs=1)]: Done  10 out of  10 | elapsed:    9.0s finished\n",
      "[Parallel(n_jobs=1)]: Done  10 out of  10 | elapsed:    0.0s finished\n",
      "[Parallel(n_jobs=1)]: Done  10 out of  10 | elapsed:    9.0s finished\n",
      "[Parallel(n_jobs=1)]: Done  10 out of  10 | elapsed:    0.0s finished\n"
     ]
    },
    {
     "name": "stdout",
     "output_type": "stream",
     "text": [
      "('RF', 0.96976590651599825)\n"
     ]
    },
    {
     "name": "stderr",
     "output_type": "stream",
     "text": [
      "[Parallel(n_jobs=1)]: Done   1 out of   1 | elapsed:  2.1min finished\n",
      "[Parallel(n_jobs=1)]: Done   1 out of   1 | elapsed:    2.3s finished\n",
      "[Parallel(n_jobs=1)]: Done   1 out of   1 | elapsed:  2.1min finished\n",
      "[Parallel(n_jobs=1)]: Done   1 out of   1 | elapsed:    2.3s finished\n",
      "[Parallel(n_jobs=1)]: Done   1 out of   1 | elapsed:  2.1min finished\n",
      "[Parallel(n_jobs=1)]: Done   1 out of   1 | elapsed:    2.3s finished\n",
      "[Parallel(n_jobs=1)]: Done   1 out of   1 | elapsed:  2.1min finished\n",
      "[Parallel(n_jobs=1)]: Done   1 out of   1 | elapsed:    2.4s finished\n",
      "[Parallel(n_jobs=1)]: Done   1 out of   1 | elapsed:  2.1min finished\n",
      "[Parallel(n_jobs=1)]: Done   1 out of   1 | elapsed:    2.3s finished\n",
      "[Parallel(n_jobs=1)]: Done   1 out of   1 | elapsed:  2.1min finished\n",
      "[Parallel(n_jobs=1)]: Done   1 out of   1 | elapsed:    2.3s finished\n",
      "[Parallel(n_jobs=1)]: Done   1 out of   1 | elapsed:  2.1min finished\n",
      "[Parallel(n_jobs=1)]: Done   1 out of   1 | elapsed:    2.3s finished\n",
      "[Parallel(n_jobs=1)]: Done   1 out of   1 | elapsed:  2.0min finished\n",
      "[Parallel(n_jobs=1)]: Done   1 out of   1 | elapsed:    2.3s finished\n",
      "[Parallel(n_jobs=1)]: Done   1 out of   1 | elapsed:  2.1min finished\n",
      "[Parallel(n_jobs=1)]: Done   1 out of   1 | elapsed:    2.3s finished\n",
      "[Parallel(n_jobs=1)]: Done   1 out of   1 | elapsed:  2.1min finished\n",
      "[Parallel(n_jobs=1)]: Done   1 out of   1 | elapsed:    2.3s finished\n"
     ]
    },
    {
     "name": "stdout",
     "output_type": "stream",
     "text": [
      "('BgC', 0.96025577313028221)\n",
      "('AdaBoost', 0.96373613179597106)\n"
     ]
    }
   ],
   "source": [
    "pred_scores_bow = []\n",
    "for k,v in clfs.items():\n",
    "    pred = cv_res(v, X_train_bow, y_train_bow)\n",
    "    print((k, pred))\n",
    "    pred_scores_bow.append((k, pred))"
   ]
  },
  {
   "cell_type": "code",
   "execution_count": 38,
   "metadata": {},
   "outputs": [
    {
     "data": {
      "text/plain": [
       "[('DT', 0.90851949055113845),\n",
       " ('KN', 0.8326076762721808),\n",
       " ('LR', 0.98443192439763028),\n",
       " ('ETC', 0.97518123980811411),\n",
       " ('SVC', 0.96041436937546809),\n",
       " ('RF', 0.96976590651599825),\n",
       " ('BgC', 0.96025577313028221),\n",
       " ('AdaBoost', 0.96373613179597106)]"
      ]
     },
     "execution_count": 38,
     "metadata": {},
     "output_type": "execute_result"
    }
   ],
   "source": [
    "pred_scores_bow"
   ]
  },
  {
   "cell_type": "code",
   "execution_count": 39,
   "metadata": {},
   "outputs": [],
   "source": [
    "pred_scores_tdidf = [('ETC', 0.9730094729919424),\n",
    "('AdaBoost', 0.94760455626051476),\n",
    "('BgC', 0.96296286586115054),\n",
    "('KN', 0.81963648864078364),\n",
    "('DT', 0.9079393535993221),\n",
    "('SVC', 0.97529289892127413),\n",
    "('RF', 0.97658532331903503),\n",
    "('LR', 0.98355075588543495)]"
   ]
  },
  {
   "cell_type": "code",
   "execution_count": 40,
   "metadata": {},
   "outputs": [],
   "source": [
    "pred_scores_persist = [('ETC', 0.94133249802586216),\n",
    "('AdaBoost', 0.94408050830103107),\n",
    "('BgC', 0.93120357971773282),\n",
    "('KN', 0.91987607214531319),\n",
    "('DT', 0.86223097399407655),\n",
    "('SVC', 0.93968547882396436),\n",
    "('RF', 0.94180839763139979),\n",
    "('LR', 0.94566431857093036)]"
   ]
  },
  {
   "cell_type": "code",
   "execution_count": 41,
   "metadata": {},
   "outputs": [],
   "source": [
    "a = pd.DataFrame(pred_scores_bow)\n",
    "b = pd.DataFrame(pred_scores_tdidf)\n",
    "c = pd.DataFrame(pred_scores_persist)"
   ]
  },
  {
   "cell_type": "code",
   "execution_count": 42,
   "metadata": {},
   "outputs": [],
   "source": [
    "a[2] = b[1]\n",
    "a[3] = c[1]"
   ]
  },
  {
   "cell_type": "code",
   "execution_count": 43,
   "metadata": {},
   "outputs": [
    {
     "data": {
      "text/html": [
       "<div>\n",
       "<table border=\"1\" class=\"dataframe\">\n",
       "  <thead>\n",
       "    <tr style=\"text-align: right;\">\n",
       "      <th></th>\n",
       "      <th>0</th>\n",
       "      <th>1</th>\n",
       "      <th>2</th>\n",
       "      <th>3</th>\n",
       "    </tr>\n",
       "  </thead>\n",
       "  <tbody>\n",
       "    <tr>\n",
       "      <th>0</th>\n",
       "      <td>DT</td>\n",
       "      <td>0.908519</td>\n",
       "      <td>0.973009</td>\n",
       "      <td>0.941332</td>\n",
       "    </tr>\n",
       "    <tr>\n",
       "      <th>1</th>\n",
       "      <td>KN</td>\n",
       "      <td>0.832608</td>\n",
       "      <td>0.947605</td>\n",
       "      <td>0.944081</td>\n",
       "    </tr>\n",
       "    <tr>\n",
       "      <th>2</th>\n",
       "      <td>LR</td>\n",
       "      <td>0.984432</td>\n",
       "      <td>0.962963</td>\n",
       "      <td>0.931204</td>\n",
       "    </tr>\n",
       "    <tr>\n",
       "      <th>3</th>\n",
       "      <td>ETC</td>\n",
       "      <td>0.975181</td>\n",
       "      <td>0.819636</td>\n",
       "      <td>0.919876</td>\n",
       "    </tr>\n",
       "    <tr>\n",
       "      <th>4</th>\n",
       "      <td>SVC</td>\n",
       "      <td>0.960414</td>\n",
       "      <td>0.907939</td>\n",
       "      <td>0.862231</td>\n",
       "    </tr>\n",
       "    <tr>\n",
       "      <th>5</th>\n",
       "      <td>RF</td>\n",
       "      <td>0.969766</td>\n",
       "      <td>0.975293</td>\n",
       "      <td>0.939685</td>\n",
       "    </tr>\n",
       "    <tr>\n",
       "      <th>6</th>\n",
       "      <td>BgC</td>\n",
       "      <td>0.960256</td>\n",
       "      <td>0.976585</td>\n",
       "      <td>0.941808</td>\n",
       "    </tr>\n",
       "    <tr>\n",
       "      <th>7</th>\n",
       "      <td>AdaBoost</td>\n",
       "      <td>0.963736</td>\n",
       "      <td>0.983551</td>\n",
       "      <td>0.945664</td>\n",
       "    </tr>\n",
       "  </tbody>\n",
       "</table>\n",
       "</div>"
      ],
      "text/plain": [
       "          0         1         2         3\n",
       "0        DT  0.908519  0.973009  0.941332\n",
       "1        KN  0.832608  0.947605  0.944081\n",
       "2        LR  0.984432  0.962963  0.931204\n",
       "3       ETC  0.975181  0.819636  0.919876\n",
       "4       SVC  0.960414  0.907939  0.862231\n",
       "5        RF  0.969766  0.975293  0.939685\n",
       "6       BgC  0.960256  0.976585  0.941808\n",
       "7  AdaBoost  0.963736  0.983551  0.945664"
      ]
     },
     "execution_count": 43,
     "metadata": {},
     "output_type": "execute_result"
    }
   ],
   "source": [
    "a"
   ]
  },
  {
   "cell_type": "code",
   "execution_count": 44,
   "metadata": {},
   "outputs": [],
   "source": [
    "a = a.rename(columns={1: 'BoW', 2: 'Tf-idf', 3: 'w2v + PH'})"
   ]
  },
  {
   "cell_type": "code",
   "execution_count": 59,
   "metadata": {},
   "outputs": [
    {
     "data": {
      "image/png": "[encoded data removed]",
      "text/plain": [
       "<matplotlib.figure.Figure at 0x127fab978>"
      ]
     },
     "metadata": {},
     "output_type": "display_data"
    }
   ],
   "source": [
    "a.plot(x=0, y=['Tf-idf', 'w2v + PH', 'BoW'], kind=\"bar\", figsize=(11,6), align='center', colormap=\"Accent\")\n",
    "plt.xticks(np.arange(9),pd.DataFrame(pred_scores_tdidf)[0])\n",
    "plt.ylabel('Roc-Auc score')\n",
    "plt.xlabel('Model')\n",
    "plt.title('Different models perfomance on spam dataset')\n",
    "plt.show()"
   ]
  },
  {
   "cell_type": "code",
   "execution_count": 50,
   "metadata": {},
   "outputs": [
    {
     "data": {
      "text/plain": [
       "('SVC', 0.96041436937546809)"
      ]
     },
     "execution_count": 50,
     "metadata": {},
     "output_type": "execute_result"
    }
   ],
   "source": [
    "max(pred_scores_bow)"
   ]
  },
  {
   "cell_type": "code",
   "execution_count": 53,
   "metadata": {},
   "outputs": [
    {
     "name": "stdout",
     "output_type": "stream",
     "text": [
      "0.944364063981\n",
      "0.984431924398\n"
     ]
    }
   ],
   "source": [
    "scores = []\n",
    "\n",
    "for el in pred_scores_bow:\n",
    "    scores.append(el[1])\n",
    "\n",
    "print(np.mean(scores))\n",
    "print(np.max(scores))"
   ]
  },
  {
   "cell_type": "markdown",
   "metadata": {},
   "source": [
    "### 4. Resume:\n",
    "\n",
    "Size of our w2v + PH dataset is much-much smaller:\n",
    "\n",
    "* 1390 columns --  w2v + PH\n",
    "* 10000 columns -- tf-idf\n",
    "* 56309 columns -- BoW\n",
    "\n",
    "Perfomance is comparable to two of it's main competitors: \n",
    "\n",
    "* BoW mean: 0.944364063981, max: 0.96041436937546809 (Support Vector Machines)\n",
    "* Tf-idf mean: 0.943322714435, max: 0.983550755885 (Linear regression)\n",
    "* w2v + PH mean: 0.928820128686, max: 0.945664318571 (Linear regression)\n",
    "\n",
    "As we can see even with reaaly simple idea of using x and y coordinates and features it can perform comparably to a BoW and tf-idf trained models. It is also really stable. \n",
    "\n",
    "Need to work on w2v model settings and think of different PH attributes that we can get. \n"
   ]
  }
 ],
 "metadata": {
  "kernelspec": {
   "display_name": "Python 3",
   "language": "python",
   "name": "python3"
  },
  "language_info": {
   "codemirror_mode": {
    "name": "ipython",
    "version": 3
   },
   "file_extension": ".py",
   "mimetype": "text/x-python",
   "name": "python",
   "nbconvert_exporter": "python",
   "pygments_lexer": "ipython3",
   "version": "3.5.1"
  }
 },
 "nbformat": 4,
 "nbformat_minor": 2
}
